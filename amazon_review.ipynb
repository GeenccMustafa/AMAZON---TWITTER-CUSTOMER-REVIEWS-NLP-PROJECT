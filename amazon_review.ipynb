{
 "cells": [
  {
   "cell_type": "markdown",
   "id": "928f69f2-8a67-4def-99d6-08fe7ac09505",
   "metadata": {},
   "source": [
    "NATURAL LANGUAGE PROCESSING \"Amazon Reviews\" vs \"Twitter Comments\"\n"
   ]
  },
  {
   "cell_type": "markdown",
   "id": "44a3b9e3-e4a8-40f9-919b-8dd640607340",
   "metadata": {},
   "source": [
    "Scraping Data From Amazon"
   ]
  },
  {
   "cell_type": "code",
   "execution_count": 3,
   "id": "2639c8a7-de3d-4449-8af6-852ddaece876",
   "metadata": {},
   "outputs": [],
   "source": [
    "import pandas as pd\n",
    "import numpy as np\n",
    "import csv\n",
    "from bs4 import BeautifulSoup\n",
    "from selenium import webdriver\n",
    "from msedge.selenium_tools import Edge, EdgeOptions\n",
    "import snscrape.modules.twitter as sntwitter"
   ]
  },
  {
   "cell_type": "code",
   "execution_count": 6,
   "id": "5a488b1e-e32e-4e0f-82de-e2417d6423a0",
   "metadata": {},
   "outputs": [],
   "source": [
    "browser = webdriver.Chrome(executable_path='C:/Users/musta/Desktop/chromedriver')\n",
    "url_lst = []\n",
    "data_set = []\n",
    "\n",
    "def get_revies_url(start, end):\n",
    "    for page in range(start, end):\n",
    "        url = f\"https://www.amazon.com/Fire-TV-Stick-4K-with-Alexa-Voice-Remote/product-reviews/B079QHML21/ref=cm_cr_dp_d_show_all_btm_next{page}?ie=UTF8&reviewerType=all_reviews&pageNumber={page}\"\n",
    "        url_lst.append(url)\n",
    "    return url_lst\n",
    "\n",
    "def get_reviews(start, end):\n",
    "    get_revies_url(start, end)\n",
    "    for url in url_lst:\n",
    "        browser.get(url)\n",
    "        soup = BeautifulSoup(browser.page_source, 'html.parser')\n",
    "        results = soup.find_all('div', {'class': 'a-section celwidget'})\n",
    "        \n",
    "        for review in results:\n",
    "            try:\n",
    "                new_review = review.find('span', 'a-size-base review-text review-text-content').text\n",
    "    \n",
    "            except AttributeError:\n",
    "                new_review = ' '\n",
    "        \n",
    "            try:\n",
    "                star = review.find('span', 'a-icon-alt').text\n",
    "            \n",
    "            except AttributeError:\n",
    "                star = ' '\n",
    "            data_set.append([new_review, star])\n",
    "    #browser.close()\n",
    "    return len(data_set)"
   ]
  },
  {
   "cell_type": "code",
   "execution_count": null,
   "id": "665d34fb-ba75-4289-a348-3c9c8d7d1a2c",
   "metadata": {
    "tags": []
   },
   "outputs": [],
   "source": [
    "get_reviewa(0,500)"
   ]
  },
  {
   "cell_type": "code",
   "execution_count": 8,
   "id": "d6d9bcba-6bae-483a-8e36-f20f7a4b1154",
   "metadata": {},
   "outputs": [],
   "source": [
    "df = pd.DataFrame(data_set, columns =['Review', 'Rate'])\n",
    "df.to_csv('amazon.csv')"
   ]
  },
  {
   "cell_type": "code",
   "execution_count": 4,
   "id": "a667d7f1-3d90-422e-9b4a-37f987e30b42",
   "metadata": {},
   "outputs": [],
   "source": [
    "amazon = pd.read_csv(\"amazonnn.csv\")"
   ]
  },
  {
   "cell_type": "markdown",
   "id": "395731f8-5343-497f-931b-2325acdab578",
   "metadata": {},
   "source": [
    "Scraping Tweets From Twitter"
   ]
  },
  {
   "cell_type": "code",
   "execution_count": null,
   "id": "ae1e4dc0-e211-42ce-b0d3-ddc20a21984e",
   "metadata": {},
   "outputs": [],
   "source": [
    "import itertools\n",
    "from twitter import *\n",
    "firetv_df = pd.DataFrame(itertools.islice(sntwitter.TwitterSearchScraper(\n",
    "    'Fire-TV-Stick near:\"Kansas\" within:100000km').get_items(), 500000))[['date', 'content']]"
   ]
  },
  {
   "cell_type": "code",
   "execution_count": null,
   "id": "2a507fdd-064d-4e0b-a1c0-f59f5da7675f",
   "metadata": {},
   "outputs": [],
   "source": [
    "firetv_df.to_csv('fire_tweets.csv')"
   ]
  },
  {
   "cell_type": "code",
   "execution_count": null,
   "id": "267bfa74-bf67-419c-b8cd-d27f76e520f0",
   "metadata": {},
   "outputs": [],
   "source": [
    "#Creating a new dataframe \n",
    "firetv_df = pd.DataFrame(firetv_tweets, columns=['Datetime', 'Tweet Id', 'Text', 'Username'])"
   ]
  },
  {
   "cell_type": "markdown",
   "id": "a32dd6d1-9c3a-4aa2-87a2-5ba74bd4094e",
   "metadata": {},
   "source": [
    "Uploading Datasets"
   ]
  },
  {
   "cell_type": "code",
   "execution_count": 77,
   "id": "6094ba0f-82b9-4c22-8687-b4469d3c1346",
   "metadata": {},
   "outputs": [],
   "source": [
    "#Uploading datasets\n",
    "amazon = pd.read_csv(\"amazon.csv\")\n",
    "tweets = pd.read_csv(\"fire_tweets.csv\")\n",
    "tweet_data = tweets.copy()\n",
    "amazon_data = amazon.copy()"
   ]
  },
  {
   "cell_type": "code",
   "execution_count": 78,
   "id": "bf3cd229-bb35-4132-9a98-7f0307b8986f",
   "metadata": {},
   "outputs": [
    {
     "data": {
      "text/html": [
       "<div>\n",
       "<style scoped>\n",
       "    .dataframe tbody tr th:only-of-type {\n",
       "        vertical-align: middle;\n",
       "    }\n",
       "\n",
       "    .dataframe tbody tr th {\n",
       "        vertical-align: top;\n",
       "    }\n",
       "\n",
       "    .dataframe thead th {\n",
       "        text-align: right;\n",
       "    }\n",
       "</style>\n",
       "<table border=\"1\" class=\"dataframe\">\n",
       "  <thead>\n",
       "    <tr style=\"text-align: right;\">\n",
       "      <th></th>\n",
       "      <th>Unnamed: 0</th>\n",
       "      <th>Review</th>\n",
       "      <th>Rate</th>\n",
       "    </tr>\n",
       "  </thead>\n",
       "  <tbody>\n",
       "    <tr>\n",
       "      <th>0</th>\n",
       "      <td>0</td>\n",
       "      <td>\\n\\n  I received the Fire TV Stick 4K on launc...</td>\n",
       "      <td>5.0 out of 5 stars</td>\n",
       "    </tr>\n",
       "    <tr>\n",
       "      <th>1</th>\n",
       "      <td>1</td>\n",
       "      <td>\\n\\n  Let me tell you, I was super excited for...</td>\n",
       "      <td>3.0 out of 5 stars</td>\n",
       "    </tr>\n",
       "    <tr>\n",
       "      <th>2</th>\n",
       "      <td>2</td>\n",
       "      <td>\\n\\n\\n            Your browser does not suppor...</td>\n",
       "      <td>4.0 out of 5 stars</td>\n",
       "    </tr>\n",
       "    <tr>\n",
       "      <th>3</th>\n",
       "      <td>3</td>\n",
       "      <td>\\n\\n  Ok, so if your like me you wonder what e...</td>\n",
       "      <td>4.0 out of 5 stars</td>\n",
       "    </tr>\n",
       "    <tr>\n",
       "      <th>4</th>\n",
       "      <td>4</td>\n",
       "      <td>\\n\\n  Our main streaming service is DirecTV No...</td>\n",
       "      <td>1.0 out of 5 stars</td>\n",
       "    </tr>\n",
       "  </tbody>\n",
       "</table>\n",
       "</div>"
      ],
      "text/plain": [
       "   Unnamed: 0                                             Review  \\\n",
       "0           0  \\n\\n  I received the Fire TV Stick 4K on launc...   \n",
       "1           1  \\n\\n  Let me tell you, I was super excited for...   \n",
       "2           2  \\n\\n\\n            Your browser does not suppor...   \n",
       "3           3  \\n\\n  Ok, so if your like me you wonder what e...   \n",
       "4           4  \\n\\n  Our main streaming service is DirecTV No...   \n",
       "\n",
       "                 Rate  \n",
       "0  5.0 out of 5 stars  \n",
       "1  3.0 out of 5 stars  \n",
       "2  4.0 out of 5 stars  \n",
       "3  4.0 out of 5 stars  \n",
       "4  1.0 out of 5 stars  "
      ]
     },
     "execution_count": 78,
     "metadata": {},
     "output_type": "execute_result"
    }
   ],
   "source": [
    "amazon_data.head()"
   ]
  },
  {
   "cell_type": "code",
   "execution_count": 32,
   "id": "fc2b435d-3d58-4cbf-b1be-ce6dcd3e86c3",
   "metadata": {},
   "outputs": [
    {
     "data": {
      "text/html": [
       "<div>\n",
       "<style scoped>\n",
       "    .dataframe tbody tr th:only-of-type {\n",
       "        vertical-align: middle;\n",
       "    }\n",
       "\n",
       "    .dataframe tbody tr th {\n",
       "        vertical-align: top;\n",
       "    }\n",
       "\n",
       "    .dataframe thead th {\n",
       "        text-align: right;\n",
       "    }\n",
       "</style>\n",
       "<table border=\"1\" class=\"dataframe\">\n",
       "  <thead>\n",
       "    <tr style=\"text-align: right;\">\n",
       "      <th></th>\n",
       "      <th>Unnamed: 0</th>\n",
       "      <th>date</th>\n",
       "      <th>content</th>\n",
       "    </tr>\n",
       "  </thead>\n",
       "  <tbody>\n",
       "    <tr>\n",
       "      <th>0</th>\n",
       "      <td>0</td>\n",
       "      <td>2021-12-09 18:23:16+00:00</td>\n",
       "      <td>Fire TV Stick 4K Max Review: Worth The Wait   ...</td>\n",
       "    </tr>\n",
       "    <tr>\n",
       "      <th>1</th>\n",
       "      <td>1</td>\n",
       "      <td>2021-12-09 11:30:16+00:00</td>\n",
       "      <td>New post: Possible FREE $5 Prime Video Credit ...</td>\n",
       "    </tr>\n",
       "    <tr>\n",
       "      <th>2</th>\n",
       "      <td>2</td>\n",
       "      <td>2021-12-09 09:05:28+00:00</td>\n",
       "      <td>@wlrosetyler Yeah, I too love Google Chromecas...</td>\n",
       "    </tr>\n",
       "    <tr>\n",
       "      <th>3</th>\n",
       "      <td>3</td>\n",
       "      <td>2021-12-09 08:04:42+00:00</td>\n",
       "      <td>https://t.co/PxC0jTGGWu\\nEnds December 9th 10:...</td>\n",
       "    </tr>\n",
       "    <tr>\n",
       "      <th>4</th>\n",
       "      <td>4</td>\n",
       "      <td>2021-12-08 15:15:05+00:00</td>\n",
       "      <td>Possible FREE $5 Prime Video Credit (Amazon Fi...</td>\n",
       "    </tr>\n",
       "  </tbody>\n",
       "</table>\n",
       "</div>"
      ],
      "text/plain": [
       "   Unnamed: 0                       date  \\\n",
       "0           0  2021-12-09 18:23:16+00:00   \n",
       "1           1  2021-12-09 11:30:16+00:00   \n",
       "2           2  2021-12-09 09:05:28+00:00   \n",
       "3           3  2021-12-09 08:04:42+00:00   \n",
       "4           4  2021-12-08 15:15:05+00:00   \n",
       "\n",
       "                                             content  \n",
       "0  Fire TV Stick 4K Max Review: Worth The Wait   ...  \n",
       "1  New post: Possible FREE $5 Prime Video Credit ...  \n",
       "2  @wlrosetyler Yeah, I too love Google Chromecas...  \n",
       "3  https://t.co/PxC0jTGGWu\\nEnds December 9th 10:...  \n",
       "4  Possible FREE $5 Prime Video Credit (Amazon Fi...  "
      ]
     },
     "execution_count": 32,
     "metadata": {},
     "output_type": "execute_result"
    }
   ],
   "source": [
    "tweet_data.head()"
   ]
  },
  {
   "cell_type": "markdown",
   "id": "b834d770-842f-47ed-a574-21ac4b386dd6",
   "metadata": {},
   "source": [
    "DATA PREPROCESSING"
   ]
  },
  {
   "cell_type": "code",
   "execution_count": 33,
   "id": "8ff166a1-cd48-449a-85b6-0f847690156b",
   "metadata": {},
   "outputs": [],
   "source": [
    "#Twitter Dataset"
   ]
  },
  {
   "cell_type": "code",
   "execution_count": 34,
   "id": "4c98385d-2874-4cc7-9fc6-9b5efc0a0751",
   "metadata": {},
   "outputs": [
    {
     "name": "stdout",
     "output_type": "stream",
     "text": [
      "<class 'pandas.core.frame.DataFrame'>\n",
      "RangeIndex: 2271 entries, 0 to 2270\n",
      "Data columns (total 3 columns):\n",
      " #   Column      Non-Null Count  Dtype \n",
      "---  ------      --------------  ----- \n",
      " 0   Unnamed: 0  2271 non-null   int64 \n",
      " 1   date        2271 non-null   object\n",
      " 2   content     2271 non-null   object\n",
      "dtypes: int64(1), object(2)\n",
      "memory usage: 53.4+ KB\n"
     ]
    }
   ],
   "source": [
    "tweet_data.info()"
   ]
  },
  {
   "cell_type": "code",
   "execution_count": 35,
   "id": "2a155195-4997-49e3-aea0-a1de3c3bca41",
   "metadata": {},
   "outputs": [
    {
     "data": {
      "text/plain": [
       "Unnamed: 0    2271\n",
       "date          2271\n",
       "content       2266\n",
       "dtype: int64"
      ]
     },
     "execution_count": 35,
     "metadata": {},
     "output_type": "execute_result"
    }
   ],
   "source": [
    "tweet_data.nunique()"
   ]
  },
  {
   "cell_type": "code",
   "execution_count": 36,
   "id": "e785f7dd-9203-4060-a4fc-4a58bf211cad",
   "metadata": {},
   "outputs": [],
   "source": [
    "#droping duplicate values\n",
    "tweet_data.drop_duplicates(inplace=True)"
   ]
  },
  {
   "cell_type": "code",
   "execution_count": 12,
   "id": "5696dd69-1595-4fc8-a333-57bc763fd8d2",
   "metadata": {},
   "outputs": [],
   "source": [
    "#Amazon Dataset"
   ]
  },
  {
   "cell_type": "code",
   "execution_count": 79,
   "id": "bc28dc4e-4b2f-4699-8f45-9467df8b0bfe",
   "metadata": {},
   "outputs": [
    {
     "name": "stdout",
     "output_type": "stream",
     "text": [
      "<class 'pandas.core.frame.DataFrame'>\n",
      "RangeIndex: 4882 entries, 0 to 4881\n",
      "Data columns (total 3 columns):\n",
      " #   Column      Non-Null Count  Dtype \n",
      "---  ------      --------------  ----- \n",
      " 0   Unnamed: 0  4882 non-null   int64 \n",
      " 1   Review      4882 non-null   object\n",
      " 2   Rate        4882 non-null   object\n",
      "dtypes: int64(1), object(2)\n",
      "memory usage: 114.5+ KB\n"
     ]
    }
   ],
   "source": [
    "amazon_data.info()"
   ]
  },
  {
   "cell_type": "code",
   "execution_count": 14,
   "id": "03c2d5e4-7dc2-49d0-adc5-b5ce920e1594",
   "metadata": {},
   "outputs": [
    {
     "data": {
      "text/plain": [
       "Unnamed: 0    4882\n",
       "Review        4882\n",
       "Rate             5\n",
       "dtype: int64"
      ]
     },
     "execution_count": 14,
     "metadata": {},
     "output_type": "execute_result"
    }
   ],
   "source": [
    "amazon_data.nunique()"
   ]
  },
  {
   "cell_type": "code",
   "execution_count": 80,
   "id": "23cedb82-8679-4881-b66d-095070e328f7",
   "metadata": {},
   "outputs": [
    {
     "data": {
      "text/plain": [
       "5.0 out of 5 stars    2113\n",
       "1.0 out of 5 stars     913\n",
       "4.0 out of 5 stars     753\n",
       "3.0 out of 5 stars     636\n",
       "2.0 out of 5 stars     467\n",
       "Name: Rate, dtype: int64"
      ]
     },
     "execution_count": 80,
     "metadata": {},
     "output_type": "execute_result"
    }
   ],
   "source": [
    "amazon_data[\"Rate\"].value_counts()"
   ]
  },
  {
   "cell_type": "code",
   "execution_count": 81,
   "id": "51395a71-6e72-4e82-a832-dbf266fe2eb4",
   "metadata": {},
   "outputs": [],
   "source": [
    "#droping duplicate values\n",
    "amazon_data.drop_duplicates(inplace=True)"
   ]
  },
  {
   "cell_type": "markdown",
   "id": "9c09af45-f888-4cc8-98af-d85cf243212d",
   "metadata": {},
   "source": [
    "- Cleaning Amazon Dataset"
   ]
  },
  {
   "cell_type": "code",
   "execution_count": 82,
   "id": "b4ef33c8-f3c6-48d5-a5ae-6650a84a8978",
   "metadata": {},
   "outputs": [],
   "source": [
    "#Filtering non-alphanumeric characters\n",
    "import re\n",
    "main_filter= lambda x: re.sub(\"[^a-z0-9]\",\" \",x)"
   ]
  },
  {
   "cell_type": "code",
   "execution_count": 83,
   "id": "7f81eb95-5ef1-483e-94a6-190f360cbe92",
   "metadata": {},
   "outputs": [],
   "source": [
    "amazon_data[\"Text\"] = amazon_data.Review.str.lower()"
   ]
  },
  {
   "cell_type": "code",
   "execution_count": 84,
   "id": "94c34601-df51-46d0-9468-e0e00eb075b4",
   "metadata": {},
   "outputs": [
    {
     "data": {
      "text/html": [
       "<div>\n",
       "<style scoped>\n",
       "    .dataframe tbody tr th:only-of-type {\n",
       "        vertical-align: middle;\n",
       "    }\n",
       "\n",
       "    .dataframe tbody tr th {\n",
       "        vertical-align: top;\n",
       "    }\n",
       "\n",
       "    .dataframe thead th {\n",
       "        text-align: right;\n",
       "    }\n",
       "</style>\n",
       "<table border=\"1\" class=\"dataframe\">\n",
       "  <thead>\n",
       "    <tr style=\"text-align: right;\">\n",
       "      <th></th>\n",
       "      <th>Unnamed: 0</th>\n",
       "      <th>Review</th>\n",
       "      <th>Rate</th>\n",
       "      <th>Text</th>\n",
       "    </tr>\n",
       "  </thead>\n",
       "  <tbody>\n",
       "    <tr>\n",
       "      <th>0</th>\n",
       "      <td>0</td>\n",
       "      <td>\\n\\n  I received the Fire TV Stick 4K on launc...</td>\n",
       "      <td>5.0 out of 5 stars</td>\n",
       "      <td>i received the fire tv stick 4k on launch ...</td>\n",
       "    </tr>\n",
       "    <tr>\n",
       "      <th>1</th>\n",
       "      <td>1</td>\n",
       "      <td>\\n\\n  Let me tell you, I was super excited for...</td>\n",
       "      <td>3.0 out of 5 stars</td>\n",
       "      <td>let me tell you  i was super excited for t...</td>\n",
       "    </tr>\n",
       "    <tr>\n",
       "      <th>2</th>\n",
       "      <td>2</td>\n",
       "      <td>\\n\\n\\n            Your browser does not suppor...</td>\n",
       "      <td>4.0 out of 5 stars</td>\n",
       "      <td>your browser does not support h...</td>\n",
       "    </tr>\n",
       "    <tr>\n",
       "      <th>3</th>\n",
       "      <td>3</td>\n",
       "      <td>\\n\\n  Ok, so if your like me you wonder what e...</td>\n",
       "      <td>4.0 out of 5 stars</td>\n",
       "      <td>ok  so if your like me you wonder what exa...</td>\n",
       "    </tr>\n",
       "    <tr>\n",
       "      <th>4</th>\n",
       "      <td>4</td>\n",
       "      <td>\\n\\n  Our main streaming service is DirecTV No...</td>\n",
       "      <td>1.0 out of 5 stars</td>\n",
       "      <td>our main streaming service is directv now ...</td>\n",
       "    </tr>\n",
       "    <tr>\n",
       "      <th>5</th>\n",
       "      <td>5</td>\n",
       "      <td>\\n\\n  I pre-ordered this a few weeks ago, and ...</td>\n",
       "      <td>5.0 out of 5 stars</td>\n",
       "      <td>i pre ordered this a few weeks ago  and it...</td>\n",
       "    </tr>\n",
       "    <tr>\n",
       "      <th>6</th>\n",
       "      <td>6</td>\n",
       "      <td>\\n\\n  I have tried it on 4 different TV's (Tos...</td>\n",
       "      <td>1.0 out of 5 stars</td>\n",
       "      <td>i have tried it on 4 different tv s  toshi...</td>\n",
       "    </tr>\n",
       "    <tr>\n",
       "      <th>7</th>\n",
       "      <td>7</td>\n",
       "      <td>\\n\\n  I found the new 4K (HDR) Firestick to fu...</td>\n",
       "      <td>5.0 out of 5 stars</td>\n",
       "      <td>i found the new 4k  hdr  firestick to func...</td>\n",
       "    </tr>\n",
       "    <tr>\n",
       "      <th>8</th>\n",
       "      <td>8</td>\n",
       "      <td>\\n\\n  So you’ve heard about cutting the cord a...</td>\n",
       "      <td>1.0 out of 5 stars</td>\n",
       "      <td>so you ve heard about cutting the cord and...</td>\n",
       "    </tr>\n",
       "    <tr>\n",
       "      <th>9</th>\n",
       "      <td>9</td>\n",
       "      <td>\\n\\n  Just writing this review after getting o...</td>\n",
       "      <td>1.0 out of 5 stars</td>\n",
       "      <td>just writing this review after getting off...</td>\n",
       "    </tr>\n",
       "  </tbody>\n",
       "</table>\n",
       "</div>"
      ],
      "text/plain": [
       "   Unnamed: 0                                             Review  \\\n",
       "0           0  \\n\\n  I received the Fire TV Stick 4K on launc...   \n",
       "1           1  \\n\\n  Let me tell you, I was super excited for...   \n",
       "2           2  \\n\\n\\n            Your browser does not suppor...   \n",
       "3           3  \\n\\n  Ok, so if your like me you wonder what e...   \n",
       "4           4  \\n\\n  Our main streaming service is DirecTV No...   \n",
       "5           5  \\n\\n  I pre-ordered this a few weeks ago, and ...   \n",
       "6           6  \\n\\n  I have tried it on 4 different TV's (Tos...   \n",
       "7           7  \\n\\n  I found the new 4K (HDR) Firestick to fu...   \n",
       "8           8  \\n\\n  So you’ve heard about cutting the cord a...   \n",
       "9           9  \\n\\n  Just writing this review after getting o...   \n",
       "\n",
       "                 Rate                                               Text  \n",
       "0  5.0 out of 5 stars      i received the fire tv stick 4k on launch ...  \n",
       "1  3.0 out of 5 stars      let me tell you  i was super excited for t...  \n",
       "2  4.0 out of 5 stars                 your browser does not support h...  \n",
       "3  4.0 out of 5 stars      ok  so if your like me you wonder what exa...  \n",
       "4  1.0 out of 5 stars      our main streaming service is directv now ...  \n",
       "5  5.0 out of 5 stars      i pre ordered this a few weeks ago  and it...  \n",
       "6  1.0 out of 5 stars      i have tried it on 4 different tv s  toshi...  \n",
       "7  5.0 out of 5 stars      i found the new 4k  hdr  firestick to func...  \n",
       "8  1.0 out of 5 stars      so you ve heard about cutting the cord and...  \n",
       "9  1.0 out of 5 stars      just writing this review after getting off...  "
      ]
     },
     "execution_count": 84,
     "metadata": {},
     "output_type": "execute_result"
    }
   ],
   "source": [
    "amazon_data[\"Text\"] = amazon_data.Text.map(main_filter)\n",
    "amazon_data.head(10)"
   ]
  },
  {
   "cell_type": "code",
   "execution_count": 85,
   "id": "981cad7e-c1fc-4dc2-b774-b08a7371234e",
   "metadata": {},
   "outputs": [
    {
     "name": "stderr",
     "output_type": "stream",
     "text": [
      "C:\\Users\\musta\\Anaconda3\\envs\\rstudio\\lib\\site-packages\\ipykernel_launcher.py:2: FutureWarning: In a future version of pandas all arguments of DataFrame.drop except for the argument 'labels' will be keyword-only\n",
      "  \n"
     ]
    },
    {
     "data": {
      "text/html": [
       "<div>\n",
       "<style scoped>\n",
       "    .dataframe tbody tr th:only-of-type {\n",
       "        vertical-align: middle;\n",
       "    }\n",
       "\n",
       "    .dataframe tbody tr th {\n",
       "        vertical-align: top;\n",
       "    }\n",
       "\n",
       "    .dataframe thead th {\n",
       "        text-align: right;\n",
       "    }\n",
       "</style>\n",
       "<table border=\"1\" class=\"dataframe\">\n",
       "  <thead>\n",
       "    <tr style=\"text-align: right;\">\n",
       "      <th></th>\n",
       "      <th>Unnamed: 0</th>\n",
       "      <th>Review</th>\n",
       "      <th>Rate</th>\n",
       "    </tr>\n",
       "  </thead>\n",
       "  <tbody>\n",
       "    <tr>\n",
       "      <th>0</th>\n",
       "      <td>0</td>\n",
       "      <td>i received the fire tv stick 4k on launch ...</td>\n",
       "      <td>5.0 out of 5 stars</td>\n",
       "    </tr>\n",
       "    <tr>\n",
       "      <th>1</th>\n",
       "      <td>1</td>\n",
       "      <td>let me tell you  i was super excited for t...</td>\n",
       "      <td>3.0 out of 5 stars</td>\n",
       "    </tr>\n",
       "    <tr>\n",
       "      <th>2</th>\n",
       "      <td>2</td>\n",
       "      <td>your browser does not support h...</td>\n",
       "      <td>4.0 out of 5 stars</td>\n",
       "    </tr>\n",
       "    <tr>\n",
       "      <th>3</th>\n",
       "      <td>3</td>\n",
       "      <td>ok  so if your like me you wonder what exa...</td>\n",
       "      <td>4.0 out of 5 stars</td>\n",
       "    </tr>\n",
       "    <tr>\n",
       "      <th>4</th>\n",
       "      <td>4</td>\n",
       "      <td>our main streaming service is directv now ...</td>\n",
       "      <td>1.0 out of 5 stars</td>\n",
       "    </tr>\n",
       "  </tbody>\n",
       "</table>\n",
       "</div>"
      ],
      "text/plain": [
       "   Unnamed: 0                                             Review  \\\n",
       "0           0      i received the fire tv stick 4k on launch ...   \n",
       "1           1      let me tell you  i was super excited for t...   \n",
       "2           2                 your browser does not support h...   \n",
       "3           3      ok  so if your like me you wonder what exa...   \n",
       "4           4      our main streaming service is directv now ...   \n",
       "\n",
       "                 Rate  \n",
       "0  5.0 out of 5 stars  \n",
       "1  3.0 out of 5 stars  \n",
       "2  4.0 out of 5 stars  \n",
       "3  4.0 out of 5 stars  \n",
       "4  1.0 out of 5 stars  "
      ]
     },
     "execution_count": 85,
     "metadata": {},
     "output_type": "execute_result"
    }
   ],
   "source": [
    "amazon_data[\"Review\"] = amazon_data[\"Text\"]\n",
    "amazon_data = amazon_data.drop('Text', 1)\n",
    "amazon_data.head(5)"
   ]
  },
  {
   "cell_type": "code",
   "execution_count": 86,
   "id": "8fd283cc-91bd-4493-9f30-43120e0c8e3b",
   "metadata": {},
   "outputs": [],
   "source": [
    "amazon_data['new_rate'] = amazon_data[\"Rate\"].str[0]"
   ]
  },
  {
   "cell_type": "code",
   "execution_count": 87,
   "id": "eecf7c8a-cb82-4de0-87bf-72738c31a521",
   "metadata": {},
   "outputs": [],
   "source": [
    "amazon_data[\"Rate\"] = amazon_data[\"new_rate\"]"
   ]
  },
  {
   "cell_type": "code",
   "execution_count": 88,
   "id": "9cadd2e8-b3ea-497e-9a8a-00fcd999a0f1",
   "metadata": {},
   "outputs": [
    {
     "name": "stderr",
     "output_type": "stream",
     "text": [
      "C:\\Users\\musta\\Anaconda3\\envs\\rstudio\\lib\\site-packages\\ipykernel_launcher.py:1: FutureWarning: In a future version of pandas all arguments of DataFrame.drop except for the argument 'labels' will be keyword-only\n",
      "  \"\"\"Entry point for launching an IPython kernel.\n"
     ]
    },
    {
     "data": {
      "text/html": [
       "<div>\n",
       "<style scoped>\n",
       "    .dataframe tbody tr th:only-of-type {\n",
       "        vertical-align: middle;\n",
       "    }\n",
       "\n",
       "    .dataframe tbody tr th {\n",
       "        vertical-align: top;\n",
       "    }\n",
       "\n",
       "    .dataframe thead th {\n",
       "        text-align: right;\n",
       "    }\n",
       "</style>\n",
       "<table border=\"1\" class=\"dataframe\">\n",
       "  <thead>\n",
       "    <tr style=\"text-align: right;\">\n",
       "      <th></th>\n",
       "      <th>Unnamed: 0</th>\n",
       "      <th>Review</th>\n",
       "      <th>Rate</th>\n",
       "    </tr>\n",
       "  </thead>\n",
       "  <tbody>\n",
       "    <tr>\n",
       "      <th>0</th>\n",
       "      <td>0</td>\n",
       "      <td>i received the fire tv stick 4k on launch ...</td>\n",
       "      <td>5</td>\n",
       "    </tr>\n",
       "    <tr>\n",
       "      <th>1</th>\n",
       "      <td>1</td>\n",
       "      <td>let me tell you  i was super excited for t...</td>\n",
       "      <td>3</td>\n",
       "    </tr>\n",
       "    <tr>\n",
       "      <th>2</th>\n",
       "      <td>2</td>\n",
       "      <td>your browser does not support h...</td>\n",
       "      <td>4</td>\n",
       "    </tr>\n",
       "    <tr>\n",
       "      <th>3</th>\n",
       "      <td>3</td>\n",
       "      <td>ok  so if your like me you wonder what exa...</td>\n",
       "      <td>4</td>\n",
       "    </tr>\n",
       "    <tr>\n",
       "      <th>4</th>\n",
       "      <td>4</td>\n",
       "      <td>our main streaming service is directv now ...</td>\n",
       "      <td>1</td>\n",
       "    </tr>\n",
       "  </tbody>\n",
       "</table>\n",
       "</div>"
      ],
      "text/plain": [
       "   Unnamed: 0                                             Review Rate\n",
       "0           0      i received the fire tv stick 4k on launch ...    5\n",
       "1           1      let me tell you  i was super excited for t...    3\n",
       "2           2                 your browser does not support h...    4\n",
       "3           3      ok  so if your like me you wonder what exa...    4\n",
       "4           4      our main streaming service is directv now ...    1"
      ]
     },
     "execution_count": 88,
     "metadata": {},
     "output_type": "execute_result"
    }
   ],
   "source": [
    "amazon_data = amazon_data.drop('new_rate', 1)\n",
    "amazon_data.head()"
   ]
  },
  {
   "cell_type": "code",
   "execution_count": 89,
   "id": "d5ee99bf-7aac-4bf6-8191-54ddffa3396b",
   "metadata": {},
   "outputs": [
    {
     "data": {
      "text/plain": [
       "5    2113\n",
       "1     913\n",
       "4     753\n",
       "3     636\n",
       "2     467\n",
       "Name: Rate, dtype: int64"
      ]
     },
     "execution_count": 89,
     "metadata": {},
     "output_type": "execute_result"
    }
   ],
   "source": [
    "amazon_data[\"Rate\"].value_counts()"
   ]
  },
  {
   "cell_type": "markdown",
   "id": "3eb80512-9f04-4b38-8327-456cfdeb5d81",
   "metadata": {},
   "source": [
    "- Cleaning Twitter Dataset"
   ]
  },
  {
   "cell_type": "code",
   "execution_count": 37,
   "id": "5d3cb0a1-ea01-40a9-b2ae-78cb99b2e9cf",
   "metadata": {},
   "outputs": [
    {
     "data": {
      "text/html": [
       "<div>\n",
       "<style scoped>\n",
       "    .dataframe tbody tr th:only-of-type {\n",
       "        vertical-align: middle;\n",
       "    }\n",
       "\n",
       "    .dataframe tbody tr th {\n",
       "        vertical-align: top;\n",
       "    }\n",
       "\n",
       "    .dataframe thead th {\n",
       "        text-align: right;\n",
       "    }\n",
       "</style>\n",
       "<table border=\"1\" class=\"dataframe\">\n",
       "  <thead>\n",
       "    <tr style=\"text-align: right;\">\n",
       "      <th></th>\n",
       "      <th>Unnamed: 0</th>\n",
       "      <th>date</th>\n",
       "      <th>content</th>\n",
       "    </tr>\n",
       "  </thead>\n",
       "  <tbody>\n",
       "    <tr>\n",
       "      <th>0</th>\n",
       "      <td>0</td>\n",
       "      <td>2021-12-09 18:23:16+00:00</td>\n",
       "      <td>fire tv stick 4k max review: worth the wait   ...</td>\n",
       "    </tr>\n",
       "    <tr>\n",
       "      <th>1</th>\n",
       "      <td>1</td>\n",
       "      <td>2021-12-09 11:30:16+00:00</td>\n",
       "      <td>new post: possible free $5 prime video credit ...</td>\n",
       "    </tr>\n",
       "    <tr>\n",
       "      <th>2</th>\n",
       "      <td>2</td>\n",
       "      <td>2021-12-09 09:05:28+00:00</td>\n",
       "      <td>@wlrosetyler yeah, i too love google chromecas...</td>\n",
       "    </tr>\n",
       "    <tr>\n",
       "      <th>3</th>\n",
       "      <td>3</td>\n",
       "      <td>2021-12-09 08:04:42+00:00</td>\n",
       "      <td>https://t.co/pxc0jtggwu\\nends december 9th 10:...</td>\n",
       "    </tr>\n",
       "    <tr>\n",
       "      <th>4</th>\n",
       "      <td>4</td>\n",
       "      <td>2021-12-08 15:15:05+00:00</td>\n",
       "      <td>possible free $5 prime video credit (amazon fi...</td>\n",
       "    </tr>\n",
       "    <tr>\n",
       "      <th>...</th>\n",
       "      <td>...</td>\n",
       "      <td>...</td>\n",
       "      <td>...</td>\n",
       "    </tr>\n",
       "    <tr>\n",
       "      <th>2266</th>\n",
       "      <td>2266</td>\n",
       "      <td>2014-10-27 14:31:49+00:00</td>\n",
       "      <td>does this mean fire tv can’t use a tv’s usb po...</td>\n",
       "    </tr>\n",
       "    <tr>\n",
       "      <th>2267</th>\n",
       "      <td>2267</td>\n",
       "      <td>2014-10-27 14:30:33+00:00</td>\n",
       "      <td>“@circa: amazon debuts fire tv stick streaming...</td>\n",
       "    </tr>\n",
       "    <tr>\n",
       "      <th>2268</th>\n",
       "      <td>2268</td>\n",
       "      <td>2014-10-27 13:41:33+00:00</td>\n",
       "      <td>the amazon fire tv stick looks neat.</td>\n",
       "    </tr>\n",
       "    <tr>\n",
       "      <th>2269</th>\n",
       "      <td>2269</td>\n",
       "      <td>2014-10-27 13:40:13+00:00</td>\n",
       "      <td>totally just ordered the #amazon fire tv stick...</td>\n",
       "    </tr>\n",
       "    <tr>\n",
       "      <th>2270</th>\n",
       "      <td>2270</td>\n",
       "      <td>2014-10-27 13:21:06+00:00</td>\n",
       "      <td>amazon’s new fire tv stick is a $39 chromecast...</td>\n",
       "    </tr>\n",
       "  </tbody>\n",
       "</table>\n",
       "<p>2271 rows × 3 columns</p>\n",
       "</div>"
      ],
      "text/plain": [
       "      Unnamed: 0                       date  \\\n",
       "0              0  2021-12-09 18:23:16+00:00   \n",
       "1              1  2021-12-09 11:30:16+00:00   \n",
       "2              2  2021-12-09 09:05:28+00:00   \n",
       "3              3  2021-12-09 08:04:42+00:00   \n",
       "4              4  2021-12-08 15:15:05+00:00   \n",
       "...          ...                        ...   \n",
       "2266        2266  2014-10-27 14:31:49+00:00   \n",
       "2267        2267  2014-10-27 14:30:33+00:00   \n",
       "2268        2268  2014-10-27 13:41:33+00:00   \n",
       "2269        2269  2014-10-27 13:40:13+00:00   \n",
       "2270        2270  2014-10-27 13:21:06+00:00   \n",
       "\n",
       "                                                content  \n",
       "0     fire tv stick 4k max review: worth the wait   ...  \n",
       "1     new post: possible free $5 prime video credit ...  \n",
       "2     @wlrosetyler yeah, i too love google chromecas...  \n",
       "3     https://t.co/pxc0jtggwu\\nends december 9th 10:...  \n",
       "4     possible free $5 prime video credit (amazon fi...  \n",
       "...                                                 ...  \n",
       "2266  does this mean fire tv can’t use a tv’s usb po...  \n",
       "2267  “@circa: amazon debuts fire tv stick streaming...  \n",
       "2268               the amazon fire tv stick looks neat.  \n",
       "2269  totally just ordered the #amazon fire tv stick...  \n",
       "2270  amazon’s new fire tv stick is a $39 chromecast...  \n",
       "\n",
       "[2271 rows x 3 columns]"
      ]
     },
     "execution_count": 37,
     "metadata": {},
     "output_type": "execute_result"
    }
   ],
   "source": [
    "tweet_data[\"content\"] = tweet_data.content.str.lower()\n",
    "tweet_data"
   ]
  },
  {
   "cell_type": "code",
   "execution_count": 38,
   "id": "8dd2b679-07c8-40db-9cd3-7be59f2d5f30",
   "metadata": {},
   "outputs": [
    {
     "data": {
      "text/html": [
       "<div>\n",
       "<style scoped>\n",
       "    .dataframe tbody tr th:only-of-type {\n",
       "        vertical-align: middle;\n",
       "    }\n",
       "\n",
       "    .dataframe tbody tr th {\n",
       "        vertical-align: top;\n",
       "    }\n",
       "\n",
       "    .dataframe thead th {\n",
       "        text-align: right;\n",
       "    }\n",
       "</style>\n",
       "<table border=\"1\" class=\"dataframe\">\n",
       "  <thead>\n",
       "    <tr style=\"text-align: right;\">\n",
       "      <th></th>\n",
       "      <th>Unnamed: 0</th>\n",
       "      <th>date</th>\n",
       "      <th>content</th>\n",
       "    </tr>\n",
       "  </thead>\n",
       "  <tbody>\n",
       "    <tr>\n",
       "      <th>0</th>\n",
       "      <td>0</td>\n",
       "      <td>2021-12-09 18:23:16+00:00</td>\n",
       "      <td>fire tv stick 4k max review  worth the wait   ...</td>\n",
       "    </tr>\n",
       "    <tr>\n",
       "      <th>1</th>\n",
       "      <td>1</td>\n",
       "      <td>2021-12-09 11:30:16+00:00</td>\n",
       "      <td>new post  possible free  5 prime video credit ...</td>\n",
       "    </tr>\n",
       "    <tr>\n",
       "      <th>2</th>\n",
       "      <td>2</td>\n",
       "      <td>2021-12-09 09:05:28+00:00</td>\n",
       "      <td>wlrosetyler yeah  i too love google chromecas...</td>\n",
       "    </tr>\n",
       "    <tr>\n",
       "      <th>3</th>\n",
       "      <td>3</td>\n",
       "      <td>2021-12-09 08:04:42+00:00</td>\n",
       "      <td>https   t co pxc0jtggwu ends december 9th 10 0...</td>\n",
       "    </tr>\n",
       "    <tr>\n",
       "      <th>4</th>\n",
       "      <td>4</td>\n",
       "      <td>2021-12-08 15:15:05+00:00</td>\n",
       "      <td>possible free  5 prime video credit  amazon fi...</td>\n",
       "    </tr>\n",
       "    <tr>\n",
       "      <th>5</th>\n",
       "      <td>5</td>\n",
       "      <td>2021-12-08 14:36:03+00:00</td>\n",
       "      <td>i have a new roku smart tv  but have a new ama...</td>\n",
       "    </tr>\n",
       "    <tr>\n",
       "      <th>6</th>\n",
       "      <td>6</td>\n",
       "      <td>2021-12-08 04:17:49+00:00</td>\n",
       "      <td>c mo instalar la app de hbo max en un fire tv ...</td>\n",
       "    </tr>\n",
       "    <tr>\n",
       "      <th>7</th>\n",
       "      <td>7</td>\n",
       "      <td>2021-12-08 02:44:45+00:00</td>\n",
       "      <td>nicolaweather with fire tv you can only acces...</td>\n",
       "    </tr>\n",
       "    <tr>\n",
       "      <th>8</th>\n",
       "      <td>8</td>\n",
       "      <td>2021-12-08 01:39:37+00:00</td>\n",
       "      <td>c mo instalar la app de hbo max en un fire tv ...</td>\n",
       "    </tr>\n",
       "    <tr>\n",
       "      <th>9</th>\n",
       "      <td>9</td>\n",
       "      <td>2021-12-08 01:31:34+00:00</td>\n",
       "      <td>win the all new kindle paperwhite and fire t...</td>\n",
       "    </tr>\n",
       "  </tbody>\n",
       "</table>\n",
       "</div>"
      ],
      "text/plain": [
       "   Unnamed: 0                       date  \\\n",
       "0           0  2021-12-09 18:23:16+00:00   \n",
       "1           1  2021-12-09 11:30:16+00:00   \n",
       "2           2  2021-12-09 09:05:28+00:00   \n",
       "3           3  2021-12-09 08:04:42+00:00   \n",
       "4           4  2021-12-08 15:15:05+00:00   \n",
       "5           5  2021-12-08 14:36:03+00:00   \n",
       "6           6  2021-12-08 04:17:49+00:00   \n",
       "7           7  2021-12-08 02:44:45+00:00   \n",
       "8           8  2021-12-08 01:39:37+00:00   \n",
       "9           9  2021-12-08 01:31:34+00:00   \n",
       "\n",
       "                                             content  \n",
       "0  fire tv stick 4k max review  worth the wait   ...  \n",
       "1  new post  possible free  5 prime video credit ...  \n",
       "2   wlrosetyler yeah  i too love google chromecas...  \n",
       "3  https   t co pxc0jtggwu ends december 9th 10 0...  \n",
       "4  possible free  5 prime video credit  amazon fi...  \n",
       "5  i have a new roku smart tv  but have a new ama...  \n",
       "6  c mo instalar la app de hbo max en un fire tv ...  \n",
       "7   nicolaweather with fire tv you can only acces...  \n",
       "8  c mo instalar la app de hbo max en un fire tv ...  \n",
       "9    win the all new kindle paperwhite and fire t...  "
      ]
     },
     "execution_count": 38,
     "metadata": {},
     "output_type": "execute_result"
    }
   ],
   "source": [
    "tweet_data[\"content\"] = tweet_data.content.map(main_filter)\n",
    "tweet_data.head(10)"
   ]
  },
  {
   "cell_type": "markdown",
   "id": "6fdcfcc6-920f-45f4-97be-f86cab098059",
   "metadata": {},
   "source": [
    "There are some tweets which are not English and I prefer to remove them to have better overall rate for the product. It is not working perfectly but I would like to use it. Besides I would like to delete all links"
   ]
  },
  {
   "cell_type": "code",
   "execution_count": 40,
   "id": "8db0a5e7-58fe-4cc5-a6d6-23a139094dd4",
   "metadata": {},
   "outputs": [],
   "source": [
    "#delete non english words with nltk\n",
    "import nltk\n",
    "words = set(nltk.corpus.words.words())\n",
    "def remove_non_english(text):\n",
    "    new_text = \" \".join(w for w in nltk.wordpunct_tokenize(text) if w.lower() in words or not w.isalpha())\n",
    "    return new_text"
   ]
  },
  {
   "cell_type": "code",
   "execution_count": 42,
   "id": "c3d93f61-70f7-4428-ab0d-3acd8c3e6265",
   "metadata": {},
   "outputs": [],
   "source": [
    "#Removing links\n",
    "link_ht = lambda x: re.sub(r\"http\\S+\",\" \",x)\n",
    "link_ww = lambda x: re.sub(r\"www.\\S+\",\" \",x)"
   ]
  },
  {
   "cell_type": "code",
   "execution_count": 43,
   "id": "1382f58a-c053-4e9c-86ad-21f665228152",
   "metadata": {},
   "outputs": [
    {
     "data": {
      "text/html": [
       "<div>\n",
       "<style scoped>\n",
       "    .dataframe tbody tr th:only-of-type {\n",
       "        vertical-align: middle;\n",
       "    }\n",
       "\n",
       "    .dataframe tbody tr th {\n",
       "        vertical-align: top;\n",
       "    }\n",
       "\n",
       "    .dataframe thead th {\n",
       "        text-align: right;\n",
       "    }\n",
       "</style>\n",
       "<table border=\"1\" class=\"dataframe\">\n",
       "  <thead>\n",
       "    <tr style=\"text-align: right;\">\n",
       "      <th></th>\n",
       "      <th>Unnamed: 0</th>\n",
       "      <th>date</th>\n",
       "      <th>content</th>\n",
       "      <th>new_content</th>\n",
       "    </tr>\n",
       "  </thead>\n",
       "  <tbody>\n",
       "    <tr>\n",
       "      <th>0</th>\n",
       "      <td>0</td>\n",
       "      <td>2021-12-09 18:23:16+00:00</td>\n",
       "      <td>fire tv stick 4k max review  worth the wait   ...</td>\n",
       "      <td>fire tv stick 4k max review  worth the wait   ...</td>\n",
       "    </tr>\n",
       "    <tr>\n",
       "      <th>1</th>\n",
       "      <td>1</td>\n",
       "      <td>2021-12-09 11:30:16+00:00</td>\n",
       "      <td>new post  possible free  5 prime video credit ...</td>\n",
       "      <td>new post  possible free  5 prime video credit ...</td>\n",
       "    </tr>\n",
       "    <tr>\n",
       "      <th>2</th>\n",
       "      <td>2</td>\n",
       "      <td>2021-12-09 09:05:28+00:00</td>\n",
       "      <td>wlrosetyler yeah  i too love google chromecas...</td>\n",
       "      <td>wlrosetyler yeah  i too love google chromecas...</td>\n",
       "    </tr>\n",
       "    <tr>\n",
       "      <th>3</th>\n",
       "      <td>3</td>\n",
       "      <td>2021-12-09 08:04:42+00:00</td>\n",
       "      <td>https   t co pxc0jtggwu ends december 9th 10 0...</td>\n",
       "      <td>t co pxc0jtggwu ends december 9th 10 00 pm...</td>\n",
       "    </tr>\n",
       "    <tr>\n",
       "      <th>4</th>\n",
       "      <td>4</td>\n",
       "      <td>2021-12-08 15:15:05+00:00</td>\n",
       "      <td>possible free  5 prime video credit  amazon fi...</td>\n",
       "      <td>possible free  5 prime video credit  amazon fi...</td>\n",
       "    </tr>\n",
       "    <tr>\n",
       "      <th>5</th>\n",
       "      <td>5</td>\n",
       "      <td>2021-12-08 14:36:03+00:00</td>\n",
       "      <td>i have a new roku smart tv  but have a new ama...</td>\n",
       "      <td>i have a new roku smart tv  but have a new ama...</td>\n",
       "    </tr>\n",
       "    <tr>\n",
       "      <th>6</th>\n",
       "      <td>6</td>\n",
       "      <td>2021-12-08 04:17:49+00:00</td>\n",
       "      <td>c mo instalar la app de hbo max en un fire tv ...</td>\n",
       "      <td>c mo instalar la app de hbo max en un fire tv ...</td>\n",
       "    </tr>\n",
       "    <tr>\n",
       "      <th>7</th>\n",
       "      <td>7</td>\n",
       "      <td>2021-12-08 02:44:45+00:00</td>\n",
       "      <td>nicolaweather with fire tv you can only acces...</td>\n",
       "      <td>nicolaweather with fire tv you can only acces...</td>\n",
       "    </tr>\n",
       "    <tr>\n",
       "      <th>8</th>\n",
       "      <td>8</td>\n",
       "      <td>2021-12-08 01:39:37+00:00</td>\n",
       "      <td>c mo instalar la app de hbo max en un fire tv ...</td>\n",
       "      <td>c mo instalar la app de hbo max en un fire tv ...</td>\n",
       "    </tr>\n",
       "    <tr>\n",
       "      <th>9</th>\n",
       "      <td>9</td>\n",
       "      <td>2021-12-08 01:31:34+00:00</td>\n",
       "      <td>win the all new kindle paperwhite and fire t...</td>\n",
       "      <td>win the all new kindle paperwhite and fire t...</td>\n",
       "    </tr>\n",
       "  </tbody>\n",
       "</table>\n",
       "</div>"
      ],
      "text/plain": [
       "   Unnamed: 0                       date  \\\n",
       "0           0  2021-12-09 18:23:16+00:00   \n",
       "1           1  2021-12-09 11:30:16+00:00   \n",
       "2           2  2021-12-09 09:05:28+00:00   \n",
       "3           3  2021-12-09 08:04:42+00:00   \n",
       "4           4  2021-12-08 15:15:05+00:00   \n",
       "5           5  2021-12-08 14:36:03+00:00   \n",
       "6           6  2021-12-08 04:17:49+00:00   \n",
       "7           7  2021-12-08 02:44:45+00:00   \n",
       "8           8  2021-12-08 01:39:37+00:00   \n",
       "9           9  2021-12-08 01:31:34+00:00   \n",
       "\n",
       "                                             content  \\\n",
       "0  fire tv stick 4k max review  worth the wait   ...   \n",
       "1  new post  possible free  5 prime video credit ...   \n",
       "2   wlrosetyler yeah  i too love google chromecas...   \n",
       "3  https   t co pxc0jtggwu ends december 9th 10 0...   \n",
       "4  possible free  5 prime video credit  amazon fi...   \n",
       "5  i have a new roku smart tv  but have a new ama...   \n",
       "6  c mo instalar la app de hbo max en un fire tv ...   \n",
       "7   nicolaweather with fire tv you can only acces...   \n",
       "8  c mo instalar la app de hbo max en un fire tv ...   \n",
       "9    win the all new kindle paperwhite and fire t...   \n",
       "\n",
       "                                         new_content  \n",
       "0  fire tv stick 4k max review  worth the wait   ...  \n",
       "1  new post  possible free  5 prime video credit ...  \n",
       "2   wlrosetyler yeah  i too love google chromecas...  \n",
       "3      t co pxc0jtggwu ends december 9th 10 00 pm...  \n",
       "4  possible free  5 prime video credit  amazon fi...  \n",
       "5  i have a new roku smart tv  but have a new ama...  \n",
       "6  c mo instalar la app de hbo max en un fire tv ...  \n",
       "7   nicolaweather with fire tv you can only acces...  \n",
       "8  c mo instalar la app de hbo max en un fire tv ...  \n",
       "9    win the all new kindle paperwhite and fire t...  "
      ]
     },
     "execution_count": 43,
     "metadata": {},
     "output_type": "execute_result"
    }
   ],
   "source": [
    "tweet_data['new_content'] = tweet_data['content'].apply(remove_non_english)\n",
    "tweet_data[\"new_content\"] = tweet_data.content.map(link_ht).map(link_ww)\n",
    "tweet_data.head(10)"
   ]
  },
  {
   "cell_type": "code",
   "execution_count": 44,
   "id": "9481e414-c987-4f4a-a18e-f73e947610dc",
   "metadata": {},
   "outputs": [
    {
     "data": {
      "text/plain": [
       "Unnamed: 0     2271\n",
       "date           2271\n",
       "content        2266\n",
       "new_content    2266\n",
       "dtype: int64"
      ]
     },
     "execution_count": 44,
     "metadata": {},
     "output_type": "execute_result"
    }
   ],
   "source": [
    "tweet_data.drop_duplicates()\n",
    "tweet_data.nunique()"
   ]
  },
  {
   "cell_type": "markdown",
   "id": "e3766e50-131b-4e5e-8499-f3e1b4b9b8eb",
   "metadata": {},
   "source": [
    "I will apply another method to delete non english words because I am not satisfied with above one"
   ]
  },
  {
   "cell_type": "code",
   "execution_count": 45,
   "id": "bee2d23f-42d2-4f56-a3ad-83bde5e7af04",
   "metadata": {},
   "outputs": [],
   "source": [
    "from langdetect import detect, DetectorFactory\n",
    "DetectorFactory.seed = 0\n",
    "result = lambda x: detect(x)"
   ]
  },
  {
   "cell_type": "code",
   "execution_count": 46,
   "id": "b9422eb0-4f95-4e1c-91fa-7f24d0261388",
   "metadata": {},
   "outputs": [],
   "source": [
    "tweet_data[\"Language\"] = tweet_data[\"new_content\"].apply(result)"
   ]
  },
  {
   "cell_type": "code",
   "execution_count": 47,
   "id": "3a9cb23d-d072-4937-8d14-d70e145ba324",
   "metadata": {},
   "outputs": [
    {
     "data": {
      "text/plain": [
       "en    2153\n",
       "es      61\n",
       "it      16\n",
       "sk      15\n",
       "sv      12\n",
       "da       2\n",
       "fr       2\n",
       "hr       2\n",
       "pl       1\n",
       "so       1\n",
       "tl       1\n",
       "id       1\n",
       "nl       1\n",
       "pt       1\n",
       "hu       1\n",
       "sl       1\n",
       "Name: Language, dtype: int64"
      ]
     },
     "execution_count": 47,
     "metadata": {},
     "output_type": "execute_result"
    }
   ],
   "source": [
    "tweet_data[\"Language\"].value_counts()"
   ]
  },
  {
   "cell_type": "markdown",
   "id": "f64acec2-e546-4bfc-a514-f000a8cc22b5",
   "metadata": {},
   "source": [
    "By the help of language detection I realized that I have 16 different languages and only 2153 of them are English so I will remove all languages except English"
   ]
  },
  {
   "cell_type": "code",
   "execution_count": 48,
   "id": "7f3f1dbc-403c-49a6-9cfb-68acce685ec2",
   "metadata": {},
   "outputs": [
    {
     "data": {
      "text/html": [
       "<div>\n",
       "<style scoped>\n",
       "    .dataframe tbody tr th:only-of-type {\n",
       "        vertical-align: middle;\n",
       "    }\n",
       "\n",
       "    .dataframe tbody tr th {\n",
       "        vertical-align: top;\n",
       "    }\n",
       "\n",
       "    .dataframe thead th {\n",
       "        text-align: right;\n",
       "    }\n",
       "</style>\n",
       "<table border=\"1\" class=\"dataframe\">\n",
       "  <thead>\n",
       "    <tr style=\"text-align: right;\">\n",
       "      <th></th>\n",
       "      <th>Unnamed: 0</th>\n",
       "      <th>date</th>\n",
       "      <th>content</th>\n",
       "      <th>new_content</th>\n",
       "      <th>Language</th>\n",
       "    </tr>\n",
       "  </thead>\n",
       "  <tbody>\n",
       "    <tr>\n",
       "      <th>0</th>\n",
       "      <td>0</td>\n",
       "      <td>2021-12-09 18:23:16+00:00</td>\n",
       "      <td>fire tv stick 4k max review  worth the wait   ...</td>\n",
       "      <td>fire tv stick 4k max review  worth the wait   ...</td>\n",
       "      <td>en</td>\n",
       "    </tr>\n",
       "    <tr>\n",
       "      <th>1</th>\n",
       "      <td>1</td>\n",
       "      <td>2021-12-09 11:30:16+00:00</td>\n",
       "      <td>new post  possible free  5 prime video credit ...</td>\n",
       "      <td>new post  possible free  5 prime video credit ...</td>\n",
       "      <td>en</td>\n",
       "    </tr>\n",
       "    <tr>\n",
       "      <th>2</th>\n",
       "      <td>2</td>\n",
       "      <td>2021-12-09 09:05:28+00:00</td>\n",
       "      <td>wlrosetyler yeah  i too love google chromecas...</td>\n",
       "      <td>wlrosetyler yeah  i too love google chromecas...</td>\n",
       "      <td>en</td>\n",
       "    </tr>\n",
       "    <tr>\n",
       "      <th>3</th>\n",
       "      <td>3</td>\n",
       "      <td>2021-12-09 08:04:42+00:00</td>\n",
       "      <td>https   t co pxc0jtggwu ends december 9th 10 0...</td>\n",
       "      <td>t co pxc0jtggwu ends december 9th 10 00 pm...</td>\n",
       "      <td>en</td>\n",
       "    </tr>\n",
       "    <tr>\n",
       "      <th>4</th>\n",
       "      <td>4</td>\n",
       "      <td>2021-12-08 15:15:05+00:00</td>\n",
       "      <td>possible free  5 prime video credit  amazon fi...</td>\n",
       "      <td>possible free  5 prime video credit  amazon fi...</td>\n",
       "      <td>en</td>\n",
       "    </tr>\n",
       "    <tr>\n",
       "      <th>...</th>\n",
       "      <td>...</td>\n",
       "      <td>...</td>\n",
       "      <td>...</td>\n",
       "      <td>...</td>\n",
       "      <td>...</td>\n",
       "    </tr>\n",
       "    <tr>\n",
       "      <th>2266</th>\n",
       "      <td>2266</td>\n",
       "      <td>2014-10-27 14:31:49+00:00</td>\n",
       "      <td>does this mean fire tv can t use a tv s usb po...</td>\n",
       "      <td>does this mean fire tv can t use a tv s usb po...</td>\n",
       "      <td>en</td>\n",
       "    </tr>\n",
       "    <tr>\n",
       "      <th>2267</th>\n",
       "      <td>2267</td>\n",
       "      <td>2014-10-27 14:30:33+00:00</td>\n",
       "      <td>circa  amazon debuts fire tv stick streaming...</td>\n",
       "      <td>circa  amazon debuts fire tv stick streaming...</td>\n",
       "      <td>en</td>\n",
       "    </tr>\n",
       "    <tr>\n",
       "      <th>2268</th>\n",
       "      <td>2268</td>\n",
       "      <td>2014-10-27 13:41:33+00:00</td>\n",
       "      <td>the amazon fire tv stick looks neat</td>\n",
       "      <td>the amazon fire tv stick looks neat</td>\n",
       "      <td>en</td>\n",
       "    </tr>\n",
       "    <tr>\n",
       "      <th>2269</th>\n",
       "      <td>2269</td>\n",
       "      <td>2014-10-27 13:40:13+00:00</td>\n",
       "      <td>totally just ordered the  amazon fire tv stick...</td>\n",
       "      <td>totally just ordered the  amazon fire tv stick...</td>\n",
       "      <td>en</td>\n",
       "    </tr>\n",
       "    <tr>\n",
       "      <th>2270</th>\n",
       "      <td>2270</td>\n",
       "      <td>2014-10-27 13:21:06+00:00</td>\n",
       "      <td>amazon s new fire tv stick is a  39 chromecast...</td>\n",
       "      <td>amazon s new fire tv stick is a  39 chromecast...</td>\n",
       "      <td>en</td>\n",
       "    </tr>\n",
       "  </tbody>\n",
       "</table>\n",
       "<p>2153 rows × 5 columns</p>\n",
       "</div>"
      ],
      "text/plain": [
       "      Unnamed: 0                       date  \\\n",
       "0              0  2021-12-09 18:23:16+00:00   \n",
       "1              1  2021-12-09 11:30:16+00:00   \n",
       "2              2  2021-12-09 09:05:28+00:00   \n",
       "3              3  2021-12-09 08:04:42+00:00   \n",
       "4              4  2021-12-08 15:15:05+00:00   \n",
       "...          ...                        ...   \n",
       "2266        2266  2014-10-27 14:31:49+00:00   \n",
       "2267        2267  2014-10-27 14:30:33+00:00   \n",
       "2268        2268  2014-10-27 13:41:33+00:00   \n",
       "2269        2269  2014-10-27 13:40:13+00:00   \n",
       "2270        2270  2014-10-27 13:21:06+00:00   \n",
       "\n",
       "                                                content  \\\n",
       "0     fire tv stick 4k max review  worth the wait   ...   \n",
       "1     new post  possible free  5 prime video credit ...   \n",
       "2      wlrosetyler yeah  i too love google chromecas...   \n",
       "3     https   t co pxc0jtggwu ends december 9th 10 0...   \n",
       "4     possible free  5 prime video credit  amazon fi...   \n",
       "...                                                 ...   \n",
       "2266  does this mean fire tv can t use a tv s usb po...   \n",
       "2267    circa  amazon debuts fire tv stick streaming...   \n",
       "2268               the amazon fire tv stick looks neat    \n",
       "2269  totally just ordered the  amazon fire tv stick...   \n",
       "2270  amazon s new fire tv stick is a  39 chromecast...   \n",
       "\n",
       "                                            new_content Language  \n",
       "0     fire tv stick 4k max review  worth the wait   ...       en  \n",
       "1     new post  possible free  5 prime video credit ...       en  \n",
       "2      wlrosetyler yeah  i too love google chromecas...       en  \n",
       "3         t co pxc0jtggwu ends december 9th 10 00 pm...       en  \n",
       "4     possible free  5 prime video credit  amazon fi...       en  \n",
       "...                                                 ...      ...  \n",
       "2266  does this mean fire tv can t use a tv s usb po...       en  \n",
       "2267    circa  amazon debuts fire tv stick streaming...       en  \n",
       "2268               the amazon fire tv stick looks neat        en  \n",
       "2269  totally just ordered the  amazon fire tv stick...       en  \n",
       "2270  amazon s new fire tv stick is a  39 chromecast...       en  \n",
       "\n",
       "[2153 rows x 5 columns]"
      ]
     },
     "execution_count": 48,
     "metadata": {},
     "output_type": "execute_result"
    }
   ],
   "source": [
    "tweet_data_filtered = tweet_data[tweet_data['Language'] == \"en\"]\n",
    "tweet_data_filtered"
   ]
  },
  {
   "cell_type": "code",
   "execution_count": 49,
   "id": "4e920ff1-4dbc-4d00-a715-4d1399c00e32",
   "metadata": {},
   "outputs": [
    {
     "name": "stdout",
     "output_type": "stream",
     "text": [
      "<class 'pandas.core.frame.DataFrame'>\n",
      "Int64Index: 2153 entries, 0 to 2270\n",
      "Data columns (total 5 columns):\n",
      " #   Column       Non-Null Count  Dtype \n",
      "---  ------       --------------  ----- \n",
      " 0   Unnamed: 0   2153 non-null   int64 \n",
      " 1   date         2153 non-null   object\n",
      " 2   content      2153 non-null   object\n",
      " 3   new_content  2153 non-null   object\n",
      " 4   Language     2153 non-null   object\n",
      "dtypes: int64(1), object(4)\n",
      "memory usage: 100.9+ KB\n"
     ]
    }
   ],
   "source": [
    "tweet_data_filtered.info()"
   ]
  },
  {
   "cell_type": "markdown",
   "id": "eada35ea-f311-4df6-83ca-900d7623d659",
   "metadata": {},
   "source": [
    "I delete duplicate tweets and reached the last version of the tweet dataset"
   ]
  },
  {
   "cell_type": "code",
   "execution_count": 50,
   "id": "4e0c1ef3-30ec-4167-82af-c2b5fac200eb",
   "metadata": {},
   "outputs": [
    {
     "data": {
      "text/html": [
       "<div>\n",
       "<style scoped>\n",
       "    .dataframe tbody tr th:only-of-type {\n",
       "        vertical-align: middle;\n",
       "    }\n",
       "\n",
       "    .dataframe tbody tr th {\n",
       "        vertical-align: top;\n",
       "    }\n",
       "\n",
       "    .dataframe thead th {\n",
       "        text-align: right;\n",
       "    }\n",
       "</style>\n",
       "<table border=\"1\" class=\"dataframe\">\n",
       "  <thead>\n",
       "    <tr style=\"text-align: right;\">\n",
       "      <th></th>\n",
       "      <th>Unnamed: 0</th>\n",
       "      <th>date</th>\n",
       "      <th>content</th>\n",
       "      <th>new_content</th>\n",
       "      <th>Language</th>\n",
       "    </tr>\n",
       "  </thead>\n",
       "  <tbody>\n",
       "    <tr>\n",
       "      <th>0</th>\n",
       "      <td>0</td>\n",
       "      <td>2021-12-09 18:23:16+00:00</td>\n",
       "      <td>fire tv stick 4k max review  worth the wait   ...</td>\n",
       "      <td>fire tv stick 4k max review  worth the wait   ...</td>\n",
       "      <td>en</td>\n",
       "    </tr>\n",
       "    <tr>\n",
       "      <th>1</th>\n",
       "      <td>1</td>\n",
       "      <td>2021-12-09 11:30:16+00:00</td>\n",
       "      <td>new post  possible free  5 prime video credit ...</td>\n",
       "      <td>new post  possible free  5 prime video credit ...</td>\n",
       "      <td>en</td>\n",
       "    </tr>\n",
       "    <tr>\n",
       "      <th>2</th>\n",
       "      <td>2</td>\n",
       "      <td>2021-12-09 09:05:28+00:00</td>\n",
       "      <td>wlrosetyler yeah  i too love google chromecas...</td>\n",
       "      <td>wlrosetyler yeah  i too love google chromecas...</td>\n",
       "      <td>en</td>\n",
       "    </tr>\n",
       "    <tr>\n",
       "      <th>3</th>\n",
       "      <td>3</td>\n",
       "      <td>2021-12-09 08:04:42+00:00</td>\n",
       "      <td>https   t co pxc0jtggwu ends december 9th 10 0...</td>\n",
       "      <td>t co pxc0jtggwu ends december 9th 10 00 pm...</td>\n",
       "      <td>en</td>\n",
       "    </tr>\n",
       "    <tr>\n",
       "      <th>4</th>\n",
       "      <td>4</td>\n",
       "      <td>2021-12-08 15:15:05+00:00</td>\n",
       "      <td>possible free  5 prime video credit  amazon fi...</td>\n",
       "      <td>possible free  5 prime video credit  amazon fi...</td>\n",
       "      <td>en</td>\n",
       "    </tr>\n",
       "    <tr>\n",
       "      <th>...</th>\n",
       "      <td>...</td>\n",
       "      <td>...</td>\n",
       "      <td>...</td>\n",
       "      <td>...</td>\n",
       "      <td>...</td>\n",
       "    </tr>\n",
       "    <tr>\n",
       "      <th>2266</th>\n",
       "      <td>2266</td>\n",
       "      <td>2014-10-27 14:31:49+00:00</td>\n",
       "      <td>does this mean fire tv can t use a tv s usb po...</td>\n",
       "      <td>does this mean fire tv can t use a tv s usb po...</td>\n",
       "      <td>en</td>\n",
       "    </tr>\n",
       "    <tr>\n",
       "      <th>2267</th>\n",
       "      <td>2267</td>\n",
       "      <td>2014-10-27 14:30:33+00:00</td>\n",
       "      <td>circa  amazon debuts fire tv stick streaming...</td>\n",
       "      <td>circa  amazon debuts fire tv stick streaming...</td>\n",
       "      <td>en</td>\n",
       "    </tr>\n",
       "    <tr>\n",
       "      <th>2268</th>\n",
       "      <td>2268</td>\n",
       "      <td>2014-10-27 13:41:33+00:00</td>\n",
       "      <td>the amazon fire tv stick looks neat</td>\n",
       "      <td>the amazon fire tv stick looks neat</td>\n",
       "      <td>en</td>\n",
       "    </tr>\n",
       "    <tr>\n",
       "      <th>2269</th>\n",
       "      <td>2269</td>\n",
       "      <td>2014-10-27 13:40:13+00:00</td>\n",
       "      <td>totally just ordered the  amazon fire tv stick...</td>\n",
       "      <td>totally just ordered the  amazon fire tv stick...</td>\n",
       "      <td>en</td>\n",
       "    </tr>\n",
       "    <tr>\n",
       "      <th>2270</th>\n",
       "      <td>2270</td>\n",
       "      <td>2014-10-27 13:21:06+00:00</td>\n",
       "      <td>amazon s new fire tv stick is a  39 chromecast...</td>\n",
       "      <td>amazon s new fire tv stick is a  39 chromecast...</td>\n",
       "      <td>en</td>\n",
       "    </tr>\n",
       "  </tbody>\n",
       "</table>\n",
       "<p>2148 rows × 5 columns</p>\n",
       "</div>"
      ],
      "text/plain": [
       "      Unnamed: 0                       date  \\\n",
       "0              0  2021-12-09 18:23:16+00:00   \n",
       "1              1  2021-12-09 11:30:16+00:00   \n",
       "2              2  2021-12-09 09:05:28+00:00   \n",
       "3              3  2021-12-09 08:04:42+00:00   \n",
       "4              4  2021-12-08 15:15:05+00:00   \n",
       "...          ...                        ...   \n",
       "2266        2266  2014-10-27 14:31:49+00:00   \n",
       "2267        2267  2014-10-27 14:30:33+00:00   \n",
       "2268        2268  2014-10-27 13:41:33+00:00   \n",
       "2269        2269  2014-10-27 13:40:13+00:00   \n",
       "2270        2270  2014-10-27 13:21:06+00:00   \n",
       "\n",
       "                                                content  \\\n",
       "0     fire tv stick 4k max review  worth the wait   ...   \n",
       "1     new post  possible free  5 prime video credit ...   \n",
       "2      wlrosetyler yeah  i too love google chromecas...   \n",
       "3     https   t co pxc0jtggwu ends december 9th 10 0...   \n",
       "4     possible free  5 prime video credit  amazon fi...   \n",
       "...                                                 ...   \n",
       "2266  does this mean fire tv can t use a tv s usb po...   \n",
       "2267    circa  amazon debuts fire tv stick streaming...   \n",
       "2268               the amazon fire tv stick looks neat    \n",
       "2269  totally just ordered the  amazon fire tv stick...   \n",
       "2270  amazon s new fire tv stick is a  39 chromecast...   \n",
       "\n",
       "                                            new_content Language  \n",
       "0     fire tv stick 4k max review  worth the wait   ...       en  \n",
       "1     new post  possible free  5 prime video credit ...       en  \n",
       "2      wlrosetyler yeah  i too love google chromecas...       en  \n",
       "3         t co pxc0jtggwu ends december 9th 10 00 pm...       en  \n",
       "4     possible free  5 prime video credit  amazon fi...       en  \n",
       "...                                                 ...      ...  \n",
       "2266  does this mean fire tv can t use a tv s usb po...       en  \n",
       "2267    circa  amazon debuts fire tv stick streaming...       en  \n",
       "2268               the amazon fire tv stick looks neat        en  \n",
       "2269  totally just ordered the  amazon fire tv stick...       en  \n",
       "2270  amazon s new fire tv stick is a  39 chromecast...       en  \n",
       "\n",
       "[2148 rows x 5 columns]"
      ]
     },
     "execution_count": 50,
     "metadata": {},
     "output_type": "execute_result"
    }
   ],
   "source": [
    "tweet_data_filtered = tweet_data_filtered.drop_duplicates(subset=['new_content'], keep='first')\n",
    "tweet_data_filtered"
   ]
  },
  {
   "cell_type": "code",
   "execution_count": 51,
   "id": "cf5c8e7a-a07e-49c5-bd89-2c54ac71cd0c",
   "metadata": {},
   "outputs": [
    {
     "name": "stdout",
     "output_type": "stream",
     "text": [
      "<class 'pandas.core.frame.DataFrame'>\n",
      "Int64Index: 2148 entries, 0 to 2270\n",
      "Data columns (total 5 columns):\n",
      " #   Column       Non-Null Count  Dtype \n",
      "---  ------       --------------  ----- \n",
      " 0   Unnamed: 0   2148 non-null   int64 \n",
      " 1   date         2148 non-null   object\n",
      " 2   content      2148 non-null   object\n",
      " 3   new_content  2148 non-null   object\n",
      " 4   Language     2148 non-null   object\n",
      "dtypes: int64(1), object(4)\n",
      "memory usage: 100.7+ KB\n"
     ]
    }
   ],
   "source": [
    "tweet_data_filtered.info()"
   ]
  },
  {
   "cell_type": "code",
   "execution_count": 52,
   "id": "01e1c7e7-95df-4a9f-92f9-b6c8adc3fa11",
   "metadata": {},
   "outputs": [
    {
     "data": {
      "text/html": [
       "<div>\n",
       "<style scoped>\n",
       "    .dataframe tbody tr th:only-of-type {\n",
       "        vertical-align: middle;\n",
       "    }\n",
       "\n",
       "    .dataframe tbody tr th {\n",
       "        vertical-align: top;\n",
       "    }\n",
       "\n",
       "    .dataframe thead th {\n",
       "        text-align: right;\n",
       "    }\n",
       "</style>\n",
       "<table border=\"1\" class=\"dataframe\">\n",
       "  <thead>\n",
       "    <tr style=\"text-align: right;\">\n",
       "      <th></th>\n",
       "      <th>Unnamed: 0</th>\n",
       "      <th>date</th>\n",
       "      <th>new_content</th>\n",
       "    </tr>\n",
       "  </thead>\n",
       "  <tbody>\n",
       "    <tr>\n",
       "      <th>0</th>\n",
       "      <td>0</td>\n",
       "      <td>2021-12-09 18:23:16+00:00</td>\n",
       "      <td>fire tv stick 4k max review  worth the wait   ...</td>\n",
       "    </tr>\n",
       "    <tr>\n",
       "      <th>1</th>\n",
       "      <td>1</td>\n",
       "      <td>2021-12-09 11:30:16+00:00</td>\n",
       "      <td>new post  possible free  5 prime video credit ...</td>\n",
       "    </tr>\n",
       "    <tr>\n",
       "      <th>2</th>\n",
       "      <td>2</td>\n",
       "      <td>2021-12-09 09:05:28+00:00</td>\n",
       "      <td>wlrosetyler yeah  i too love google chromecas...</td>\n",
       "    </tr>\n",
       "    <tr>\n",
       "      <th>3</th>\n",
       "      <td>3</td>\n",
       "      <td>2021-12-09 08:04:42+00:00</td>\n",
       "      <td>t co pxc0jtggwu ends december 9th 10 00 pm...</td>\n",
       "    </tr>\n",
       "    <tr>\n",
       "      <th>4</th>\n",
       "      <td>4</td>\n",
       "      <td>2021-12-08 15:15:05+00:00</td>\n",
       "      <td>possible free  5 prime video credit  amazon fi...</td>\n",
       "    </tr>\n",
       "    <tr>\n",
       "      <th>...</th>\n",
       "      <td>...</td>\n",
       "      <td>...</td>\n",
       "      <td>...</td>\n",
       "    </tr>\n",
       "    <tr>\n",
       "      <th>2266</th>\n",
       "      <td>2266</td>\n",
       "      <td>2014-10-27 14:31:49+00:00</td>\n",
       "      <td>does this mean fire tv can t use a tv s usb po...</td>\n",
       "    </tr>\n",
       "    <tr>\n",
       "      <th>2267</th>\n",
       "      <td>2267</td>\n",
       "      <td>2014-10-27 14:30:33+00:00</td>\n",
       "      <td>circa  amazon debuts fire tv stick streaming...</td>\n",
       "    </tr>\n",
       "    <tr>\n",
       "      <th>2268</th>\n",
       "      <td>2268</td>\n",
       "      <td>2014-10-27 13:41:33+00:00</td>\n",
       "      <td>the amazon fire tv stick looks neat</td>\n",
       "    </tr>\n",
       "    <tr>\n",
       "      <th>2269</th>\n",
       "      <td>2269</td>\n",
       "      <td>2014-10-27 13:40:13+00:00</td>\n",
       "      <td>totally just ordered the  amazon fire tv stick...</td>\n",
       "    </tr>\n",
       "    <tr>\n",
       "      <th>2270</th>\n",
       "      <td>2270</td>\n",
       "      <td>2014-10-27 13:21:06+00:00</td>\n",
       "      <td>amazon s new fire tv stick is a  39 chromecast...</td>\n",
       "    </tr>\n",
       "  </tbody>\n",
       "</table>\n",
       "<p>2148 rows × 3 columns</p>\n",
       "</div>"
      ],
      "text/plain": [
       "      Unnamed: 0                       date  \\\n",
       "0              0  2021-12-09 18:23:16+00:00   \n",
       "1              1  2021-12-09 11:30:16+00:00   \n",
       "2              2  2021-12-09 09:05:28+00:00   \n",
       "3              3  2021-12-09 08:04:42+00:00   \n",
       "4              4  2021-12-08 15:15:05+00:00   \n",
       "...          ...                        ...   \n",
       "2266        2266  2014-10-27 14:31:49+00:00   \n",
       "2267        2267  2014-10-27 14:30:33+00:00   \n",
       "2268        2268  2014-10-27 13:41:33+00:00   \n",
       "2269        2269  2014-10-27 13:40:13+00:00   \n",
       "2270        2270  2014-10-27 13:21:06+00:00   \n",
       "\n",
       "                                            new_content  \n",
       "0     fire tv stick 4k max review  worth the wait   ...  \n",
       "1     new post  possible free  5 prime video credit ...  \n",
       "2      wlrosetyler yeah  i too love google chromecas...  \n",
       "3         t co pxc0jtggwu ends december 9th 10 00 pm...  \n",
       "4     possible free  5 prime video credit  amazon fi...  \n",
       "...                                                 ...  \n",
       "2266  does this mean fire tv can t use a tv s usb po...  \n",
       "2267    circa  amazon debuts fire tv stick streaming...  \n",
       "2268               the amazon fire tv stick looks neat   \n",
       "2269  totally just ordered the  amazon fire tv stick...  \n",
       "2270  amazon s new fire tv stick is a  39 chromecast...  \n",
       "\n",
       "[2148 rows x 3 columns]"
      ]
     },
     "execution_count": 52,
     "metadata": {},
     "output_type": "execute_result"
    }
   ],
   "source": [
    "tweet_data = tweet_data_filtered.drop(['content', 'Language'], axis=1)\n",
    "tweet_data"
   ]
  },
  {
   "cell_type": "code",
   "execution_count": 53,
   "id": "2fb0cc12-1de1-4eda-b592-60de35d584e0",
   "metadata": {},
   "outputs": [
    {
     "data": {
      "text/html": [
       "<div>\n",
       "<style scoped>\n",
       "    .dataframe tbody tr th:only-of-type {\n",
       "        vertical-align: middle;\n",
       "    }\n",
       "\n",
       "    .dataframe tbody tr th {\n",
       "        vertical-align: top;\n",
       "    }\n",
       "\n",
       "    .dataframe thead th {\n",
       "        text-align: right;\n",
       "    }\n",
       "</style>\n",
       "<table border=\"1\" class=\"dataframe\">\n",
       "  <thead>\n",
       "    <tr style=\"text-align: right;\">\n",
       "      <th></th>\n",
       "      <th>Unnamed: 0</th>\n",
       "      <th>date</th>\n",
       "      <th>new_content</th>\n",
       "      <th>length</th>\n",
       "    </tr>\n",
       "  </thead>\n",
       "  <tbody>\n",
       "    <tr>\n",
       "      <th>0</th>\n",
       "      <td>0</td>\n",
       "      <td>2021-12-09 18:23:16+00:00</td>\n",
       "      <td>fire tv stick 4k max review  worth the wait   ...</td>\n",
       "      <td>0</td>\n",
       "    </tr>\n",
       "    <tr>\n",
       "      <th>1</th>\n",
       "      <td>1</td>\n",
       "      <td>2021-12-09 11:30:16+00:00</td>\n",
       "      <td>new post  possible free  5 prime video credit ...</td>\n",
       "      <td>0</td>\n",
       "    </tr>\n",
       "    <tr>\n",
       "      <th>2</th>\n",
       "      <td>2</td>\n",
       "      <td>2021-12-09 09:05:28+00:00</td>\n",
       "      <td>wlrosetyler yeah  i too love google chromecas...</td>\n",
       "      <td>1</td>\n",
       "    </tr>\n",
       "    <tr>\n",
       "      <th>3</th>\n",
       "      <td>3</td>\n",
       "      <td>2021-12-09 08:04:42+00:00</td>\n",
       "      <td>t co pxc0jtggwu ends december 9th 10 00 pm...</td>\n",
       "      <td>0</td>\n",
       "    </tr>\n",
       "    <tr>\n",
       "      <th>4</th>\n",
       "      <td>4</td>\n",
       "      <td>2021-12-08 15:15:05+00:00</td>\n",
       "      <td>possible free  5 prime video credit  amazon fi...</td>\n",
       "      <td>0</td>\n",
       "    </tr>\n",
       "    <tr>\n",
       "      <th>...</th>\n",
       "      <td>...</td>\n",
       "      <td>...</td>\n",
       "      <td>...</td>\n",
       "      <td>...</td>\n",
       "    </tr>\n",
       "    <tr>\n",
       "      <th>2266</th>\n",
       "      <td>2266</td>\n",
       "      <td>2014-10-27 14:31:49+00:00</td>\n",
       "      <td>does this mean fire tv can t use a tv s usb po...</td>\n",
       "      <td>0</td>\n",
       "    </tr>\n",
       "    <tr>\n",
       "      <th>2267</th>\n",
       "      <td>2267</td>\n",
       "      <td>2014-10-27 14:30:33+00:00</td>\n",
       "      <td>circa  amazon debuts fire tv stick streaming...</td>\n",
       "      <td>0</td>\n",
       "    </tr>\n",
       "    <tr>\n",
       "      <th>2268</th>\n",
       "      <td>2268</td>\n",
       "      <td>2014-10-27 13:41:33+00:00</td>\n",
       "      <td>the amazon fire tv stick looks neat</td>\n",
       "      <td>1</td>\n",
       "    </tr>\n",
       "    <tr>\n",
       "      <th>2269</th>\n",
       "      <td>2269</td>\n",
       "      <td>2014-10-27 13:40:13+00:00</td>\n",
       "      <td>totally just ordered the  amazon fire tv stick...</td>\n",
       "      <td>1</td>\n",
       "    </tr>\n",
       "    <tr>\n",
       "      <th>2270</th>\n",
       "      <td>2270</td>\n",
       "      <td>2014-10-27 13:21:06+00:00</td>\n",
       "      <td>amazon s new fire tv stick is a  39 chromecast...</td>\n",
       "      <td>0</td>\n",
       "    </tr>\n",
       "  </tbody>\n",
       "</table>\n",
       "<p>2148 rows × 4 columns</p>\n",
       "</div>"
      ],
      "text/plain": [
       "      Unnamed: 0                       date  \\\n",
       "0              0  2021-12-09 18:23:16+00:00   \n",
       "1              1  2021-12-09 11:30:16+00:00   \n",
       "2              2  2021-12-09 09:05:28+00:00   \n",
       "3              3  2021-12-09 08:04:42+00:00   \n",
       "4              4  2021-12-08 15:15:05+00:00   \n",
       "...          ...                        ...   \n",
       "2266        2266  2014-10-27 14:31:49+00:00   \n",
       "2267        2267  2014-10-27 14:30:33+00:00   \n",
       "2268        2268  2014-10-27 13:41:33+00:00   \n",
       "2269        2269  2014-10-27 13:40:13+00:00   \n",
       "2270        2270  2014-10-27 13:21:06+00:00   \n",
       "\n",
       "                                            new_content  length  \n",
       "0     fire tv stick 4k max review  worth the wait   ...       0  \n",
       "1     new post  possible free  5 prime video credit ...       0  \n",
       "2      wlrosetyler yeah  i too love google chromecas...       1  \n",
       "3         t co pxc0jtggwu ends december 9th 10 00 pm...       0  \n",
       "4     possible free  5 prime video credit  amazon fi...       0  \n",
       "...                                                 ...     ...  \n",
       "2266  does this mean fire tv can t use a tv s usb po...       0  \n",
       "2267    circa  amazon debuts fire tv stick streaming...       0  \n",
       "2268               the amazon fire tv stick looks neat        1  \n",
       "2269  totally just ordered the  amazon fire tv stick...       1  \n",
       "2270  amazon s new fire tv stick is a  39 chromecast...       0  \n",
       "\n",
       "[2148 rows x 4 columns]"
      ]
     },
     "execution_count": 53,
     "metadata": {},
     "output_type": "execute_result"
    }
   ],
   "source": [
    "length = lambda x: len(x).split()\n",
    "def has_numbers(inputString):\n",
    "    return any(char.isdigit() for char in inputString)\n",
    "tweet_data[\"length\"] = tweet_data[\"new_content\"].apply(lambda x: 0 if has_numbers(x) else 1)\n",
    "tweet_data"
   ]
  },
  {
   "cell_type": "code",
   "execution_count": 54,
   "id": "24d35069-81e0-40c6-917a-fd772f779bd7",
   "metadata": {},
   "outputs": [
    {
     "data": {
      "text/html": [
       "<div>\n",
       "<style scoped>\n",
       "    .dataframe tbody tr th:only-of-type {\n",
       "        vertical-align: middle;\n",
       "    }\n",
       "\n",
       "    .dataframe tbody tr th {\n",
       "        vertical-align: top;\n",
       "    }\n",
       "\n",
       "    .dataframe thead th {\n",
       "        text-align: right;\n",
       "    }\n",
       "</style>\n",
       "<table border=\"1\" class=\"dataframe\">\n",
       "  <thead>\n",
       "    <tr style=\"text-align: right;\">\n",
       "      <th></th>\n",
       "      <th>Unnamed: 0</th>\n",
       "      <th>date</th>\n",
       "      <th>new_content</th>\n",
       "    </tr>\n",
       "  </thead>\n",
       "  <tbody>\n",
       "    <tr>\n",
       "      <th>2</th>\n",
       "      <td>2</td>\n",
       "      <td>2021-12-09 09:05:28+00:00</td>\n",
       "      <td>wlrosetyler yeah  i too love google chromecas...</td>\n",
       "    </tr>\n",
       "    <tr>\n",
       "      <th>5</th>\n",
       "      <td>5</td>\n",
       "      <td>2021-12-08 14:36:03+00:00</td>\n",
       "      <td>i have a new roku smart tv  but have a new ama...</td>\n",
       "    </tr>\n",
       "    <tr>\n",
       "      <th>7</th>\n",
       "      <td>7</td>\n",
       "      <td>2021-12-08 02:44:45+00:00</td>\n",
       "      <td>nicolaweather with fire tv you can only acces...</td>\n",
       "    </tr>\n",
       "    <tr>\n",
       "      <th>13</th>\n",
       "      <td>13</td>\n",
       "      <td>2021-12-07 20:14:36+00:00</td>\n",
       "      <td>a very handy feature of fire tv stick and fire...</td>\n",
       "    </tr>\n",
       "    <tr>\n",
       "      <th>33</th>\n",
       "      <td>33</td>\n",
       "      <td>2021-12-07 01:40:51+00:00</td>\n",
       "      <td>the new  amazon fire tv stick layout is absolu...</td>\n",
       "    </tr>\n",
       "    <tr>\n",
       "      <th>...</th>\n",
       "      <td>...</td>\n",
       "      <td>...</td>\n",
       "      <td>...</td>\n",
       "    </tr>\n",
       "    <tr>\n",
       "      <th>2256</th>\n",
       "      <td>2256</td>\n",
       "      <td>2014-10-27 17:52:00+00:00</td>\n",
       "      <td>fire tv stick  sounds like a primitive name f...</td>\n",
       "    </tr>\n",
       "    <tr>\n",
       "      <th>2261</th>\n",
       "      <td>2261</td>\n",
       "      <td>2014-10-27 16:49:02+00:00</td>\n",
       "      <td>i kinda want the fire tv stick just because of...</td>\n",
       "    </tr>\n",
       "    <tr>\n",
       "      <th>2262</th>\n",
       "      <td>2262</td>\n",
       "      <td>2014-10-27 16:18:53+00:00</td>\n",
       "      <td>chromecast   fire t...</td>\n",
       "    </tr>\n",
       "    <tr>\n",
       "      <th>2268</th>\n",
       "      <td>2268</td>\n",
       "      <td>2014-10-27 13:41:33+00:00</td>\n",
       "      <td>the amazon fire tv stick looks neat</td>\n",
       "    </tr>\n",
       "    <tr>\n",
       "      <th>2269</th>\n",
       "      <td>2269</td>\n",
       "      <td>2014-10-27 13:40:13+00:00</td>\n",
       "      <td>totally just ordered the  amazon fire tv stick...</td>\n",
       "    </tr>\n",
       "  </tbody>\n",
       "</table>\n",
       "<p>663 rows × 3 columns</p>\n",
       "</div>"
      ],
      "text/plain": [
       "      Unnamed: 0                       date  \\\n",
       "2              2  2021-12-09 09:05:28+00:00   \n",
       "5              5  2021-12-08 14:36:03+00:00   \n",
       "7              7  2021-12-08 02:44:45+00:00   \n",
       "13            13  2021-12-07 20:14:36+00:00   \n",
       "33            33  2021-12-07 01:40:51+00:00   \n",
       "...          ...                        ...   \n",
       "2256        2256  2014-10-27 17:52:00+00:00   \n",
       "2261        2261  2014-10-27 16:49:02+00:00   \n",
       "2262        2262  2014-10-27 16:18:53+00:00   \n",
       "2268        2268  2014-10-27 13:41:33+00:00   \n",
       "2269        2269  2014-10-27 13:40:13+00:00   \n",
       "\n",
       "                                            new_content  \n",
       "2      wlrosetyler yeah  i too love google chromecas...  \n",
       "5     i have a new roku smart tv  but have a new ama...  \n",
       "7      nicolaweather with fire tv you can only acces...  \n",
       "13    a very handy feature of fire tv stick and fire...  \n",
       "33    the new  amazon fire tv stick layout is absolu...  \n",
       "...                                                 ...  \n",
       "2256   fire tv stick  sounds like a primitive name f...  \n",
       "2261  i kinda want the fire tv stick just because of...  \n",
       "2262                             chromecast   fire t...  \n",
       "2268               the amazon fire tv stick looks neat   \n",
       "2269  totally just ordered the  amazon fire tv stick...  \n",
       "\n",
       "[663 rows x 3 columns]"
      ]
     },
     "execution_count": 54,
     "metadata": {},
     "output_type": "execute_result"
    }
   ],
   "source": [
    "tweet_data = tweet_data[tweet_data['length'] == 1]\n",
    "tweet_data = tweet_data.drop('length', axis=1)\n",
    "tweet_data"
   ]
  },
  {
   "cell_type": "markdown",
   "id": "64d196d0-5b83-4367-b08b-c9223335b158",
   "metadata": {},
   "source": [
    "TFIDF and Linear SVM"
   ]
  },
  {
   "cell_type": "code",
   "execution_count": 2,
   "id": "af9e0be8-737f-4f90-8bf4-17e2668a5a94",
   "metadata": {},
   "outputs": [],
   "source": [
    "from sklearn.feature_extraction.text import TfidfVectorizer\n",
    "from sklearn.model_selection import train_test_split, GridSearchCV\n",
    "from sklearn.svm import LinearSVC\n",
    "from sklearn.metrics import classification_report"
   ]
  },
  {
   "cell_type": "code",
   "execution_count": 43,
   "id": "05cf625b-9019-4723-9cc3-628336f40bb5",
   "metadata": {},
   "outputs": [],
   "source": [
    "tfidf = TfidfVectorizer(max_features=20000, ngram_range=(1,10), analyzer='char') #“Term Frequency — Inverse Document Frequency”"
   ]
  },
  {
   "cell_type": "code",
   "execution_count": 44,
   "id": "b677fb86-c5ef-4f95-9152-9cee04bab5dc",
   "metadata": {},
   "outputs": [],
   "source": [
    "X = tfidf.fit_transform(amazon_data[\"Review\"])\n",
    "y = amazon_data[\"Rate\"]"
   ]
  },
  {
   "cell_type": "code",
   "execution_count": 45,
   "id": "00933f42-f847-40aa-b1c4-f6fc4754e49d",
   "metadata": {},
   "outputs": [],
   "source": [
    "X_train, X_test, y_train, y_test = train_test_split(X, y, test_size = 0.2)"
   ]
  },
  {
   "cell_type": "code",
   "execution_count": 46,
   "id": "22a3b11e-21e0-4a7e-b227-ef58eb36acb5",
   "metadata": {},
   "outputs": [
    {
     "data": {
      "text/plain": [
       "(3905, 20000)"
      ]
     },
     "execution_count": 46,
     "metadata": {},
     "output_type": "execute_result"
    }
   ],
   "source": [
    "X_train.shape"
   ]
  },
  {
   "cell_type": "code",
   "execution_count": 47,
   "id": "9de43944-1c90-46a1-832f-ad13628737bd",
   "metadata": {},
   "outputs": [
    {
     "data": {
      "text/plain": [
       "(977, 20000)"
      ]
     },
     "execution_count": 47,
     "metadata": {},
     "output_type": "execute_result"
    }
   ],
   "source": [
    "X_test.shape"
   ]
  },
  {
   "cell_type": "code",
   "execution_count": 48,
   "id": "4661b361-3f88-4089-bb4f-f34f930d930b",
   "metadata": {},
   "outputs": [
    {
     "data": {
      "text/plain": [
       "LinearSVC(C=10, class_weight='balanced')"
      ]
     },
     "execution_count": 48,
     "metadata": {},
     "output_type": "execute_result"
    }
   ],
   "source": [
    "clf = LinearSVC(C=10, class_weight=\"balanced\")\n",
    "clf.fit(X_train, y_train)"
   ]
  },
  {
   "cell_type": "code",
   "execution_count": 49,
   "id": "20e11235-f0e3-4d8a-b53b-c1ed3e531508",
   "metadata": {},
   "outputs": [],
   "source": [
    "y_pred = clf.predict(X_test)"
   ]
  },
  {
   "cell_type": "code",
   "execution_count": 50,
   "id": "31928de2-8df6-4a27-99e6-bbb5a812649c",
   "metadata": {},
   "outputs": [
    {
     "name": "stdout",
     "output_type": "stream",
     "text": [
      "              precision    recall  f1-score   support\n",
      "\n",
      "           1       0.60      0.59      0.59       211\n",
      "           2       0.10      0.09      0.09        90\n",
      "           3       0.14      0.14      0.14       124\n",
      "           4       0.31      0.30      0.31       139\n",
      "           5       0.76      0.78      0.77       413\n",
      "\n",
      "    accuracy                           0.53       977\n",
      "   macro avg       0.38      0.38      0.38       977\n",
      "weighted avg       0.52      0.53      0.52       977\n",
      "\n"
     ]
    }
   ],
   "source": [
    "print(classification_report(y_test, y_pred))"
   ]
  },
  {
   "cell_type": "markdown",
   "id": "15b2b295-71d0-485a-be67-62e0bb643d68",
   "metadata": {},
   "source": [
    "My accuracy is very low so I decided to have model tuning process for better results"
   ]
  },
  {
   "cell_type": "markdown",
   "id": "7dcdcb3a-8206-490e-8f3a-ea61522f8638",
   "metadata": {
    "tags": []
   },
   "source": [
    "Model Tuning"
   ]
  },
  {
   "cell_type": "code",
   "execution_count": 53,
   "id": "3895c7d5-f87d-40b4-82e9-9d7ac7a9377e",
   "metadata": {},
   "outputs": [],
   "source": [
    "svc_params = {\"C\": [0.01, 0.1, 0.5, 1,]}  \n",
    "svc_cv_model = GridSearchCV(clf, svc_params, cv=5).fit(X_train, y_train)"
   ]
  },
  {
   "cell_type": "code",
   "execution_count": 54,
   "id": "5c9e84f8-7d32-43ea-8969-de1601714a27",
   "metadata": {},
   "outputs": [
    {
     "data": {
      "text/plain": [
       "{'C': 0.1}"
      ]
     },
     "execution_count": 54,
     "metadata": {},
     "output_type": "execute_result"
    }
   ],
   "source": [
    "svc_cv_model.best_params_"
   ]
  },
  {
   "cell_type": "markdown",
   "id": "66f72982-54c2-4df2-bef2-a65482f9c74c",
   "metadata": {},
   "source": [
    "Final Model With SVC"
   ]
  },
  {
   "cell_type": "code",
   "execution_count": 55,
   "id": "b23db8a5-5a19-4fb4-941a-113df6aa06e2",
   "metadata": {},
   "outputs": [
    {
     "data": {
      "text/plain": [
       "LinearSVC(C=0.1, class_weight='balanced')"
      ]
     },
     "execution_count": 55,
     "metadata": {},
     "output_type": "execute_result"
    }
   ],
   "source": [
    "clf_tuned = LinearSVC(C=0.1, class_weight=\"balanced\")\n",
    "clf_tuned.fit(X_train, y_train)"
   ]
  },
  {
   "cell_type": "code",
   "execution_count": 56,
   "id": "1971f507-1d68-4c32-b874-424e535313f8",
   "metadata": {},
   "outputs": [],
   "source": [
    "y_pred = clf_tuned.predict(X_test)"
   ]
  },
  {
   "cell_type": "code",
   "execution_count": 57,
   "id": "20de1166-e3ed-4c12-b8a0-ccdea3490d9c",
   "metadata": {},
   "outputs": [
    {
     "name": "stdout",
     "output_type": "stream",
     "text": [
      "              precision    recall  f1-score   support\n",
      "\n",
      "           1       0.58      0.72      0.64       211\n",
      "           2       0.15      0.09      0.11        90\n",
      "           3       0.21      0.15      0.17       124\n",
      "           4       0.32      0.17      0.22       139\n",
      "           5       0.72      0.87      0.79       413\n",
      "\n",
      "    accuracy                           0.58       977\n",
      "   macro avg       0.40      0.40      0.39       977\n",
      "weighted avg       0.51      0.58      0.54       977\n",
      "\n"
     ]
    }
   ],
   "source": [
    "print(classification_report(y_test, y_pred))"
   ]
  },
  {
   "cell_type": "markdown",
   "id": "a541efed-4df3-4d15-a7fd-3b6ba152e11f",
   "metadata": {},
   "source": [
    "After tuning the model accuracy is increased but still not enugh. "
   ]
  },
  {
   "cell_type": "markdown",
   "id": "1c779487-63dc-4c9e-b870-0126113f6d76",
   "metadata": {},
   "source": [
    "MAKING PREDICTION WITH TWEETS"
   ]
  },
  {
   "cell_type": "code",
   "execution_count": 58,
   "id": "1bfeb26d-c2ca-4400-a91c-5b2dc6dd6413",
   "metadata": {},
   "outputs": [],
   "source": [
    "tweet_x = tfidf.fit_transform(tweet_data[\"new_content\"])"
   ]
  },
  {
   "cell_type": "code",
   "execution_count": 59,
   "id": "d3456dcc-5baf-4762-b3f7-fa1b3bc4a8b5",
   "metadata": {},
   "outputs": [],
   "source": [
    "tweet_data[\"stars\"] = clf.predict(tweet_x)"
   ]
  },
  {
   "cell_type": "code",
   "execution_count": 60,
   "id": "9ede7357-8331-4691-b155-1e3b266d34ac",
   "metadata": {},
   "outputs": [
    {
     "data": {
      "text/html": [
       "<div>\n",
       "<style scoped>\n",
       "    .dataframe tbody tr th:only-of-type {\n",
       "        vertical-align: middle;\n",
       "    }\n",
       "\n",
       "    .dataframe tbody tr th {\n",
       "        vertical-align: top;\n",
       "    }\n",
       "\n",
       "    .dataframe thead th {\n",
       "        text-align: right;\n",
       "    }\n",
       "</style>\n",
       "<table border=\"1\" class=\"dataframe\">\n",
       "  <thead>\n",
       "    <tr style=\"text-align: right;\">\n",
       "      <th></th>\n",
       "      <th>Unnamed: 0</th>\n",
       "      <th>date</th>\n",
       "      <th>new_content</th>\n",
       "      <th>stars</th>\n",
       "    </tr>\n",
       "  </thead>\n",
       "  <tbody>\n",
       "    <tr>\n",
       "      <th>2</th>\n",
       "      <td>2</td>\n",
       "      <td>2021-12-09 09:05:28+00:00</td>\n",
       "      <td>wlrosetyler yeah  i too love google chromecas...</td>\n",
       "      <td>3</td>\n",
       "    </tr>\n",
       "    <tr>\n",
       "      <th>5</th>\n",
       "      <td>5</td>\n",
       "      <td>2021-12-08 14:36:03+00:00</td>\n",
       "      <td>i have a new roku smart tv  but have a new ama...</td>\n",
       "      <td>5</td>\n",
       "    </tr>\n",
       "    <tr>\n",
       "      <th>7</th>\n",
       "      <td>7</td>\n",
       "      <td>2021-12-08 02:44:45+00:00</td>\n",
       "      <td>nicolaweather with fire tv you can only acces...</td>\n",
       "      <td>5</td>\n",
       "    </tr>\n",
       "    <tr>\n",
       "      <th>13</th>\n",
       "      <td>13</td>\n",
       "      <td>2021-12-07 20:14:36+00:00</td>\n",
       "      <td>a very handy feature of fire tv stick and fire...</td>\n",
       "      <td>5</td>\n",
       "    </tr>\n",
       "    <tr>\n",
       "      <th>33</th>\n",
       "      <td>33</td>\n",
       "      <td>2021-12-07 01:40:51+00:00</td>\n",
       "      <td>the new  amazon fire tv stick layout is absolu...</td>\n",
       "      <td>5</td>\n",
       "    </tr>\n",
       "    <tr>\n",
       "      <th>...</th>\n",
       "      <td>...</td>\n",
       "      <td>...</td>\n",
       "      <td>...</td>\n",
       "      <td>...</td>\n",
       "    </tr>\n",
       "    <tr>\n",
       "      <th>2256</th>\n",
       "      <td>2256</td>\n",
       "      <td>2014-10-27 17:52:00+00:00</td>\n",
       "      <td>fire tv stick  sounds like a primitive name f...</td>\n",
       "      <td>5</td>\n",
       "    </tr>\n",
       "    <tr>\n",
       "      <th>2261</th>\n",
       "      <td>2261</td>\n",
       "      <td>2014-10-27 16:49:02+00:00</td>\n",
       "      <td>i kinda want the fire tv stick just because of...</td>\n",
       "      <td>5</td>\n",
       "    </tr>\n",
       "    <tr>\n",
       "      <th>2262</th>\n",
       "      <td>2262</td>\n",
       "      <td>2014-10-27 16:18:53+00:00</td>\n",
       "      <td>chromecast   fire t...</td>\n",
       "      <td>3</td>\n",
       "    </tr>\n",
       "    <tr>\n",
       "      <th>2268</th>\n",
       "      <td>2268</td>\n",
       "      <td>2014-10-27 13:41:33+00:00</td>\n",
       "      <td>the amazon fire tv stick looks neat</td>\n",
       "      <td>5</td>\n",
       "    </tr>\n",
       "    <tr>\n",
       "      <th>2269</th>\n",
       "      <td>2269</td>\n",
       "      <td>2014-10-27 13:40:13+00:00</td>\n",
       "      <td>totally just ordered the  amazon fire tv stick...</td>\n",
       "      <td>5</td>\n",
       "    </tr>\n",
       "  </tbody>\n",
       "</table>\n",
       "<p>663 rows × 4 columns</p>\n",
       "</div>"
      ],
      "text/plain": [
       "      Unnamed: 0                       date  \\\n",
       "2              2  2021-12-09 09:05:28+00:00   \n",
       "5              5  2021-12-08 14:36:03+00:00   \n",
       "7              7  2021-12-08 02:44:45+00:00   \n",
       "13            13  2021-12-07 20:14:36+00:00   \n",
       "33            33  2021-12-07 01:40:51+00:00   \n",
       "...          ...                        ...   \n",
       "2256        2256  2014-10-27 17:52:00+00:00   \n",
       "2261        2261  2014-10-27 16:49:02+00:00   \n",
       "2262        2262  2014-10-27 16:18:53+00:00   \n",
       "2268        2268  2014-10-27 13:41:33+00:00   \n",
       "2269        2269  2014-10-27 13:40:13+00:00   \n",
       "\n",
       "                                            new_content stars  \n",
       "2      wlrosetyler yeah  i too love google chromecas...     3  \n",
       "5     i have a new roku smart tv  but have a new ama...     5  \n",
       "7      nicolaweather with fire tv you can only acces...     5  \n",
       "13    a very handy feature of fire tv stick and fire...     5  \n",
       "33    the new  amazon fire tv stick layout is absolu...     5  \n",
       "...                                                 ...   ...  \n",
       "2256   fire tv stick  sounds like a primitive name f...     5  \n",
       "2261  i kinda want the fire tv stick just because of...     5  \n",
       "2262                             chromecast   fire t...     3  \n",
       "2268               the amazon fire tv stick looks neat      5  \n",
       "2269  totally just ordered the  amazon fire tv stick...     5  \n",
       "\n",
       "[663 rows x 4 columns]"
      ]
     },
     "execution_count": 60,
     "metadata": {},
     "output_type": "execute_result"
    }
   ],
   "source": [
    "tweet_data"
   ]
  },
  {
   "cell_type": "code",
   "execution_count": 61,
   "id": "68dd2300-451a-4640-911b-e83ae6217258",
   "metadata": {},
   "outputs": [
    {
     "data": {
      "text/plain": [
       "5    637\n",
       "3     22\n",
       "4      2\n",
       "1      2\n",
       "Name: stars, dtype: int64"
      ]
     },
     "execution_count": 61,
     "metadata": {},
     "output_type": "execute_result"
    }
   ],
   "source": [
    "tweet_data[\"stars\"].value_counts()"
   ]
  },
  {
   "cell_type": "code",
   "execution_count": 62,
   "id": "a5d04fd8-eb3d-4add-aca4-ebc193804912",
   "metadata": {},
   "outputs": [],
   "source": [
    "tweet_data[\"stars\"] = tweet_data[\"stars\"].astype(\"int64\")"
   ]
  },
  {
   "cell_type": "code",
   "execution_count": 63,
   "id": "ff310921-fe07-4fef-9c0c-31d29a898598",
   "metadata": {},
   "outputs": [
    {
     "name": "stdout",
     "output_type": "stream",
     "text": [
      "4.918552036199095\n"
     ]
    }
   ],
   "source": [
    "overall_tweet_rates = tweet_data[\"stars\"].mean()\n",
    "print(overall_tweet_rates)"
   ]
  },
  {
   "cell_type": "code",
   "execution_count": 65,
   "id": "b66fdf42-60dc-4b50-a6e2-4c7a10397a73",
   "metadata": {},
   "outputs": [
    {
     "data": {
      "text/plain": [
       "array(['5'], dtype=object)"
      ]
     },
     "execution_count": 65,
     "metadata": {},
     "output_type": "execute_result"
    }
   ],
   "source": [
    "sentence = \"Never buy this product\"\n",
    "vec = tfidf.transform([sentence])\n",
    "clf.predict(vec)"
   ]
  },
  {
   "cell_type": "markdown",
   "id": "b4566c48-cc31-4f14-b74d-fbd21d77d90e",
   "metadata": {},
   "source": [
    "The result of the first model is not good so I will use another dataset which provided by Amazon itself"
   ]
  },
  {
   "cell_type": "markdown",
   "id": "edd62adc-957b-4e97-a32f-44387ca9ff72",
   "metadata": {},
   "source": [
    "CREATING NEW MODEL WITH NEW DATASET"
   ]
  },
  {
   "cell_type": "code",
   "execution_count": 2,
   "id": "ee0349bd-3d3d-47df-9f75-0fee151a4c0e",
   "metadata": {},
   "outputs": [],
   "source": [
    "import pandas as pd \n",
    "tsv_file='electronic_reviews.tsv'\n",
    "csv_table=pd.read_table(tsv_file,sep='\\n')\n",
    "csv_table.to_csv('new_name.csv',index=False)"
   ]
  },
  {
   "cell_type": "code",
   "execution_count": 4,
   "id": "1d161c0f-43f3-44f3-805c-e2ac4d040092",
   "metadata": {},
   "outputs": [],
   "source": [
    "amazon_df = pd.read_csv(\"new_name.csv\", sep=\"\\t\")"
   ]
  },
  {
   "cell_type": "code",
   "execution_count": 5,
   "id": "53cb0858-ed7b-43e5-9a69-23d12209f11a",
   "metadata": {
    "tags": []
   },
   "outputs": [
    {
     "data": {
      "text/html": [
       "<div>\n",
       "<style scoped>\n",
       "    .dataframe tbody tr th:only-of-type {\n",
       "        vertical-align: middle;\n",
       "    }\n",
       "\n",
       "    .dataframe tbody tr th {\n",
       "        vertical-align: top;\n",
       "    }\n",
       "\n",
       "    .dataframe thead th {\n",
       "        text-align: right;\n",
       "    }\n",
       "</style>\n",
       "<table border=\"1\" class=\"dataframe\">\n",
       "  <thead>\n",
       "    <tr style=\"text-align: right;\">\n",
       "      <th></th>\n",
       "      <th>marketplace</th>\n",
       "      <th>customer_id</th>\n",
       "      <th>review_id</th>\n",
       "      <th>product_id</th>\n",
       "      <th>product_parent</th>\n",
       "      <th>product_title</th>\n",
       "      <th>product_category</th>\n",
       "      <th>star_rating</th>\n",
       "      <th>helpful_votes</th>\n",
       "      <th>total_votes</th>\n",
       "      <th>vine</th>\n",
       "      <th>verified_purchase</th>\n",
       "      <th>review_headline</th>\n",
       "      <th>review_body</th>\n",
       "      <th>review_date</th>\n",
       "    </tr>\n",
       "  </thead>\n",
       "  <tbody>\n",
       "    <tr>\n",
       "      <th>0</th>\n",
       "      <td>US</td>\n",
       "      <td>41409413.0</td>\n",
       "      <td>R2MTG1GCZLR2DK</td>\n",
       "      <td>B00428R89M</td>\n",
       "      <td>112201306.0</td>\n",
       "      <td>yoomall 5M Antenna WIFI RP-SMA Female to Male ...</td>\n",
       "      <td>Electronics</td>\n",
       "      <td>5.0</td>\n",
       "      <td>0.0</td>\n",
       "      <td>0.0</td>\n",
       "      <td>N</td>\n",
       "      <td>Y</td>\n",
       "      <td>Five Stars</td>\n",
       "      <td>As described.</td>\n",
       "      <td>2015-08-31</td>\n",
       "    </tr>\n",
       "    <tr>\n",
       "      <th>1</th>\n",
       "      <td>US\\t49668221\\tR2HBOEM8LE9928\\tB000068O48\\t7345...</td>\n",
       "      <td>NaN</td>\n",
       "      <td>NaN</td>\n",
       "      <td>NaN</td>\n",
       "      <td>NaN</td>\n",
       "      <td>NaN</td>\n",
       "      <td>NaN</td>\n",
       "      <td>NaN</td>\n",
       "      <td>NaN</td>\n",
       "      <td>NaN</td>\n",
       "      <td>NaN</td>\n",
       "      <td>NaN</td>\n",
       "      <td>NaN</td>\n",
       "      <td>NaN</td>\n",
       "      <td>NaN</td>\n",
       "    </tr>\n",
       "    <tr>\n",
       "      <th>2</th>\n",
       "      <td>US</td>\n",
       "      <td>12338275.0</td>\n",
       "      <td>R1P4RW1R9FDPEE</td>\n",
       "      <td>B000GGKOG8</td>\n",
       "      <td>614448099.0</td>\n",
       "      <td>Channel Master Titan 2 Antenna Preamplifier</td>\n",
       "      <td>Electronics</td>\n",
       "      <td>5.0</td>\n",
       "      <td>1.0</td>\n",
       "      <td>1.0</td>\n",
       "      <td>N</td>\n",
       "      <td>Y</td>\n",
       "      <td>Five Stars</td>\n",
       "      <td>Works pissa</td>\n",
       "      <td>2015-08-31</td>\n",
       "    </tr>\n",
       "    <tr>\n",
       "      <th>3</th>\n",
       "      <td>US</td>\n",
       "      <td>38487968.0</td>\n",
       "      <td>R1EBPM82ENI67M</td>\n",
       "      <td>B000NU4OTA</td>\n",
       "      <td>72265257.0</td>\n",
       "      <td>LIMTECH Wall charger + USB Hotsync &amp; Charging ...</td>\n",
       "      <td>Electronics</td>\n",
       "      <td>1.0</td>\n",
       "      <td>0.0</td>\n",
       "      <td>0.0</td>\n",
       "      <td>N</td>\n",
       "      <td>Y</td>\n",
       "      <td>One Star</td>\n",
       "      <td>Did not work at all.</td>\n",
       "      <td>2015-08-31</td>\n",
       "    </tr>\n",
       "    <tr>\n",
       "      <th>4</th>\n",
       "      <td>US</td>\n",
       "      <td>23732619.0</td>\n",
       "      <td>R372S58V6D11AT</td>\n",
       "      <td>B00JOQIO6S</td>\n",
       "      <td>308169188.0</td>\n",
       "      <td>Skullcandy Air Raid Portable Bluetooth Speaker</td>\n",
       "      <td>Electronics</td>\n",
       "      <td>5.0</td>\n",
       "      <td>1.0</td>\n",
       "      <td>1.0</td>\n",
       "      <td>N</td>\n",
       "      <td>Y</td>\n",
       "      <td>Overall pleased with the item</td>\n",
       "      <td>Works well. Bass is somewhat lacking but is pr...</td>\n",
       "      <td>2015-08-31</td>\n",
       "    </tr>\n",
       "  </tbody>\n",
       "</table>\n",
       "</div>"
      ],
      "text/plain": [
       "                                         marketplace  customer_id  \\\n",
       "0                                                 US   41409413.0   \n",
       "1  US\\t49668221\\tR2HBOEM8LE9928\\tB000068O48\\t7345...          NaN   \n",
       "2                                                 US   12338275.0   \n",
       "3                                                 US   38487968.0   \n",
       "4                                                 US   23732619.0   \n",
       "\n",
       "        review_id  product_id  product_parent  \\\n",
       "0  R2MTG1GCZLR2DK  B00428R89M     112201306.0   \n",
       "1             NaN         NaN             NaN   \n",
       "2  R1P4RW1R9FDPEE  B000GGKOG8     614448099.0   \n",
       "3  R1EBPM82ENI67M  B000NU4OTA      72265257.0   \n",
       "4  R372S58V6D11AT  B00JOQIO6S     308169188.0   \n",
       "\n",
       "                                       product_title product_category  \\\n",
       "0  yoomall 5M Antenna WIFI RP-SMA Female to Male ...      Electronics   \n",
       "1                                                NaN              NaN   \n",
       "2        Channel Master Titan 2 Antenna Preamplifier      Electronics   \n",
       "3  LIMTECH Wall charger + USB Hotsync & Charging ...      Electronics   \n",
       "4     Skullcandy Air Raid Portable Bluetooth Speaker      Electronics   \n",
       "\n",
       "   star_rating  helpful_votes  total_votes vine verified_purchase  \\\n",
       "0          5.0            0.0          0.0    N                 Y   \n",
       "1          NaN            NaN          NaN  NaN               NaN   \n",
       "2          5.0            1.0          1.0    N                 Y   \n",
       "3          1.0            0.0          0.0    N                 Y   \n",
       "4          5.0            1.0          1.0    N                 Y   \n",
       "\n",
       "                 review_headline  \\\n",
       "0                     Five Stars   \n",
       "1                            NaN   \n",
       "2                     Five Stars   \n",
       "3                       One Star   \n",
       "4  Overall pleased with the item   \n",
       "\n",
       "                                         review_body review_date  \n",
       "0                                      As described.  2015-08-31  \n",
       "1                                                NaN         NaN  \n",
       "2                                        Works pissa  2015-08-31  \n",
       "3                               Did not work at all.  2015-08-31  \n",
       "4  Works well. Bass is somewhat lacking but is pr...  2015-08-31  "
      ]
     },
     "execution_count": 5,
     "metadata": {},
     "output_type": "execute_result"
    }
   ],
   "source": [
    "amazon_df.head()"
   ]
  },
  {
   "cell_type": "code",
   "execution_count": 6,
   "id": "10cff139-5a5b-427a-a836-12eebcba24b5",
   "metadata": {},
   "outputs": [],
   "source": [
    "amazon_df = amazon_df[amazon_df[\"marketplace\"]=='US']"
   ]
  },
  {
   "cell_type": "markdown",
   "id": "61c4073e-5945-4997-94e7-efccc932b372",
   "metadata": {},
   "source": [
    "The data was not clean enough so I used above code for the data to clean. Now I have much more bigger dataset to train and test"
   ]
  },
  {
   "cell_type": "code",
   "execution_count": 7,
   "id": "a08773d9-3e61-4227-b75e-0cba19931980",
   "metadata": {},
   "outputs": [
    {
     "name": "stdout",
     "output_type": "stream",
     "text": [
      "<class 'pandas.core.frame.DataFrame'>\n",
      "Int64Index: 1034186 entries, 0 to 3093867\n",
      "Data columns (total 15 columns):\n",
      " #   Column             Non-Null Count    Dtype  \n",
      "---  ------             --------------    -----  \n",
      " 0   marketplace        1034186 non-null  object \n",
      " 1   customer_id        1034186 non-null  float64\n",
      " 2   review_id          1034186 non-null  object \n",
      " 3   product_id         1034186 non-null  object \n",
      " 4   product_parent     1034186 non-null  float64\n",
      " 5   product_title      1034185 non-null  object \n",
      " 6   product_category   1034186 non-null  object \n",
      " 7   star_rating        1034186 non-null  float64\n",
      " 8   helpful_votes      1034186 non-null  float64\n",
      " 9   total_votes        1034186 non-null  float64\n",
      " 10  vine               1034186 non-null  object \n",
      " 11  verified_purchase  1034186 non-null  object \n",
      " 12  review_headline    1034177 non-null  object \n",
      " 13  review_body        1034117 non-null  object \n",
      " 14  review_date        1034186 non-null  object \n",
      "dtypes: float64(5), object(10)\n",
      "memory usage: 126.2+ MB\n"
     ]
    }
   ],
   "source": [
    "amazon_df.info()"
   ]
  },
  {
   "cell_type": "markdown",
   "id": "6b001368-d84d-47f7-9711-6474f977a08e",
   "metadata": {},
   "source": [
    "I will have the same process with other dataset which I scrapped from Amazon but before it I have to clean my dataset"
   ]
  },
  {
   "cell_type": "code",
   "execution_count": 10,
   "id": "e3c9e867-56a2-4efa-b83d-4b4c6ceddebe",
   "metadata": {},
   "outputs": [],
   "source": [
    "amazon_df = amazon_df[amazon_df[\"star_rating\"] != np.NaN]\n",
    "amazon_df = amazon_df[amazon_df[\"review_body\"] != np.NaN]"
   ]
  },
  {
   "cell_type": "code",
   "execution_count": 11,
   "id": "3d8e8b48-abb5-45e8-86f3-670a9d7fdb60",
   "metadata": {},
   "outputs": [
    {
     "name": "stdout",
     "output_type": "stream",
     "text": [
      "<class 'pandas.core.frame.DataFrame'>\n",
      "Int64Index: 1034186 entries, 0 to 3093867\n",
      "Data columns (total 15 columns):\n",
      " #   Column             Non-Null Count    Dtype  \n",
      "---  ------             --------------    -----  \n",
      " 0   marketplace        1034186 non-null  object \n",
      " 1   customer_id        1034186 non-null  float64\n",
      " 2   review_id          1034186 non-null  object \n",
      " 3   product_id         1034186 non-null  object \n",
      " 4   product_parent     1034186 non-null  float64\n",
      " 5   product_title      1034185 non-null  object \n",
      " 6   product_category   1034186 non-null  object \n",
      " 7   star_rating        1034186 non-null  float64\n",
      " 8   helpful_votes      1034186 non-null  float64\n",
      " 9   total_votes        1034186 non-null  float64\n",
      " 10  vine               1034186 non-null  object \n",
      " 11  verified_purchase  1034186 non-null  object \n",
      " 12  review_headline    1034177 non-null  object \n",
      " 13  review_body        1034117 non-null  object \n",
      " 14  review_date        1034186 non-null  object \n",
      "dtypes: float64(5), object(10)\n",
      "memory usage: 126.2+ MB\n"
     ]
    }
   ],
   "source": [
    "amazon_df.info()"
   ]
  },
  {
   "cell_type": "code",
   "execution_count": 12,
   "id": "69aea1ee-cf41-4983-b047-087376140e82",
   "metadata": {},
   "outputs": [
    {
     "data": {
      "text/html": [
       "<div>\n",
       "<style scoped>\n",
       "    .dataframe tbody tr th:only-of-type {\n",
       "        vertical-align: middle;\n",
       "    }\n",
       "\n",
       "    .dataframe tbody tr th {\n",
       "        vertical-align: top;\n",
       "    }\n",
       "\n",
       "    .dataframe thead th {\n",
       "        text-align: right;\n",
       "    }\n",
       "</style>\n",
       "<table border=\"1\" class=\"dataframe\">\n",
       "  <thead>\n",
       "    <tr style=\"text-align: right;\">\n",
       "      <th></th>\n",
       "      <th>marketplace</th>\n",
       "      <th>customer_id</th>\n",
       "      <th>review_id</th>\n",
       "      <th>product_id</th>\n",
       "      <th>product_parent</th>\n",
       "      <th>product_title</th>\n",
       "      <th>product_category</th>\n",
       "      <th>star_rating</th>\n",
       "      <th>helpful_votes</th>\n",
       "      <th>total_votes</th>\n",
       "      <th>vine</th>\n",
       "      <th>verified_purchase</th>\n",
       "      <th>review_headline</th>\n",
       "      <th>review_body</th>\n",
       "      <th>review_date</th>\n",
       "    </tr>\n",
       "  </thead>\n",
       "  <tbody>\n",
       "    <tr>\n",
       "      <th>0</th>\n",
       "      <td>US</td>\n",
       "      <td>41409413.0</td>\n",
       "      <td>R2MTG1GCZLR2DK</td>\n",
       "      <td>B00428R89M</td>\n",
       "      <td>112201306.0</td>\n",
       "      <td>yoomall 5M Antenna WIFI RP-SMA Female to Male ...</td>\n",
       "      <td>Electronics</td>\n",
       "      <td>5.0</td>\n",
       "      <td>0.0</td>\n",
       "      <td>0.0</td>\n",
       "      <td>N</td>\n",
       "      <td>Y</td>\n",
       "      <td>Five Stars</td>\n",
       "      <td>As described.</td>\n",
       "      <td>2015-08-31</td>\n",
       "    </tr>\n",
       "    <tr>\n",
       "      <th>2</th>\n",
       "      <td>US</td>\n",
       "      <td>12338275.0</td>\n",
       "      <td>R1P4RW1R9FDPEE</td>\n",
       "      <td>B000GGKOG8</td>\n",
       "      <td>614448099.0</td>\n",
       "      <td>Channel Master Titan 2 Antenna Preamplifier</td>\n",
       "      <td>Electronics</td>\n",
       "      <td>5.0</td>\n",
       "      <td>1.0</td>\n",
       "      <td>1.0</td>\n",
       "      <td>N</td>\n",
       "      <td>Y</td>\n",
       "      <td>Five Stars</td>\n",
       "      <td>Works pissa</td>\n",
       "      <td>2015-08-31</td>\n",
       "    </tr>\n",
       "    <tr>\n",
       "      <th>3</th>\n",
       "      <td>US</td>\n",
       "      <td>38487968.0</td>\n",
       "      <td>R1EBPM82ENI67M</td>\n",
       "      <td>B000NU4OTA</td>\n",
       "      <td>72265257.0</td>\n",
       "      <td>LIMTECH Wall charger + USB Hotsync &amp; Charging ...</td>\n",
       "      <td>Electronics</td>\n",
       "      <td>1.0</td>\n",
       "      <td>0.0</td>\n",
       "      <td>0.0</td>\n",
       "      <td>N</td>\n",
       "      <td>Y</td>\n",
       "      <td>One Star</td>\n",
       "      <td>Did not work at all.</td>\n",
       "      <td>2015-08-31</td>\n",
       "    </tr>\n",
       "    <tr>\n",
       "      <th>4</th>\n",
       "      <td>US</td>\n",
       "      <td>23732619.0</td>\n",
       "      <td>R372S58V6D11AT</td>\n",
       "      <td>B00JOQIO6S</td>\n",
       "      <td>308169188.0</td>\n",
       "      <td>Skullcandy Air Raid Portable Bluetooth Speaker</td>\n",
       "      <td>Electronics</td>\n",
       "      <td>5.0</td>\n",
       "      <td>1.0</td>\n",
       "      <td>1.0</td>\n",
       "      <td>N</td>\n",
       "      <td>Y</td>\n",
       "      <td>Overall pleased with the item</td>\n",
       "      <td>Works well. Bass is somewhat lacking but is pr...</td>\n",
       "      <td>2015-08-31</td>\n",
       "    </tr>\n",
       "    <tr>\n",
       "      <th>5</th>\n",
       "      <td>US</td>\n",
       "      <td>21257820.0</td>\n",
       "      <td>R1A4514XOYI1PD</td>\n",
       "      <td>B008NCD2LG</td>\n",
       "      <td>976385982.0</td>\n",
       "      <td>Pioneer SP-BS22-LR Andrew Jones Designed Books...</td>\n",
       "      <td>Electronics</td>\n",
       "      <td>5.0</td>\n",
       "      <td>1.0</td>\n",
       "      <td>1.0</td>\n",
       "      <td>N</td>\n",
       "      <td>Y</td>\n",
       "      <td>Five Stars</td>\n",
       "      <td>The quality on these speakers is insanely good...</td>\n",
       "      <td>2015-08-31</td>\n",
       "    </tr>\n",
       "  </tbody>\n",
       "</table>\n",
       "</div>"
      ],
      "text/plain": [
       "  marketplace  customer_id       review_id  product_id  product_parent  \\\n",
       "0          US   41409413.0  R2MTG1GCZLR2DK  B00428R89M     112201306.0   \n",
       "2          US   12338275.0  R1P4RW1R9FDPEE  B000GGKOG8     614448099.0   \n",
       "3          US   38487968.0  R1EBPM82ENI67M  B000NU4OTA      72265257.0   \n",
       "4          US   23732619.0  R372S58V6D11AT  B00JOQIO6S     308169188.0   \n",
       "5          US   21257820.0  R1A4514XOYI1PD  B008NCD2LG     976385982.0   \n",
       "\n",
       "                                       product_title product_category  \\\n",
       "0  yoomall 5M Antenna WIFI RP-SMA Female to Male ...      Electronics   \n",
       "2        Channel Master Titan 2 Antenna Preamplifier      Electronics   \n",
       "3  LIMTECH Wall charger + USB Hotsync & Charging ...      Electronics   \n",
       "4     Skullcandy Air Raid Portable Bluetooth Speaker      Electronics   \n",
       "5  Pioneer SP-BS22-LR Andrew Jones Designed Books...      Electronics   \n",
       "\n",
       "   star_rating  helpful_votes  total_votes vine verified_purchase  \\\n",
       "0          5.0            0.0          0.0    N                 Y   \n",
       "2          5.0            1.0          1.0    N                 Y   \n",
       "3          1.0            0.0          0.0    N                 Y   \n",
       "4          5.0            1.0          1.0    N                 Y   \n",
       "5          5.0            1.0          1.0    N                 Y   \n",
       "\n",
       "                 review_headline  \\\n",
       "0                     Five Stars   \n",
       "2                     Five Stars   \n",
       "3                       One Star   \n",
       "4  Overall pleased with the item   \n",
       "5                     Five Stars   \n",
       "\n",
       "                                         review_body review_date  \n",
       "0                                      As described.  2015-08-31  \n",
       "2                                        Works pissa  2015-08-31  \n",
       "3                               Did not work at all.  2015-08-31  \n",
       "4  Works well. Bass is somewhat lacking but is pr...  2015-08-31  \n",
       "5  The quality on these speakers is insanely good...  2015-08-31  "
      ]
     },
     "execution_count": 12,
     "metadata": {},
     "output_type": "execute_result"
    }
   ],
   "source": [
    "amazon_df.head()"
   ]
  },
  {
   "cell_type": "code",
   "execution_count": 13,
   "id": "cbef7386-fe4f-4d16-8f04-9162e23c95b7",
   "metadata": {},
   "outputs": [
    {
     "data": {
      "text/html": [
       "<div>\n",
       "<style scoped>\n",
       "    .dataframe tbody tr th:only-of-type {\n",
       "        vertical-align: middle;\n",
       "    }\n",
       "\n",
       "    .dataframe tbody tr th {\n",
       "        vertical-align: top;\n",
       "    }\n",
       "\n",
       "    .dataframe thead th {\n",
       "        text-align: right;\n",
       "    }\n",
       "</style>\n",
       "<table border=\"1\" class=\"dataframe\">\n",
       "  <thead>\n",
       "    <tr style=\"text-align: right;\">\n",
       "      <th></th>\n",
       "      <th>star_rating</th>\n",
       "      <th>review_body</th>\n",
       "    </tr>\n",
       "  </thead>\n",
       "  <tbody>\n",
       "    <tr>\n",
       "      <th>0</th>\n",
       "      <td>5.0</td>\n",
       "      <td>As described.</td>\n",
       "    </tr>\n",
       "    <tr>\n",
       "      <th>2</th>\n",
       "      <td>5.0</td>\n",
       "      <td>Works pissa</td>\n",
       "    </tr>\n",
       "    <tr>\n",
       "      <th>3</th>\n",
       "      <td>1.0</td>\n",
       "      <td>Did not work at all.</td>\n",
       "    </tr>\n",
       "    <tr>\n",
       "      <th>4</th>\n",
       "      <td>5.0</td>\n",
       "      <td>Works well. Bass is somewhat lacking but is pr...</td>\n",
       "    </tr>\n",
       "    <tr>\n",
       "      <th>5</th>\n",
       "      <td>5.0</td>\n",
       "      <td>The quality on these speakers is insanely good...</td>\n",
       "    </tr>\n",
       "  </tbody>\n",
       "</table>\n",
       "</div>"
      ],
      "text/plain": [
       "   star_rating                                        review_body\n",
       "0          5.0                                      As described.\n",
       "2          5.0                                        Works pissa\n",
       "3          1.0                               Did not work at all.\n",
       "4          5.0  Works well. Bass is somewhat lacking but is pr...\n",
       "5          5.0  The quality on these speakers is insanely good..."
      ]
     },
     "execution_count": 13,
     "metadata": {},
     "output_type": "execute_result"
    }
   ],
   "source": [
    "amazon_df = amazon_df[[\"star_rating\", \"review_body\"]]\n",
    "amazon_df.head()"
   ]
  },
  {
   "cell_type": "markdown",
   "id": "ae67cf20-c634-4d88-a167-dcf6bc4202da",
   "metadata": {},
   "source": [
    "My dataset is based on furniture but I will apply it for the 4K fire stick product. So my project will be more interesting."
   ]
  },
  {
   "cell_type": "code",
   "execution_count": 16,
   "id": "540aba52-fe75-4805-a1fc-56795aa75db8",
   "metadata": {},
   "outputs": [
    {
     "data": {
      "text/html": [
       "<div>\n",
       "<style scoped>\n",
       "    .dataframe tbody tr th:only-of-type {\n",
       "        vertical-align: middle;\n",
       "    }\n",
       "\n",
       "    .dataframe tbody tr th {\n",
       "        vertical-align: top;\n",
       "    }\n",
       "\n",
       "    .dataframe thead th {\n",
       "        text-align: right;\n",
       "    }\n",
       "</style>\n",
       "<table border=\"1\" class=\"dataframe\">\n",
       "  <thead>\n",
       "    <tr style=\"text-align: right;\">\n",
       "      <th></th>\n",
       "      <th>star_rating</th>\n",
       "      <th>review_body</th>\n",
       "    </tr>\n",
       "  </thead>\n",
       "  <tbody>\n",
       "    <tr>\n",
       "      <th>0</th>\n",
       "      <td>5.0</td>\n",
       "      <td>as described</td>\n",
       "    </tr>\n",
       "    <tr>\n",
       "      <th>2</th>\n",
       "      <td>5.0</td>\n",
       "      <td>works pissa</td>\n",
       "    </tr>\n",
       "    <tr>\n",
       "      <th>3</th>\n",
       "      <td>1.0</td>\n",
       "      <td>did not work at all</td>\n",
       "    </tr>\n",
       "    <tr>\n",
       "      <th>4</th>\n",
       "      <td>5.0</td>\n",
       "      <td>works well  bass is somewhat lacking but is pr...</td>\n",
       "    </tr>\n",
       "    <tr>\n",
       "      <th>5</th>\n",
       "      <td>5.0</td>\n",
       "      <td>the quality on these speakers is insanely good...</td>\n",
       "    </tr>\n",
       "    <tr>\n",
       "      <th>6</th>\n",
       "      <td>5.0</td>\n",
       "      <td>wish i could give this product more than five ...</td>\n",
       "    </tr>\n",
       "    <tr>\n",
       "      <th>7</th>\n",
       "      <td>5.0</td>\n",
       "      <td>works great</td>\n",
       "    </tr>\n",
       "    <tr>\n",
       "      <th>8</th>\n",
       "      <td>4.0</td>\n",
       "      <td>great sound and compact  battery life seems go...</td>\n",
       "    </tr>\n",
       "    <tr>\n",
       "      <th>9</th>\n",
       "      <td>4.0</td>\n",
       "      <td>it works well</td>\n",
       "    </tr>\n",
       "    <tr>\n",
       "      <th>11</th>\n",
       "      <td>5.0</td>\n",
       "      <td>love clock radio   cd player   easy to operate</td>\n",
       "    </tr>\n",
       "  </tbody>\n",
       "</table>\n",
       "</div>"
      ],
      "text/plain": [
       "    star_rating                                        review_body\n",
       "0           5.0                                      as described \n",
       "2           5.0                                        works pissa\n",
       "3           1.0                               did not work at all \n",
       "4           5.0  works well  bass is somewhat lacking but is pr...\n",
       "5           5.0  the quality on these speakers is insanely good...\n",
       "6           5.0  wish i could give this product more than five ...\n",
       "7           5.0                                        works great\n",
       "8           4.0  great sound and compact  battery life seems go...\n",
       "9           4.0                                   it works well   \n",
       "11          5.0    love clock radio   cd player   easy to operate "
      ]
     },
     "execution_count": 16,
     "metadata": {},
     "output_type": "execute_result"
    }
   ],
   "source": [
    "amazon_df[\"review_body\"] = amazon_df.review_body.str.lower()\n",
    "amazon_df[\"review_body\"] = amazon_df.review_body.apply(str)  #TypeError: expected string or bytes-like object\n",
    "amazon_df[\"review_body\"] = amazon_df.review_body.map(main_filter)\n",
    "amazon_df.head(10)"
   ]
  },
  {
   "cell_type": "code",
   "execution_count": 17,
   "id": "d858a4bf-d5a0-479f-bf45-00cf730bd324",
   "metadata": {},
   "outputs": [
    {
     "data": {
      "text/plain": [
       "star_rating    0\n",
       "review_body    0\n",
       "dtype: int64"
      ]
     },
     "execution_count": 17,
     "metadata": {},
     "output_type": "execute_result"
    }
   ],
   "source": [
    "amazon_df.isna().sum()"
   ]
  },
  {
   "cell_type": "code",
   "execution_count": 18,
   "id": "713f9ed7-6685-4b86-b0c3-dfa281ea82fe",
   "metadata": {},
   "outputs": [
    {
     "data": {
      "text/plain": [
       "5.0    656262\n",
       "4.0    152082\n",
       "1.0    117878\n",
       "3.0     61612\n",
       "2.0     46352\n",
       "Name: star_rating, dtype: int64"
      ]
     },
     "execution_count": 18,
     "metadata": {},
     "output_type": "execute_result"
    }
   ],
   "source": [
    "amazon_df[\"star_rating\"].value_counts()"
   ]
  },
  {
   "cell_type": "code",
   "execution_count": 19,
   "id": "06dfea43-db2a-4c10-9ca2-170db85e4514",
   "metadata": {},
   "outputs": [],
   "source": [
    "tfidf = TfidfVectorizer(max_features=10000, ngram_range=(1,6), analyzer='char')"
   ]
  },
  {
   "cell_type": "code",
   "execution_count": 20,
   "id": "e452d8d1-6844-4fd0-a439-bb97c7444125",
   "metadata": {},
   "outputs": [],
   "source": [
    "X = tfidf.fit_transform(amazon_df[\"review_body\"])\n",
    "y = amazon_df[\"star_rating\"]"
   ]
  },
  {
   "cell_type": "code",
   "execution_count": 21,
   "id": "783d49ee-1bbe-4eca-9666-436ca379f2ea",
   "metadata": {},
   "outputs": [],
   "source": [
    "X_train, X_test, y_train, y_test = train_test_split(X, y, test_size = 0.2)"
   ]
  },
  {
   "cell_type": "code",
   "execution_count": 22,
   "id": "6c2fa0e9-6bf6-4d1c-a702-8bf91032d115",
   "metadata": {},
   "outputs": [
    {
     "data": {
      "text/plain": [
       "(827348, 10000)"
      ]
     },
     "execution_count": 22,
     "metadata": {},
     "output_type": "execute_result"
    }
   ],
   "source": [
    "X_train.shape"
   ]
  },
  {
   "cell_type": "code",
   "execution_count": 23,
   "id": "a8e90a89-4b70-482c-aefa-c62a3884ead2",
   "metadata": {},
   "outputs": [
    {
     "data": {
      "text/plain": [
       "(206838, 10000)"
      ]
     },
     "execution_count": 23,
     "metadata": {},
     "output_type": "execute_result"
    }
   ],
   "source": [
    "X_test.shape"
   ]
  },
  {
   "cell_type": "code",
   "execution_count": 24,
   "id": "9cbb2a8a-4125-4505-a9c3-3a0656a90f97",
   "metadata": {},
   "outputs": [
    {
     "name": "stderr",
     "output_type": "stream",
     "text": [
      "C:\\Users\\musta\\Anaconda3\\envs\\rstudio\\lib\\site-packages\\sklearn\\svm\\_base.py:1208: ConvergenceWarning: Liblinear failed to converge, increase the number of iterations.\n",
      "  ConvergenceWarning,\n"
     ]
    },
    {
     "data": {
      "text/plain": [
       "LinearSVC(C=10, class_weight='balanced')"
      ]
     },
     "execution_count": 24,
     "metadata": {},
     "output_type": "execute_result"
    }
   ],
   "source": [
    "clf = LinearSVC(C=10, class_weight=\"balanced\")\n",
    "clf.fit(X_train, y_train)"
   ]
  },
  {
   "cell_type": "code",
   "execution_count": 25,
   "id": "7570935c-76b5-4135-8c46-2caca10e527e",
   "metadata": {},
   "outputs": [],
   "source": [
    "y_pred = clf.predict(X_test)"
   ]
  },
  {
   "cell_type": "code",
   "execution_count": 26,
   "id": "1ea67da0-08c6-4387-a68c-deff0c46be6b",
   "metadata": {},
   "outputs": [
    {
     "name": "stdout",
     "output_type": "stream",
     "text": [
      "              precision    recall  f1-score   support\n",
      "\n",
      "         1.0       0.67      0.78      0.72     23460\n",
      "         2.0       0.26      0.30      0.28      9300\n",
      "         3.0       0.29      0.38      0.33     12212\n",
      "         4.0       0.44      0.25      0.32     30329\n",
      "         5.0       0.86      0.88      0.87    131537\n",
      "\n",
      "    accuracy                           0.72    206838\n",
      "   macro avg       0.50      0.52      0.50    206838\n",
      "weighted avg       0.71      0.72      0.71    206838\n",
      "\n"
     ]
    }
   ],
   "source": [
    "print(classification_report(y_test, y_pred))"
   ]
  },
  {
   "cell_type": "markdown",
   "id": "2ab4853b-9796-4519-9a29-c0cb185cc3a7",
   "metadata": {},
   "source": [
    "MODEL TUNING"
   ]
  },
  {
   "cell_type": "code",
   "execution_count": 163,
   "id": "9ddada0d-adad-45be-b5d3-4123699f620e",
   "metadata": {},
   "outputs": [
    {
     "name": "stderr",
     "output_type": "stream",
     "text": [
      "C:\\Users\\musta\\Anaconda3\\envs\\rstudio\\lib\\site-packages\\sklearn\\svm\\_base.py:1208: ConvergenceWarning: Liblinear failed to converge, increase the number of iterations.\n",
      "  ConvergenceWarning,\n",
      "C:\\Users\\musta\\Anaconda3\\envs\\rstudio\\lib\\site-packages\\sklearn\\svm\\_base.py:1208: ConvergenceWarning: Liblinear failed to converge, increase the number of iterations.\n",
      "  ConvergenceWarning,\n",
      "C:\\Users\\musta\\Anaconda3\\envs\\rstudio\\lib\\site-packages\\sklearn\\svm\\_base.py:1208: ConvergenceWarning: Liblinear failed to converge, increase the number of iterations.\n",
      "  ConvergenceWarning,\n",
      "C:\\Users\\musta\\Anaconda3\\envs\\rstudio\\lib\\site-packages\\sklearn\\svm\\_base.py:1208: ConvergenceWarning: Liblinear failed to converge, increase the number of iterations.\n",
      "  ConvergenceWarning,\n",
      "C:\\Users\\musta\\Anaconda3\\envs\\rstudio\\lib\\site-packages\\sklearn\\svm\\_base.py:1208: ConvergenceWarning: Liblinear failed to converge, increase the number of iterations.\n",
      "  ConvergenceWarning,\n"
     ]
    }
   ],
   "source": [
    "svc_params = {\"C\": [0.1, 0.5, 1, 3, 5, 10]}  \n",
    "svc_cv_model = GridSearchCV(clf, svr_params, cv=5).fit(X_train, y_train)"
   ]
  },
  {
   "cell_type": "code",
   "execution_count": 164,
   "id": "18f115e0-8550-43e0-a9d9-29fa21c6c4a0",
   "metadata": {},
   "outputs": [
    {
     "data": {
      "text/plain": [
       "{'C': 0.1}"
      ]
     },
     "execution_count": 164,
     "metadata": {},
     "output_type": "execute_result"
    }
   ],
   "source": [
    "svc_cv_model.best_params_"
   ]
  },
  {
   "cell_type": "markdown",
   "id": "0765f58a-5395-4b78-9187-ca29ab39cb64",
   "metadata": {},
   "source": [
    "FINAL MODEL"
   ]
  },
  {
   "cell_type": "code",
   "execution_count": 27,
   "id": "f3c67aa1-1a1d-43f7-a1c0-33e6861e97a3",
   "metadata": {},
   "outputs": [
    {
     "data": {
      "text/plain": [
       "LinearSVC(C=0.1, class_weight='balanced')"
      ]
     },
     "execution_count": 27,
     "metadata": {},
     "output_type": "execute_result"
    }
   ],
   "source": [
    "clf_tuned = LinearSVC(C=0.1, class_weight=\"balanced\")\n",
    "clf_tuned.fit(X_train, y_train)"
   ]
  },
  {
   "cell_type": "code",
   "execution_count": 28,
   "id": "f8326100-9650-41a9-a87f-631a4e364d44",
   "metadata": {},
   "outputs": [],
   "source": [
    "y_pred = clf_tuned.predict(X_test)"
   ]
  },
  {
   "cell_type": "code",
   "execution_count": 29,
   "id": "04609beb-3baf-4c07-b660-f729b7893e43",
   "metadata": {},
   "outputs": [
    {
     "name": "stdout",
     "output_type": "stream",
     "text": [
      "              precision    recall  f1-score   support\n",
      "\n",
      "         1.0       0.66      0.79      0.72     23460\n",
      "         2.0       0.27      0.29      0.28      9300\n",
      "         3.0       0.30      0.39      0.34     12212\n",
      "         4.0       0.45      0.24      0.31     30329\n",
      "         5.0       0.85      0.89      0.87    131537\n",
      "\n",
      "    accuracy                           0.72    206838\n",
      "   macro avg       0.51      0.52      0.50    206838\n",
      "weighted avg       0.71      0.72      0.71    206838\n",
      "\n"
     ]
    }
   ],
   "source": [
    "print(classification_report(y_test, y_pred))"
   ]
  },
  {
   "cell_type": "markdown",
   "id": "24895bb1-2440-4194-b44f-ab7971777cb9",
   "metadata": {},
   "source": [
    "MAKING PREDICTION WITH TWEETS"
   ]
  },
  {
   "cell_type": "code",
   "execution_count": 55,
   "id": "f222da1c-f23b-431f-9a95-4e8374ea29e5",
   "metadata": {},
   "outputs": [],
   "source": [
    "tweet_x = tfidf.fit_transform(tweet_data[\"new_content\"])"
   ]
  },
  {
   "cell_type": "code",
   "execution_count": 56,
   "id": "72d80b03-5777-46d6-a3da-5fd316d13e16",
   "metadata": {},
   "outputs": [],
   "source": [
    "tweet_data[\"stars\"] = clf.predict(tweet_x)"
   ]
  },
  {
   "cell_type": "code",
   "execution_count": 57,
   "id": "9b1c51ec-1470-423f-8a4f-f5a742bca71d",
   "metadata": {},
   "outputs": [
    {
     "data": {
      "text/html": [
       "<div>\n",
       "<style scoped>\n",
       "    .dataframe tbody tr th:only-of-type {\n",
       "        vertical-align: middle;\n",
       "    }\n",
       "\n",
       "    .dataframe tbody tr th {\n",
       "        vertical-align: top;\n",
       "    }\n",
       "\n",
       "    .dataframe thead th {\n",
       "        text-align: right;\n",
       "    }\n",
       "</style>\n",
       "<table border=\"1\" class=\"dataframe\">\n",
       "  <thead>\n",
       "    <tr style=\"text-align: right;\">\n",
       "      <th></th>\n",
       "      <th>Unnamed: 0</th>\n",
       "      <th>date</th>\n",
       "      <th>new_content</th>\n",
       "      <th>stars</th>\n",
       "    </tr>\n",
       "  </thead>\n",
       "  <tbody>\n",
       "    <tr>\n",
       "      <th>2</th>\n",
       "      <td>2</td>\n",
       "      <td>2021-12-09 09:05:28+00:00</td>\n",
       "      <td>wlrosetyler yeah  i too love google chromecas...</td>\n",
       "      <td>5.0</td>\n",
       "    </tr>\n",
       "    <tr>\n",
       "      <th>5</th>\n",
       "      <td>5</td>\n",
       "      <td>2021-12-08 14:36:03+00:00</td>\n",
       "      <td>i have a new roku smart tv  but have a new ama...</td>\n",
       "      <td>4.0</td>\n",
       "    </tr>\n",
       "    <tr>\n",
       "      <th>7</th>\n",
       "      <td>7</td>\n",
       "      <td>2021-12-08 02:44:45+00:00</td>\n",
       "      <td>nicolaweather with fire tv you can only acces...</td>\n",
       "      <td>5.0</td>\n",
       "    </tr>\n",
       "    <tr>\n",
       "      <th>13</th>\n",
       "      <td>13</td>\n",
       "      <td>2021-12-07 20:14:36+00:00</td>\n",
       "      <td>a very handy feature of fire tv stick and fire...</td>\n",
       "      <td>2.0</td>\n",
       "    </tr>\n",
       "    <tr>\n",
       "      <th>33</th>\n",
       "      <td>33</td>\n",
       "      <td>2021-12-07 01:40:51+00:00</td>\n",
       "      <td>the new  amazon fire tv stick layout is absolu...</td>\n",
       "      <td>5.0</td>\n",
       "    </tr>\n",
       "    <tr>\n",
       "      <th>...</th>\n",
       "      <td>...</td>\n",
       "      <td>...</td>\n",
       "      <td>...</td>\n",
       "      <td>...</td>\n",
       "    </tr>\n",
       "    <tr>\n",
       "      <th>2256</th>\n",
       "      <td>2256</td>\n",
       "      <td>2014-10-27 17:52:00+00:00</td>\n",
       "      <td>fire tv stick  sounds like a primitive name f...</td>\n",
       "      <td>4.0</td>\n",
       "    </tr>\n",
       "    <tr>\n",
       "      <th>2261</th>\n",
       "      <td>2261</td>\n",
       "      <td>2014-10-27 16:49:02+00:00</td>\n",
       "      <td>i kinda want the fire tv stick just because of...</td>\n",
       "      <td>5.0</td>\n",
       "    </tr>\n",
       "    <tr>\n",
       "      <th>2262</th>\n",
       "      <td>2262</td>\n",
       "      <td>2014-10-27 16:18:53+00:00</td>\n",
       "      <td>chromecast   fire t...</td>\n",
       "      <td>5.0</td>\n",
       "    </tr>\n",
       "    <tr>\n",
       "      <th>2268</th>\n",
       "      <td>2268</td>\n",
       "      <td>2014-10-27 13:41:33+00:00</td>\n",
       "      <td>the amazon fire tv stick looks neat</td>\n",
       "      <td>5.0</td>\n",
       "    </tr>\n",
       "    <tr>\n",
       "      <th>2269</th>\n",
       "      <td>2269</td>\n",
       "      <td>2014-10-27 13:40:13+00:00</td>\n",
       "      <td>totally just ordered the  amazon fire tv stick...</td>\n",
       "      <td>4.0</td>\n",
       "    </tr>\n",
       "  </tbody>\n",
       "</table>\n",
       "<p>663 rows × 4 columns</p>\n",
       "</div>"
      ],
      "text/plain": [
       "      Unnamed: 0                       date  \\\n",
       "2              2  2021-12-09 09:05:28+00:00   \n",
       "5              5  2021-12-08 14:36:03+00:00   \n",
       "7              7  2021-12-08 02:44:45+00:00   \n",
       "13            13  2021-12-07 20:14:36+00:00   \n",
       "33            33  2021-12-07 01:40:51+00:00   \n",
       "...          ...                        ...   \n",
       "2256        2256  2014-10-27 17:52:00+00:00   \n",
       "2261        2261  2014-10-27 16:49:02+00:00   \n",
       "2262        2262  2014-10-27 16:18:53+00:00   \n",
       "2268        2268  2014-10-27 13:41:33+00:00   \n",
       "2269        2269  2014-10-27 13:40:13+00:00   \n",
       "\n",
       "                                            new_content  stars  \n",
       "2      wlrosetyler yeah  i too love google chromecas...    5.0  \n",
       "5     i have a new roku smart tv  but have a new ama...    4.0  \n",
       "7      nicolaweather with fire tv you can only acces...    5.0  \n",
       "13    a very handy feature of fire tv stick and fire...    2.0  \n",
       "33    the new  amazon fire tv stick layout is absolu...    5.0  \n",
       "...                                                 ...    ...  \n",
       "2256   fire tv stick  sounds like a primitive name f...    4.0  \n",
       "2261  i kinda want the fire tv stick just because of...    5.0  \n",
       "2262                             chromecast   fire t...    5.0  \n",
       "2268               the amazon fire tv stick looks neat     5.0  \n",
       "2269  totally just ordered the  amazon fire tv stick...    4.0  \n",
       "\n",
       "[663 rows x 4 columns]"
      ]
     },
     "execution_count": 57,
     "metadata": {},
     "output_type": "execute_result"
    }
   ],
   "source": [
    "tweet_data"
   ]
  },
  {
   "cell_type": "code",
   "execution_count": 58,
   "id": "d5e2f7c3-eec0-450f-87d9-0c793e79113d",
   "metadata": {},
   "outputs": [
    {
     "data": {
      "text/plain": [
       "5.0    466\n",
       "2.0     84\n",
       "3.0     48\n",
       "4.0     41\n",
       "1.0     24\n",
       "Name: stars, dtype: int64"
      ]
     },
     "execution_count": 58,
     "metadata": {},
     "output_type": "execute_result"
    }
   ],
   "source": [
    "tweet_data[\"stars\"].value_counts()"
   ]
  },
  {
   "cell_type": "code",
   "execution_count": 59,
   "id": "796e218f-016c-4216-bb09-f7b5c2f2a0cb",
   "metadata": {},
   "outputs": [],
   "source": [
    "one_star = tweet_data[tweet_data[\"stars\"] == 1.0]"
   ]
  },
  {
   "cell_type": "code",
   "execution_count": 60,
   "id": "a87078d3-8f5e-47b5-a431-9670507d89c5",
   "metadata": {},
   "outputs": [
    {
     "name": "stdout",
     "output_type": "stream",
     "text": [
      "anyone tried  amazonluna on a fire tv device  wondering if it s worth hooking to my stick to try it  i tried it on pc and mobile already \n",
      " paramountplus new fire tv stick  trying to sign into the paramount  app  it doesn t like the password  same password works on the laptop and phone  help \n",
      " amazonluna do i need the luna controller to play games on a fire tv stick \n",
      " amazonluna i m trying to get the luna controller to work on my fire tv stick  but when i launch the luna app the controller does not connect   it works fine on pc over wi fi   if i switch the game to the tv the controller drops the wi fi connection   please help \n",
      " added hbo max and peacock tv into my amazon fire tv stick  unofficial      \n",
      " designationsix or buy a roku or fire tv stick and cut the cord altogether \n",
      " amazonhelp using the app through fire stick and fire tv\n",
      "now that i have a fire tv it really is super unnecessary to also have an apple tv  amp  fire stick but it is what it is at this point  lol\n",
      " amazonfiretv why do i have to reset my amazon fire tv stick every night   annoying\n",
      " directvnowhelp i started with my fire tv  then tried my fire stick  then tried my iphone  then tried my ipad   it didn t work on any of them so i m pretty sure it s not me   even while the program was playing i tried to get it to record on all four devices and it wouldn t \n"
     ]
    }
   ],
   "source": [
    "liste = one_star[\"new_content\"].head(10)\n",
    "for k in liste:\n",
    "    print(k)"
   ]
  },
  {
   "cell_type": "code",
   "execution_count": 61,
   "id": "9c5c3f9f-48c7-4e92-bcfa-184d2c4be231",
   "metadata": {},
   "outputs": [],
   "source": [
    "tweet_data[\"stars\"] = tweet_data[\"stars\"].astype(\"int64\")"
   ]
  },
  {
   "cell_type": "code",
   "execution_count": 62,
   "id": "c4e92508-c57b-4898-bba4-6d94deb06214",
   "metadata": {},
   "outputs": [
    {
     "name": "stdout",
     "output_type": "stream",
     "text": [
      "4.268476621417798\n"
     ]
    }
   ],
   "source": [
    "overall_tweet_rates = tweet_data[\"stars\"].mean()\n",
    "print(overall_tweet_rates)"
   ]
  },
  {
   "cell_type": "code",
   "execution_count": 64,
   "id": "97f24f54-dcac-4a4f-83e6-6ca192794bc9",
   "metadata": {},
   "outputs": [
    {
     "data": {
      "text/plain": [
       "array([2.])"
      ]
     },
     "execution_count": 64,
     "metadata": {},
     "output_type": "execute_result"
    }
   ],
   "source": [
    "sentence = \"I didn't like this product\"\n",
    "vec = tfidf.transform([sentence])\n",
    "clf.predict(vec)"
   ]
  },
  {
   "cell_type": "code",
   "execution_count": 65,
   "id": "c70f7812-8522-4dd8-be10-8bec5819429f",
   "metadata": {},
   "outputs": [
    {
     "data": {
      "text/plain": [
       "array([2.])"
      ]
     },
     "execution_count": 65,
     "metadata": {},
     "output_type": "execute_result"
    }
   ],
   "source": [
    "sentence = \"I didn't like, it is the worst one\"\n",
    "vec = tfidf.transform([sentence])\n",
    "clf.predict(vec)"
   ]
  },
  {
   "cell_type": "code",
   "execution_count": 90,
   "id": "83678b12-0dac-4a1f-96b1-63dc15a5a8f0",
   "metadata": {},
   "outputs": [
    {
     "data": {
      "text/plain": [
       "array([4.])"
      ]
     },
     "execution_count": 90,
     "metadata": {},
     "output_type": "execute_result"
    }
   ],
   "source": [
    "sentence = \"It worths its price\"\n",
    "vec = tfidf.transform([sentence])\n",
    "clf.predict(vec)"
   ]
  },
  {
   "cell_type": "code",
   "execution_count": 75,
   "id": "edff7d89-fc19-47c6-ac96-84daf7a7d2f7",
   "metadata": {},
   "outputs": [
    {
     "data": {
      "text/plain": [
       "array([5.])"
      ]
     },
     "execution_count": 75,
     "metadata": {},
     "output_type": "execute_result"
    }
   ],
   "source": [
    "sentence = \"I love the product, it's a great product\"\n",
    "vec = tfidf.transform([sentence])\n",
    "clf.predict(vec)"
   ]
  },
  {
   "cell_type": "code",
   "execution_count": 76,
   "id": "69822f41-d3d9-4afd-9360-2486b3a4daf9",
   "metadata": {},
   "outputs": [
    {
     "data": {
      "text/plain": [
       "array([1.])"
      ]
     },
     "execution_count": 76,
     "metadata": {},
     "output_type": "execute_result"
    }
   ],
   "source": [
    "sentence = \"Damn product, I want a refund.\"\n",
    "vec = tfidf.transform([sentence])\n",
    "clf.predict(vec)"
   ]
  },
  {
   "cell_type": "markdown",
   "id": "a4397fbb-8267-4e0e-81ee-e61306f45a8f",
   "metadata": {},
   "source": [
    "Pozitive - Negative -Neutral Tweets AND SENTIMENT ANALYZE"
   ]
  },
  {
   "cell_type": "code",
   "execution_count": 92,
   "id": "421e895a-90ad-42ef-a650-b7229e480e61",
   "metadata": {},
   "outputs": [],
   "source": [
    "from nltk.sentiment.vader import SentimentIntensityAnalyzer\n",
    "from vaderSentiment.vaderSentiment import SentimentIntensityAnalyzer\n",
    "from textblob import TextBlob\n",
    "import nltk"
   ]
  },
  {
   "cell_type": "code",
   "execution_count": 178,
   "id": "63982fd2-2223-4bc8-b27a-c18279f7d020",
   "metadata": {},
   "outputs": [],
   "source": [
    "positive = 0\n",
    "negative = 0\n",
    "neutral = 0\n",
    "polarity = 0\n",
    "tweet_list = []\n",
    "neutral_list = []\n",
    "negative_list = []\n",
    "positive_list = []\n",
    "\n",
    "for text in tweet_data[\"new_content\"]:\n",
    "#print(tweet.text)\n",
    "    tweet_list.append(text)\n",
    "    analysis = TextBlob(text)\n",
    "    score = SentimentIntensityAnalyzer().polarity_scores(text)\n",
    "    neg = score[\"neg\"]\n",
    "    neu = score[\"neu\"]\n",
    "    pos = score[\"pos\"]\n",
    "    comp = score[\"compound\"]\n",
    "    polarity += analysis.sentiment.polarity\n",
    " \n",
    "    if neg > pos:\n",
    "        negative_list.append(text)\n",
    "        negative += 1\n",
    "    elif pos > neg:\n",
    "        positive_list.append(text)\n",
    "        positive += 1\n",
    "    elif pos == neg:\n",
    "        neutral_list.append(text)\n",
    "        neutral += 1"
   ]
  },
  {
   "cell_type": "code",
   "execution_count": 179,
   "id": "b4f0d822-df4b-489e-98da-b90c95625e96",
   "metadata": {},
   "outputs": [
    {
     "name": "stdout",
     "output_type": "stream",
     "text": [
      "total number:  663\n",
      "positive number:  211\n",
      "negative number:  449\n",
      "neutral number:  3\n"
     ]
    }
   ],
   "source": [
    "#Number of Tweets (Total, Positive, Negative, Neutral)\n",
    "tweet_list = pd.DataFrame(tweet_list)\n",
    "neutral_list = pd.DataFrame(neutral_list)\n",
    "negative_list = pd.DataFrame(negative_list)\n",
    "positive_list = pd.DataFrame(positive_list)\n",
    "print(\"total number: \",len(tweet_list))\n",
    "print(\"positive number: \",len(positive_list))\n",
    "print(\"negative number: \", len(negative_list))\n",
    "print(\"neutral number: \",len(neutral_list))"
   ]
  },
  {
   "cell_type": "code",
   "execution_count": 181,
   "id": "d2e2757e-39ad-4677-ace5-3ab7b6590916",
   "metadata": {},
   "outputs": [
    {
     "data": {
      "image/png": "[encoded data removed]",
      "text/plain": [
       "<Figure size 640x480 with 1 Axes>"
      ]
     },
     "metadata": {},
     "output_type": "display_data"
    }
   ],
   "source": [
    "#Creating PieCart\n",
    "import matplotlib.pyplot as plt\n",
    "labels = [\"Positive\" , \"Neutral\",\"Negative\"]\n",
    "sizes = [positive, neutral, negative]\n",
    "colors = [\"yellowgreen\", \"blue\",\"red\"]\n",
    "plt.pie(sizes, labels=labels, colors=colors, startangle=90, explode=(0.1, 0.1, 0.1), autopct='%1.2f%%')\n",
    "plt.style.use(\"default\")\n",
    "plt.title(\"Sentiment Analysis Result for 4K Fire Stick Product Tweets\")\n",
    "plt.axis(\"equal\")\n",
    "plt.show()"
   ]
  },
  {
   "cell_type": "code",
   "execution_count": 183,
   "id": "306a1d76-4666-457d-b0f2-43e843d07d94",
   "metadata": {},
   "outputs": [
    {
     "data": {
      "text/html": [
       "<div>\n",
       "<style scoped>\n",
       "    .dataframe tbody tr th:only-of-type {\n",
       "        vertical-align: middle;\n",
       "    }\n",
       "\n",
       "    .dataframe tbody tr th {\n",
       "        vertical-align: top;\n",
       "    }\n",
       "\n",
       "    .dataframe thead th {\n",
       "        text-align: right;\n",
       "    }\n",
       "</style>\n",
       "<table border=\"1\" class=\"dataframe\">\n",
       "  <thead>\n",
       "    <tr style=\"text-align: right;\">\n",
       "      <th></th>\n",
       "      <th>Unnamed: 0</th>\n",
       "      <th>date</th>\n",
       "      <th>new_content</th>\n",
       "      <th>stars</th>\n",
       "      <th>polarity</th>\n",
       "      <th>subjectivity</th>\n",
       "      <th>sentiment</th>\n",
       "      <th>neg</th>\n",
       "      <th>neu</th>\n",
       "      <th>pos</th>\n",
       "      <th>compound</th>\n",
       "    </tr>\n",
       "  </thead>\n",
       "  <tbody>\n",
       "    <tr>\n",
       "      <th>2</th>\n",
       "      <td>2</td>\n",
       "      <td>2021-12-09 09:05:28+00:00</td>\n",
       "      <td>wlrosetyler yeah  i too love google chromecas...</td>\n",
       "      <td>4</td>\n",
       "      <td>-0.150000</td>\n",
       "      <td>0.750000</td>\n",
       "      <td>positive</td>\n",
       "      <td>NaN</td>\n",
       "      <td>NaN</td>\n",
       "      <td>NaN</td>\n",
       "      <td>NaN</td>\n",
       "    </tr>\n",
       "    <tr>\n",
       "      <th>5</th>\n",
       "      <td>5</td>\n",
       "      <td>2021-12-08 14:36:03+00:00</td>\n",
       "      <td>i have a new roku smart tv  but have a new ama...</td>\n",
       "      <td>5</td>\n",
       "      <td>0.162338</td>\n",
       "      <td>0.517316</td>\n",
       "      <td>negative</td>\n",
       "      <td>NaN</td>\n",
       "      <td>NaN</td>\n",
       "      <td>NaN</td>\n",
       "      <td>NaN</td>\n",
       "    </tr>\n",
       "    <tr>\n",
       "      <th>7</th>\n",
       "      <td>7</td>\n",
       "      <td>2021-12-08 02:44:45+00:00</td>\n",
       "      <td>nicolaweather with fire tv you can only acces...</td>\n",
       "      <td>5</td>\n",
       "      <td>0.187500</td>\n",
       "      <td>0.475000</td>\n",
       "      <td>negative</td>\n",
       "      <td>NaN</td>\n",
       "      <td>NaN</td>\n",
       "      <td>NaN</td>\n",
       "      <td>NaN</td>\n",
       "    </tr>\n",
       "    <tr>\n",
       "      <th>13</th>\n",
       "      <td>13</td>\n",
       "      <td>2021-12-07 20:14:36+00:00</td>\n",
       "      <td>a very handy feature of fire tv stick and fire...</td>\n",
       "      <td>2</td>\n",
       "      <td>0.526667</td>\n",
       "      <td>0.583333</td>\n",
       "      <td>negative</td>\n",
       "      <td>NaN</td>\n",
       "      <td>NaN</td>\n",
       "      <td>NaN</td>\n",
       "      <td>NaN</td>\n",
       "    </tr>\n",
       "    <tr>\n",
       "      <th>33</th>\n",
       "      <td>33</td>\n",
       "      <td>2021-12-07 01:40:51+00:00</td>\n",
       "      <td>the new  amazon fire tv stick layout is absolu...</td>\n",
       "      <td>5</td>\n",
       "      <td>0.168182</td>\n",
       "      <td>0.677273</td>\n",
       "      <td>negative</td>\n",
       "      <td>NaN</td>\n",
       "      <td>NaN</td>\n",
       "      <td>NaN</td>\n",
       "      <td>NaN</td>\n",
       "    </tr>\n",
       "    <tr>\n",
       "      <th>43</th>\n",
       "      <td>43</td>\n",
       "      <td>2021-12-05 23:26:53+00:00</td>\n",
       "      <td>well my google chromecast won t stream amazon ...</td>\n",
       "      <td>5</td>\n",
       "      <td>0.000000</td>\n",
       "      <td>0.000000</td>\n",
       "      <td>positive</td>\n",
       "      <td>NaN</td>\n",
       "      <td>NaN</td>\n",
       "      <td>NaN</td>\n",
       "      <td>NaN</td>\n",
       "    </tr>\n",
       "    <tr>\n",
       "      <th>46</th>\n",
       "      <td>46</td>\n",
       "      <td>2021-12-05 17:41:03+00:00</td>\n",
       "      <td>i was about to get some  amazonhelp fire tv st...</td>\n",
       "      <td>5</td>\n",
       "      <td>-0.192857</td>\n",
       "      <td>0.721429</td>\n",
       "      <td>negative</td>\n",
       "      <td>NaN</td>\n",
       "      <td>NaN</td>\n",
       "      <td>NaN</td>\n",
       "      <td>NaN</td>\n",
       "    </tr>\n",
       "    <tr>\n",
       "      <th>49</th>\n",
       "      <td>49</td>\n",
       "      <td>2021-12-05 00:49:24+00:00</td>\n",
       "      <td>doc revan this is a fire tv stick on an old t...</td>\n",
       "      <td>2</td>\n",
       "      <td>0.100000</td>\n",
       "      <td>0.200000</td>\n",
       "      <td>negative</td>\n",
       "      <td>NaN</td>\n",
       "      <td>NaN</td>\n",
       "      <td>NaN</td>\n",
       "      <td>NaN</td>\n",
       "    </tr>\n",
       "    <tr>\n",
       "      <th>66</th>\n",
       "      <td>66</td>\n",
       "      <td>2021-12-03 08:10:21+00:00</td>\n",
       "      <td>the other day i bought a amazon fire tv stick ...</td>\n",
       "      <td>4</td>\n",
       "      <td>-0.162500</td>\n",
       "      <td>0.237500</td>\n",
       "      <td>negative</td>\n",
       "      <td>NaN</td>\n",
       "      <td>NaN</td>\n",
       "      <td>NaN</td>\n",
       "      <td>NaN</td>\n",
       "    </tr>\n",
       "    <tr>\n",
       "      <th>75</th>\n",
       "      <td>75</td>\n",
       "      <td>2021-12-02 08:28:42+00:00</td>\n",
       "      <td>entering friends living room  ohh heyy nice t...</td>\n",
       "      <td>5</td>\n",
       "      <td>0.338095</td>\n",
       "      <td>0.647619</td>\n",
       "      <td>positive</td>\n",
       "      <td>NaN</td>\n",
       "      <td>NaN</td>\n",
       "      <td>NaN</td>\n",
       "      <td>NaN</td>\n",
       "    </tr>\n",
       "  </tbody>\n",
       "</table>\n",
       "</div>"
      ],
      "text/plain": [
       "    Unnamed: 0                       date  \\\n",
       "2            2  2021-12-09 09:05:28+00:00   \n",
       "5            5  2021-12-08 14:36:03+00:00   \n",
       "7            7  2021-12-08 02:44:45+00:00   \n",
       "13          13  2021-12-07 20:14:36+00:00   \n",
       "33          33  2021-12-07 01:40:51+00:00   \n",
       "43          43  2021-12-05 23:26:53+00:00   \n",
       "46          46  2021-12-05 17:41:03+00:00   \n",
       "49          49  2021-12-05 00:49:24+00:00   \n",
       "66          66  2021-12-03 08:10:21+00:00   \n",
       "75          75  2021-12-02 08:28:42+00:00   \n",
       "\n",
       "                                          new_content  stars  polarity  \\\n",
       "2    wlrosetyler yeah  i too love google chromecas...      4 -0.150000   \n",
       "5   i have a new roku smart tv  but have a new ama...      5  0.162338   \n",
       "7    nicolaweather with fire tv you can only acces...      5  0.187500   \n",
       "13  a very handy feature of fire tv stick and fire...      2  0.526667   \n",
       "33  the new  amazon fire tv stick layout is absolu...      5  0.168182   \n",
       "43  well my google chromecast won t stream amazon ...      5  0.000000   \n",
       "46  i was about to get some  amazonhelp fire tv st...      5 -0.192857   \n",
       "49   doc revan this is a fire tv stick on an old t...      2  0.100000   \n",
       "66  the other day i bought a amazon fire tv stick ...      4 -0.162500   \n",
       "75   entering friends living room  ohh heyy nice t...      5  0.338095   \n",
       "\n",
       "    subjectivity sentiment  neg  neu  pos  compound  \n",
       "2       0.750000  positive  NaN  NaN  NaN       NaN  \n",
       "5       0.517316  negative  NaN  NaN  NaN       NaN  \n",
       "7       0.475000  negative  NaN  NaN  NaN       NaN  \n",
       "13      0.583333  negative  NaN  NaN  NaN       NaN  \n",
       "33      0.677273  negative  NaN  NaN  NaN       NaN  \n",
       "43      0.000000  positive  NaN  NaN  NaN       NaN  \n",
       "46      0.721429  negative  NaN  NaN  NaN       NaN  \n",
       "49      0.200000  negative  NaN  NaN  NaN       NaN  \n",
       "66      0.237500  negative  NaN  NaN  NaN       NaN  \n",
       "75      0.647619  positive  NaN  NaN  NaN       NaN  "
      ]
     },
     "execution_count": 183,
     "metadata": {},
     "output_type": "execute_result"
    }
   ],
   "source": [
    "#Calculating Negative, Positive, Neutral and Compound values\n",
    "#polarity, subjectivity, sentiment, negative, positive, neutral and compound parameters.\n",
    "tweet_data[[\"polarity\", \"subjectivity\"]] = tweet_data[\"new_content\"].apply(lambda Text: pd.Series(TextBlob(Text).sentiment))\n",
    "for index, row in tweet_data[\"new_content\"].iteritems():\n",
    "    score = SentimentIntensityAnalyzer().polarity_scores(row)\n",
    "    neg = score[\"neg\"]\n",
    "    neu = score[\"neu\"]\n",
    "    pos = score[\"pos\"]\n",
    "    comp = score[\"compound\"]\n",
    "    if neg > pos:\n",
    "        tweet_data.loc[index, \"sentiment\"] = \"negative\"\n",
    "    elif pos > neg:\n",
    "        tweet_data.loc[index, \"sentiment\"] = \"positive\"\n",
    "    else:\n",
    "        tweet_data.loc[index, \"sentiment\"] = \"neutral\"\n",
    "        tweet_data.loc[index, \"neg\"] = neg\n",
    "        tweet_data.loc[index, \"neu\"] = neu\n",
    "        tweet_data.loc[index, \"pos\"] = pos\n",
    "        tweet_data.loc[index, \"compound\"] = comp\n",
    "tweet_data.head(10)"
   ]
  },
  {
   "cell_type": "markdown",
   "id": "45a21216-1c56-4713-ab37-ddfb50c2b737",
   "metadata": {},
   "source": [
    "We can split our dataset in 3 different dataset as positive, negative and neutral"
   ]
  },
  {
   "cell_type": "code",
   "execution_count": 184,
   "id": "0aa6589e-90db-462d-bfae-91f93c4e88a2",
   "metadata": {},
   "outputs": [],
   "source": [
    "tweet_data_negative = tweet_data[tweet_data[\"sentiment\"]==\"negative\"]\n",
    "tweet_data_positive = tweet_data[tweet_data[\"sentiment\"]==\"positive\"]\n",
    "tweet_data_neutral = tweet_data[tweet_data[\"sentiment\"]==\"neutral\"]"
   ]
  },
  {
   "cell_type": "markdown",
   "id": "22c4f6e5-b7fe-44e6-9579-a80be311db13",
   "metadata": {},
   "source": [
    "Count Values"
   ]
  },
  {
   "cell_type": "code",
   "execution_count": 185,
   "id": "406f381a-4ef9-4f9a-b3a2-b17c5df8e2ce",
   "metadata": {},
   "outputs": [
    {
     "data": {
      "text/html": [
       "<div>\n",
       "<style scoped>\n",
       "    .dataframe tbody tr th:only-of-type {\n",
       "        vertical-align: middle;\n",
       "    }\n",
       "\n",
       "    .dataframe tbody tr th {\n",
       "        vertical-align: top;\n",
       "    }\n",
       "\n",
       "    .dataframe thead th {\n",
       "        text-align: right;\n",
       "    }\n",
       "</style>\n",
       "<table border=\"1\" class=\"dataframe\">\n",
       "  <thead>\n",
       "    <tr style=\"text-align: right;\">\n",
       "      <th></th>\n",
       "      <th>Total</th>\n",
       "      <th>Percentage</th>\n",
       "    </tr>\n",
       "  </thead>\n",
       "  <tbody>\n",
       "    <tr>\n",
       "      <th>negative</th>\n",
       "      <td>449</td>\n",
       "      <td>67.72</td>\n",
       "    </tr>\n",
       "    <tr>\n",
       "      <th>positive</th>\n",
       "      <td>211</td>\n",
       "      <td>31.83</td>\n",
       "    </tr>\n",
       "    <tr>\n",
       "      <th>neutral</th>\n",
       "      <td>3</td>\n",
       "      <td>0.45</td>\n",
       "    </tr>\n",
       "  </tbody>\n",
       "</table>\n",
       "</div>"
      ],
      "text/plain": [
       "          Total  Percentage\n",
       "negative    449       67.72\n",
       "positive    211       31.83\n",
       "neutral       3        0.45"
      ]
     },
     "execution_count": 185,
     "metadata": {},
     "output_type": "execute_result"
    }
   ],
   "source": [
    "def column_count_values(data,feature):\n",
    "    total=data.loc[:,feature].value_counts(dropna=False)\n",
    "    percentage=round(data.loc[:,feature].value_counts(dropna=False,normalize=True)*100,2)\n",
    "    return pd.concat([total,percentage],axis=1,keys=[\"Total Tweets\",\"Percentage\"])\n",
    "#Count_values for sentiment\n",
    "column_count_values(tweet_data,\"sentiment\")"
   ]
  },
  {
   "cell_type": "code",
   "execution_count": 191,
   "id": "fa05b5c7-6c4a-4c42-bd2b-50647737e4a9",
   "metadata": {},
   "outputs": [
    {
     "data": {
      "image/png": "[encoded data removed]",
      "text/plain": [
       "<Figure size 640x480 with 1 Axes>"
      ]
     },
     "metadata": {},
     "output_type": "display_data"
    }
   ],
   "source": [
    "#Creating wordcloud for negative sentiment\n",
    "import numpy as np\n",
    "from PIL import Image\n",
    "from wordcloud import WordCloud\n",
    "\n",
    "\n",
    "text = \" \".join(review for review in tweet_data_negative.new_content)\n",
    "wordcloud = WordCloud(width = 1000, height = 1000, background_color=\"white\").generate(text)\n",
    "plt.imshow(wordcloud, interpolation=\"bilinear\")\n",
    "plt.axis(\"off\")\n",
    "plt.show()"
   ]
  },
  {
   "cell_type": "markdown",
   "id": "040d87e5-a3d1-4bee-8440-b4d684927151",
   "metadata": {},
   "source": [
    "Appliying Countvectorizer"
   ]
  },
  {
   "cell_type": "code",
   "execution_count": 193,
   "id": "7843a7ac-b683-413a-89a6-0ede480e4471",
   "metadata": {},
   "outputs": [
    {
     "name": "stdout",
     "output_type": "stream",
     "text": [
      "663 Number of reviews has 160 words\n"
     ]
    },
    {
     "name": "stderr",
     "output_type": "stream",
     "text": [
      "C:\\Users\\musta\\Anaconda3\\envs\\rstudio\\lib\\site-packages\\sklearn\\utils\\deprecation.py:87: FutureWarning: Function get_feature_names is deprecated; get_feature_names is deprecated in 1.0 and will be removed in 1.2. Please use get_feature_names_out instead.\n",
      "  warnings.warn(msg, category=FutureWarning)\n"
     ]
    },
    {
     "data": {
      "text/html": [
       "<div>\n",
       "<style scoped>\n",
       "    .dataframe tbody tr th:only-of-type {\n",
       "        vertical-align: middle;\n",
       "    }\n",
       "\n",
       "    .dataframe tbody tr th {\n",
       "        vertical-align: top;\n",
       "    }\n",
       "\n",
       "    .dataframe thead th {\n",
       "        text-align: right;\n",
       "    }\n",
       "</style>\n",
       "<table border=\"1\" class=\"dataframe\">\n",
       "  <thead>\n",
       "    <tr style=\"text-align: right;\">\n",
       "      <th></th>\n",
       "      <th>about</th>\n",
       "      <th>alexa</th>\n",
       "      <th>all</th>\n",
       "      <th>also</th>\n",
       "      <th>amazon</th>\n",
       "      <th>amazonhelp</th>\n",
       "      <th>amp</th>\n",
       "      <th>an</th>\n",
       "      <th>and</th>\n",
       "      <th>another</th>\n",
       "      <th>...</th>\n",
       "      <th>who</th>\n",
       "      <th>why</th>\n",
       "      <th>will</th>\n",
       "      <th>with</th>\n",
       "      <th>work</th>\n",
       "      <th>working</th>\n",
       "      <th>works</th>\n",
       "      <th>would</th>\n",
       "      <th>you</th>\n",
       "      <th>your</th>\n",
       "    </tr>\n",
       "  </thead>\n",
       "  <tbody>\n",
       "    <tr>\n",
       "      <th>0</th>\n",
       "      <td>0</td>\n",
       "      <td>0</td>\n",
       "      <td>0</td>\n",
       "      <td>0</td>\n",
       "      <td>0</td>\n",
       "      <td>0</td>\n",
       "      <td>0</td>\n",
       "      <td>0</td>\n",
       "      <td>1</td>\n",
       "      <td>0</td>\n",
       "      <td>...</td>\n",
       "      <td>0</td>\n",
       "      <td>0</td>\n",
       "      <td>0</td>\n",
       "      <td>2</td>\n",
       "      <td>0</td>\n",
       "      <td>0</td>\n",
       "      <td>0</td>\n",
       "      <td>0</td>\n",
       "      <td>0</td>\n",
       "      <td>0</td>\n",
       "    </tr>\n",
       "    <tr>\n",
       "      <th>1</th>\n",
       "      <td>0</td>\n",
       "      <td>0</td>\n",
       "      <td>0</td>\n",
       "      <td>1</td>\n",
       "      <td>1</td>\n",
       "      <td>0</td>\n",
       "      <td>0</td>\n",
       "      <td>0</td>\n",
       "      <td>1</td>\n",
       "      <td>0</td>\n",
       "      <td>...</td>\n",
       "      <td>0</td>\n",
       "      <td>0</td>\n",
       "      <td>0</td>\n",
       "      <td>0</td>\n",
       "      <td>0</td>\n",
       "      <td>0</td>\n",
       "      <td>0</td>\n",
       "      <td>0</td>\n",
       "      <td>0</td>\n",
       "      <td>0</td>\n",
       "    </tr>\n",
       "    <tr>\n",
       "      <th>2</th>\n",
       "      <td>0</td>\n",
       "      <td>0</td>\n",
       "      <td>0</td>\n",
       "      <td>0</td>\n",
       "      <td>1</td>\n",
       "      <td>0</td>\n",
       "      <td>0</td>\n",
       "      <td>0</td>\n",
       "      <td>1</td>\n",
       "      <td>0</td>\n",
       "      <td>...</td>\n",
       "      <td>0</td>\n",
       "      <td>0</td>\n",
       "      <td>0</td>\n",
       "      <td>2</td>\n",
       "      <td>0</td>\n",
       "      <td>0</td>\n",
       "      <td>0</td>\n",
       "      <td>0</td>\n",
       "      <td>2</td>\n",
       "      <td>1</td>\n",
       "    </tr>\n",
       "    <tr>\n",
       "      <th>3</th>\n",
       "      <td>0</td>\n",
       "      <td>0</td>\n",
       "      <td>0</td>\n",
       "      <td>0</td>\n",
       "      <td>0</td>\n",
       "      <td>0</td>\n",
       "      <td>0</td>\n",
       "      <td>0</td>\n",
       "      <td>1</td>\n",
       "      <td>0</td>\n",
       "      <td>...</td>\n",
       "      <td>0</td>\n",
       "      <td>0</td>\n",
       "      <td>0</td>\n",
       "      <td>1</td>\n",
       "      <td>0</td>\n",
       "      <td>0</td>\n",
       "      <td>0</td>\n",
       "      <td>0</td>\n",
       "      <td>1</td>\n",
       "      <td>0</td>\n",
       "    </tr>\n",
       "    <tr>\n",
       "      <th>4</th>\n",
       "      <td>0</td>\n",
       "      <td>0</td>\n",
       "      <td>0</td>\n",
       "      <td>0</td>\n",
       "      <td>1</td>\n",
       "      <td>0</td>\n",
       "      <td>0</td>\n",
       "      <td>0</td>\n",
       "      <td>0</td>\n",
       "      <td>0</td>\n",
       "      <td>...</td>\n",
       "      <td>0</td>\n",
       "      <td>0</td>\n",
       "      <td>0</td>\n",
       "      <td>0</td>\n",
       "      <td>0</td>\n",
       "      <td>0</td>\n",
       "      <td>0</td>\n",
       "      <td>0</td>\n",
       "      <td>0</td>\n",
       "      <td>0</td>\n",
       "    </tr>\n",
       "  </tbody>\n",
       "</table>\n",
       "<p>5 rows × 160 columns</p>\n",
       "</div>"
      ],
      "text/plain": [
       "   about  alexa  all  also  amazon  amazonhelp  amp  an  and  another  ...  \\\n",
       "0      0      0    0     0       0           0    0   0    1        0  ...   \n",
       "1      0      0    0     1       1           0    0   0    1        0  ...   \n",
       "2      0      0    0     0       1           0    0   0    1        0  ...   \n",
       "3      0      0    0     0       0           0    0   0    1        0  ...   \n",
       "4      0      0    0     0       1           0    0   0    0        0  ...   \n",
       "\n",
       "   who  why  will  with  work  working  works  would  you  your  \n",
       "0    0    0     0     2     0        0      0      0    0     0  \n",
       "1    0    0     0     0     0        0      0      0    0     0  \n",
       "2    0    0     0     2     0        0      0      0    2     1  \n",
       "3    0    0     0     1     0        0      0      0    1     0  \n",
       "4    0    0     0     0     0        0      0      0    0     0  \n",
       "\n",
       "[5 rows x 160 columns]"
      ]
     },
     "execution_count": 193,
     "metadata": {},
     "output_type": "execute_result"
    }
   ],
   "source": [
    "from sklearn.feature_extraction.text import CountVectorizer\n",
    "countVectorizer = CountVectorizer(min_df=10) # ignore terms that appeared in less than 4 documents \n",
    "countVector = countVectorizer.fit_transform(tweet_data[\"new_content\"])\n",
    "print(\"{} Number of reviews has {} words\".format(countVector.shape[0], countVector.shape[1]))\n",
    "\n",
    "count_vect_df = pd.DataFrame(countVector.toarray(), columns=countVectorizer.get_feature_names())\n",
    "count_vect_df.head()"
   ]
  },
  {
   "cell_type": "code",
   "execution_count": 194,
   "id": "04269256-4fb0-43ab-a270-ece89501c830",
   "metadata": {},
   "outputs": [],
   "source": [
    "# column_name = list(count_vect_df) >> getting all column names as list \n",
    "column_names = [x for x in list(count_vect_df) if len(x) > 4]"
   ]
  },
  {
   "cell_type": "markdown",
   "id": "443f4612-af09-4df8-88db-bd6609bcba7e",
   "metadata": {},
   "source": [
    "Most Used Words"
   ]
  },
  {
   "cell_type": "code",
   "execution_count": 195,
   "id": "4ec29f9a-a193-4145-b6e4-7cbe5d13b548",
   "metadata": {},
   "outputs": [
    {
     "data": {
      "text/html": [
       "<div>\n",
       "<style scoped>\n",
       "    .dataframe tbody tr th:only-of-type {\n",
       "        vertical-align: middle;\n",
       "    }\n",
       "\n",
       "    .dataframe tbody tr th {\n",
       "        vertical-align: top;\n",
       "    }\n",
       "\n",
       "    .dataframe thead th {\n",
       "        text-align: right;\n",
       "    }\n",
       "</style>\n",
       "<table border=\"1\" class=\"dataframe\">\n",
       "  <thead>\n",
       "    <tr style=\"text-align: right;\">\n",
       "      <th></th>\n",
       "      <th>0</th>\n",
       "    </tr>\n",
       "  </thead>\n",
       "  <tbody>\n",
       "    <tr>\n",
       "      <th>fire</th>\n",
       "      <td>730</td>\n",
       "    </tr>\n",
       "    <tr>\n",
       "      <th>stick</th>\n",
       "      <td>685</td>\n",
       "    </tr>\n",
       "    <tr>\n",
       "      <th>the</th>\n",
       "      <td>426</td>\n",
       "    </tr>\n",
       "    <tr>\n",
       "      <th>amazon</th>\n",
       "      <td>422</td>\n",
       "    </tr>\n",
       "    <tr>\n",
       "      <th>on</th>\n",
       "      <td>275</td>\n",
       "    </tr>\n",
       "    <tr>\n",
       "      <th>my</th>\n",
       "      <td>247</td>\n",
       "    </tr>\n",
       "    <tr>\n",
       "      <th>and</th>\n",
       "      <td>230</td>\n",
       "    </tr>\n",
       "    <tr>\n",
       "      <th>to</th>\n",
       "      <td>227</td>\n",
       "    </tr>\n",
       "    <tr>\n",
       "      <th>co</th>\n",
       "      <td>179</td>\n",
       "    </tr>\n",
       "    <tr>\n",
       "      <th>it</th>\n",
       "      <td>172</td>\n",
       "    </tr>\n",
       "  </tbody>\n",
       "</table>\n",
       "</div>"
      ],
      "text/plain": [
       "          0\n",
       "fire    730\n",
       "stick   685\n",
       "the     426\n",
       "amazon  422\n",
       "on      275\n",
       "my      247\n",
       "and     230\n",
       "to      227\n",
       "co      179\n",
       "it      172"
      ]
     },
     "execution_count": 195,
     "metadata": {},
     "output_type": "execute_result"
    }
   ],
   "source": [
    "count = pd.DataFrame(count_vect_df.sum())\n",
    "countdf = count.sort_values(0,ascending=False).head(20)\n",
    "countdf[1:11]"
   ]
  },
  {
   "cell_type": "markdown",
   "id": "f4f58dd9-c714-42e6-93bb-0c00124f8906",
   "metadata": {},
   "source": [
    "Working With N-Grams"
   ]
  },
  {
   "cell_type": "code",
   "execution_count": 199,
   "id": "0fd82e13-99c6-42d4-9dff-23f2b40f5e4d",
   "metadata": {},
   "outputs": [
    {
     "data": {
      "text/plain": [
       "[('tv stick', 622),\n",
       " ('amazon tv', 354),\n",
       " ('stick modified', 145),\n",
       " ('firestickfrank amazon', 80),\n",
       " ('order movie', 76),\n",
       " ('modified order', 76),\n",
       " ('movie demand', 74),\n",
       " ('demand rent', 74),\n",
       " ('rent redbox', 43),\n",
       " ('redbox movie', 43),\n",
       " ('modified install', 26),\n",
       " ('install configure', 24),\n",
       " ('configure program', 23),\n",
       " ('modified free', 21),\n",
       " ('free tech', 20),\n",
       " ('tech support', 19),\n",
       " ('got tv', 16),\n",
       " ('apple tv', 15),\n",
       " ('stick tv', 14),\n",
       " ('stick remote', 14)]"
      ]
     },
     "execution_count": 199,
     "metadata": {},
     "output_type": "execute_result"
    }
   ],
   "source": [
    "#Function to ngram\n",
    "def get_top_n_gram(corpus,ngram_range,n=None):\n",
    "    vec = CountVectorizer(ngram_range=ngram_range, stop_words = \"english\").fit(corpus)\n",
    "    bag_of_words = vec.transform(corpus)\n",
    "    sum_words = bag_of_words.sum(axis=0) \n",
    "    words_freq = [(word, sum_words[0, idx]) for word, idx in vec.vocabulary_.items()]\n",
    "    words_freq =sorted(words_freq, key = lambda x: x[1], reverse=True)\n",
    "    return words_freq[:n]\n",
    "#n2_bigram\n",
    "n2_bigrams = get_top_n_gram(tweet_data[\"new_content\"],(2,2),20)\n",
    "n2_bigrams"
   ]
  },
  {
   "cell_type": "code",
   "execution_count": 200,
   "id": "29a8e770-81dc-41dc-8f10-c85db9f96050",
   "metadata": {},
   "outputs": [
    {
     "data": {
      "text/plain": [
       "[('amazon tv stick', 343),\n",
       " ('tv stick modified', 145),\n",
       " ('firestickfrank amazon tv', 80),\n",
       " ('stick modified order', 76),\n",
       " ('modified order movie', 75),\n",
       " ('order movie demand', 74),\n",
       " ('movie demand rent', 74),\n",
       " ('demand rent redbox', 43),\n",
       " ('rent redbox movie', 43),\n",
       " ('stick modified install', 26),\n",
       " ('modified install configure', 24),\n",
       " ('install configure program', 23),\n",
       " ('stick modified free', 21),\n",
       " ('modified free tech', 20),\n",
       " ('free tech support', 19),\n",
       " ('got tv stick', 15),\n",
       " ('stick modified watch', 13),\n",
       " ('tv stick remote', 11),\n",
       " ('new tv stick', 11),\n",
       " ('new amazon tv', 8)]"
      ]
     },
     "execution_count": 200,
     "metadata": {},
     "output_type": "execute_result"
    }
   ],
   "source": [
    "n3_bigrams = get_top_n_gram(tweet_data[\"new_content\"],(3,3),20)\n",
    "n3_bigrams"
   ]
  },
  {
   "cell_type": "markdown",
   "id": "a5844c97-27cf-4d00-9f57-709147851f2d",
   "metadata": {},
   "source": [
    "AMAZON DATA SENTIMENT ANALYZE"
   ]
  },
  {
   "cell_type": "code",
   "execution_count": 93,
   "id": "2baa67c5-455e-41ca-bc24-fa5a247d14f0",
   "metadata": {},
   "outputs": [],
   "source": [
    "positive = 0\n",
    "negative = 0\n",
    "neutral = 0\n",
    "polarity = 0\n",
    "review_list = []\n",
    "neutral_list = []\n",
    "negative_list = []\n",
    "positive_list = []\n",
    "\n",
    "for text in amazon_data[\"Review\"]:\n",
    "#print(tweet.text)\n",
    "    review_list.append(text)\n",
    "    analysis = TextBlob(text)\n",
    "    score = SentimentIntensityAnalyzer().polarity_scores(text)\n",
    "    neg = score[\"neg\"]\n",
    "    neu = score[\"neu\"]\n",
    "    pos = score[\"pos\"]\n",
    "    comp = score[\"compound\"]\n",
    "    polarity += analysis.sentiment.polarity\n",
    " \n",
    "    if neg > pos:\n",
    "        negative_list.append(text)\n",
    "        negative += 1\n",
    "    elif pos > neg:\n",
    "        positive_list.append(text)\n",
    "        positive += 1\n",
    "    elif pos == neg:\n",
    "        neutral_list.append(text)\n",
    "        neutral += 1"
   ]
  },
  {
   "cell_type": "code",
   "execution_count": 94,
   "id": "b2a52e81-3dae-4800-bc70-663f56a9ad00",
   "metadata": {},
   "outputs": [
    {
     "name": "stdout",
     "output_type": "stream",
     "text": [
      "total number:  4882\n",
      "positive number:  3596\n",
      "negative number:  1263\n",
      "neutral number:  23\n"
     ]
    }
   ],
   "source": [
    "#Number of Tweets (Total, Positive, Negative, Neutral)\n",
    "review_list = pd.DataFrame(review_list)\n",
    "neutral_list = pd.DataFrame(neutral_list)\n",
    "negative_list = pd.DataFrame(negative_list)\n",
    "positive_list = pd.DataFrame(positive_list)\n",
    "print(\"total number: \",len(review_list))\n",
    "print(\"positive number: \",len(positive_list))\n",
    "print(\"negative number: \", len(negative_list))\n",
    "print(\"neutral number: \",len(neutral_list))"
   ]
  },
  {
   "cell_type": "code",
   "execution_count": 96,
   "id": "ea62d994-d43f-4120-911f-d55d78a8eb59",
   "metadata": {},
   "outputs": [
    {
     "data": {
      "image/png": "[encoded data removed]",
      "text/plain": [
       "<Figure size 640x480 with 1 Axes>"
      ]
     },
     "metadata": {},
     "output_type": "display_data"
    }
   ],
   "source": [
    "#Creating PieCart\n",
    "import matplotlib.pyplot as plt\n",
    "labels = [\"Positive\" , \"Neutral\",\"Negative\"]\n",
    "sizes = [positive, neutral, negative]\n",
    "colors = [\"yellowgreen\", \"blue\",\"red\"]\n",
    "plt.pie(sizes, labels=labels, colors=colors, startangle=90, explode=(0.1, 0.1, 0.1), autopct='%1.2f%%')\n",
    "plt.style.use(\"default\")\n",
    "plt.title(\"Sentiment Analysis Result for 4K Fire Stick Product Amazon Reviews\")\n",
    "plt.axis(\"equal\")\n",
    "plt.show()"
   ]
  },
  {
   "cell_type": "code",
   "execution_count": 97,
   "id": "6380ab77-1473-429c-b323-b237e456c298",
   "metadata": {},
   "outputs": [
    {
     "data": {
      "text/html": [
       "<div>\n",
       "<style scoped>\n",
       "    .dataframe tbody tr th:only-of-type {\n",
       "        vertical-align: middle;\n",
       "    }\n",
       "\n",
       "    .dataframe tbody tr th {\n",
       "        vertical-align: top;\n",
       "    }\n",
       "\n",
       "    .dataframe thead th {\n",
       "        text-align: right;\n",
       "    }\n",
       "</style>\n",
       "<table border=\"1\" class=\"dataframe\">\n",
       "  <thead>\n",
       "    <tr style=\"text-align: right;\">\n",
       "      <th></th>\n",
       "      <th>Unnamed: 0</th>\n",
       "      <th>Review</th>\n",
       "      <th>Rate</th>\n",
       "      <th>polarity</th>\n",
       "      <th>subjectivity</th>\n",
       "      <th>sentiment</th>\n",
       "      <th>neg</th>\n",
       "      <th>neu</th>\n",
       "      <th>pos</th>\n",
       "      <th>compound</th>\n",
       "    </tr>\n",
       "  </thead>\n",
       "  <tbody>\n",
       "    <tr>\n",
       "      <th>0</th>\n",
       "      <td>0</td>\n",
       "      <td>i received the fire tv stick 4k on launch ...</td>\n",
       "      <td>5</td>\n",
       "      <td>0.243158</td>\n",
       "      <td>0.495351</td>\n",
       "      <td>positive</td>\n",
       "      <td>NaN</td>\n",
       "      <td>NaN</td>\n",
       "      <td>NaN</td>\n",
       "      <td>NaN</td>\n",
       "    </tr>\n",
       "    <tr>\n",
       "      <th>1</th>\n",
       "      <td>1</td>\n",
       "      <td>let me tell you  i was super excited for t...</td>\n",
       "      <td>3</td>\n",
       "      <td>0.083609</td>\n",
       "      <td>0.470535</td>\n",
       "      <td>positive</td>\n",
       "      <td>NaN</td>\n",
       "      <td>NaN</td>\n",
       "      <td>NaN</td>\n",
       "      <td>NaN</td>\n",
       "    </tr>\n",
       "    <tr>\n",
       "      <th>2</th>\n",
       "      <td>2</td>\n",
       "      <td>your browser does not support h...</td>\n",
       "      <td>4</td>\n",
       "      <td>0.169131</td>\n",
       "      <td>0.454284</td>\n",
       "      <td>positive</td>\n",
       "      <td>NaN</td>\n",
       "      <td>NaN</td>\n",
       "      <td>NaN</td>\n",
       "      <td>NaN</td>\n",
       "    </tr>\n",
       "    <tr>\n",
       "      <th>3</th>\n",
       "      <td>3</td>\n",
       "      <td>ok  so if your like me you wonder what exa...</td>\n",
       "      <td>4</td>\n",
       "      <td>0.156886</td>\n",
       "      <td>0.403819</td>\n",
       "      <td>positive</td>\n",
       "      <td>NaN</td>\n",
       "      <td>NaN</td>\n",
       "      <td>NaN</td>\n",
       "      <td>NaN</td>\n",
       "    </tr>\n",
       "    <tr>\n",
       "      <th>4</th>\n",
       "      <td>4</td>\n",
       "      <td>our main streaming service is directv now ...</td>\n",
       "      <td>1</td>\n",
       "      <td>0.082316</td>\n",
       "      <td>0.378671</td>\n",
       "      <td>negative</td>\n",
       "      <td>NaN</td>\n",
       "      <td>NaN</td>\n",
       "      <td>NaN</td>\n",
       "      <td>NaN</td>\n",
       "    </tr>\n",
       "    <tr>\n",
       "      <th>5</th>\n",
       "      <td>5</td>\n",
       "      <td>i pre ordered this a few weeks ago  and it...</td>\n",
       "      <td>5</td>\n",
       "      <td>0.098687</td>\n",
       "      <td>0.431086</td>\n",
       "      <td>positive</td>\n",
       "      <td>NaN</td>\n",
       "      <td>NaN</td>\n",
       "      <td>NaN</td>\n",
       "      <td>NaN</td>\n",
       "    </tr>\n",
       "    <tr>\n",
       "      <th>6</th>\n",
       "      <td>6</td>\n",
       "      <td>i have tried it on 4 different tv s  toshi...</td>\n",
       "      <td>1</td>\n",
       "      <td>0.000000</td>\n",
       "      <td>0.362500</td>\n",
       "      <td>negative</td>\n",
       "      <td>NaN</td>\n",
       "      <td>NaN</td>\n",
       "      <td>NaN</td>\n",
       "      <td>NaN</td>\n",
       "    </tr>\n",
       "    <tr>\n",
       "      <th>7</th>\n",
       "      <td>7</td>\n",
       "      <td>i found the new 4k  hdr  firestick to func...</td>\n",
       "      <td>5</td>\n",
       "      <td>0.163149</td>\n",
       "      <td>0.556331</td>\n",
       "      <td>negative</td>\n",
       "      <td>NaN</td>\n",
       "      <td>NaN</td>\n",
       "      <td>NaN</td>\n",
       "      <td>NaN</td>\n",
       "    </tr>\n",
       "    <tr>\n",
       "      <th>8</th>\n",
       "      <td>8</td>\n",
       "      <td>so you ve heard about cutting the cord and...</td>\n",
       "      <td>1</td>\n",
       "      <td>0.011702</td>\n",
       "      <td>0.522061</td>\n",
       "      <td>negative</td>\n",
       "      <td>NaN</td>\n",
       "      <td>NaN</td>\n",
       "      <td>NaN</td>\n",
       "      <td>NaN</td>\n",
       "    </tr>\n",
       "    <tr>\n",
       "      <th>9</th>\n",
       "      <td>9</td>\n",
       "      <td>just writing this review after getting off...</td>\n",
       "      <td>1</td>\n",
       "      <td>-0.054697</td>\n",
       "      <td>0.365455</td>\n",
       "      <td>positive</td>\n",
       "      <td>NaN</td>\n",
       "      <td>NaN</td>\n",
       "      <td>NaN</td>\n",
       "      <td>NaN</td>\n",
       "    </tr>\n",
       "  </tbody>\n",
       "</table>\n",
       "</div>"
      ],
      "text/plain": [
       "   Unnamed: 0                                             Review Rate  \\\n",
       "0           0      i received the fire tv stick 4k on launch ...    5   \n",
       "1           1      let me tell you  i was super excited for t...    3   \n",
       "2           2                 your browser does not support h...    4   \n",
       "3           3      ok  so if your like me you wonder what exa...    4   \n",
       "4           4      our main streaming service is directv now ...    1   \n",
       "5           5      i pre ordered this a few weeks ago  and it...    5   \n",
       "6           6      i have tried it on 4 different tv s  toshi...    1   \n",
       "7           7      i found the new 4k  hdr  firestick to func...    5   \n",
       "8           8      so you ve heard about cutting the cord and...    1   \n",
       "9           9      just writing this review after getting off...    1   \n",
       "\n",
       "   polarity  subjectivity sentiment  neg  neu  pos  compound  \n",
       "0  0.243158      0.495351  positive  NaN  NaN  NaN       NaN  \n",
       "1  0.083609      0.470535  positive  NaN  NaN  NaN       NaN  \n",
       "2  0.169131      0.454284  positive  NaN  NaN  NaN       NaN  \n",
       "3  0.156886      0.403819  positive  NaN  NaN  NaN       NaN  \n",
       "4  0.082316      0.378671  negative  NaN  NaN  NaN       NaN  \n",
       "5  0.098687      0.431086  positive  NaN  NaN  NaN       NaN  \n",
       "6  0.000000      0.362500  negative  NaN  NaN  NaN       NaN  \n",
       "7  0.163149      0.556331  negative  NaN  NaN  NaN       NaN  \n",
       "8  0.011702      0.522061  negative  NaN  NaN  NaN       NaN  \n",
       "9 -0.054697      0.365455  positive  NaN  NaN  NaN       NaN  "
      ]
     },
     "execution_count": 97,
     "metadata": {},
     "output_type": "execute_result"
    }
   ],
   "source": [
    "#Calculating Negative, Positive, Neutral and Compound values\n",
    "#polarity, subjectivity, sentiment, negative, positive, neutral and compound parameters.\n",
    "amazon_data[[\"polarity\", \"subjectivity\"]] = amazon_data[\"Review\"].apply(lambda Text: pd.Series(TextBlob(Text).sentiment))\n",
    "for index, row in amazon_data[\"Review\"].iteritems():\n",
    "    score = SentimentIntensityAnalyzer().polarity_scores(row)\n",
    "    neg = score[\"neg\"]\n",
    "    neu = score[\"neu\"]\n",
    "    pos = score[\"pos\"]\n",
    "    comp = score[\"compound\"]\n",
    "    if neg > pos:\n",
    "        amazon_data.loc[index, \"sentiment\"] = \"negative\"\n",
    "    elif pos > neg:\n",
    "        amazon_data.loc[index, \"sentiment\"] = \"positive\"\n",
    "    else:\n",
    "        amazon_data.loc[index, \"sentiment\"] = \"neutral\"\n",
    "        amazon_data.loc[index, \"neg\"] = neg\n",
    "        amazon_data.loc[index, \"neu\"] = neu\n",
    "        amazon_data.loc[index, \"pos\"] = pos\n",
    "        amazon_data.loc[index, \"compound\"] = comp\n",
    "amazon_data.head(10)"
   ]
  },
  {
   "cell_type": "code",
   "execution_count": 98,
   "id": "ff0a4190-7a0c-4288-8ff7-69c860fce86f",
   "metadata": {},
   "outputs": [],
   "source": [
    "amazon_data_negative = amazon_data[amazon_data[\"sentiment\"]==\"negative\"]\n",
    "amazon_data_positive = amazon_data[amazon_data[\"sentiment\"]==\"positive\"]\n",
    "amazon_data_neutral = amazon_data[amazon_data[\"sentiment\"]==\"neutral\"]"
   ]
  },
  {
   "cell_type": "code",
   "execution_count": 99,
   "id": "eeda5410-7715-46ff-9b03-583f9f3996a7",
   "metadata": {},
   "outputs": [
    {
     "data": {
      "text/html": [
       "<div>\n",
       "<style scoped>\n",
       "    .dataframe tbody tr th:only-of-type {\n",
       "        vertical-align: middle;\n",
       "    }\n",
       "\n",
       "    .dataframe tbody tr th {\n",
       "        vertical-align: top;\n",
       "    }\n",
       "\n",
       "    .dataframe thead th {\n",
       "        text-align: right;\n",
       "    }\n",
       "</style>\n",
       "<table border=\"1\" class=\"dataframe\">\n",
       "  <thead>\n",
       "    <tr style=\"text-align: right;\">\n",
       "      <th></th>\n",
       "      <th>Total Reviews</th>\n",
       "      <th>Percentage</th>\n",
       "    </tr>\n",
       "  </thead>\n",
       "  <tbody>\n",
       "    <tr>\n",
       "      <th>positive</th>\n",
       "      <td>3596</td>\n",
       "      <td>73.66</td>\n",
       "    </tr>\n",
       "    <tr>\n",
       "      <th>negative</th>\n",
       "      <td>1263</td>\n",
       "      <td>25.87</td>\n",
       "    </tr>\n",
       "    <tr>\n",
       "      <th>neutral</th>\n",
       "      <td>23</td>\n",
       "      <td>0.47</td>\n",
       "    </tr>\n",
       "  </tbody>\n",
       "</table>\n",
       "</div>"
      ],
      "text/plain": [
       "          Total Reviews  Percentage\n",
       "positive           3596       73.66\n",
       "negative           1263       25.87\n",
       "neutral              23        0.47"
      ]
     },
     "execution_count": 99,
     "metadata": {},
     "output_type": "execute_result"
    }
   ],
   "source": [
    "def column_count_values(data,feature):\n",
    "    total=data.loc[:,feature].value_counts(dropna=False)\n",
    "    percentage=round(data.loc[:,feature].value_counts(dropna=False,normalize=True)*100,2)\n",
    "    return pd.concat([total,percentage],axis=1,keys=[\"Total Reviews\",\"Percentage\"])\n",
    "#Count_values for sentiment\n",
    "column_count_values(amazon_data,\"sentiment\")"
   ]
  },
  {
   "cell_type": "code",
   "execution_count": 101,
   "id": "f16139e8-c5f5-40dc-b9f1-56653adee18c",
   "metadata": {},
   "outputs": [
    {
     "data": {
      "image/png": "[encoded data removed]",
      "text/plain": [
       "<Figure size 640x480 with 1 Axes>"
      ]
     },
     "metadata": {},
     "output_type": "display_data"
    }
   ],
   "source": [
    "#Creating wordcloud for negative sentiment\n",
    "import numpy as np\n",
    "from PIL import Image\n",
    "from wordcloud import WordCloud\n",
    "\n",
    "\n",
    "text = \" \".join(review for review in amazon_data_negative.Review)\n",
    "wordcloud = WordCloud(width = 1000, height = 1000, background_color=\"white\").generate(text)\n",
    "plt.imshow(wordcloud, interpolation=\"bilinear\")\n",
    "plt.axis(\"off\")\n",
    "plt.show()"
   ]
  },
  {
   "cell_type": "code",
   "execution_count": 102,
   "id": "6e6c3f02-1187-4541-852e-3046c2a13494",
   "metadata": {},
   "outputs": [
    {
     "name": "stdout",
     "output_type": "stream",
     "text": [
      "4882 Number of reviews has 3041 words\n"
     ]
    },
    {
     "name": "stderr",
     "output_type": "stream",
     "text": [
      "C:\\Users\\musta\\Anaconda3\\envs\\rstudio\\lib\\site-packages\\sklearn\\utils\\deprecation.py:87: FutureWarning: Function get_feature_names is deprecated; get_feature_names is deprecated in 1.0 and will be removed in 1.2. Please use get_feature_names_out instead.\n",
      "  warnings.warn(msg, category=FutureWarning)\n"
     ]
    },
    {
     "data": {
      "text/html": [
       "<div>\n",
       "<style scoped>\n",
       "    .dataframe tbody tr th:only-of-type {\n",
       "        vertical-align: middle;\n",
       "    }\n",
       "\n",
       "    .dataframe tbody tr th {\n",
       "        vertical-align: top;\n",
       "    }\n",
       "\n",
       "    .dataframe thead th {\n",
       "        text-align: right;\n",
       "    }\n",
       "</style>\n",
       "<table border=\"1\" class=\"dataframe\">\n",
       "  <thead>\n",
       "    <tr style=\"text-align: right;\">\n",
       "      <th></th>\n",
       "      <th>00</th>\n",
       "      <th>000</th>\n",
       "      <th>10</th>\n",
       "      <th>100</th>\n",
       "      <th>1080</th>\n",
       "      <th>1080p</th>\n",
       "      <th>11</th>\n",
       "      <th>12</th>\n",
       "      <th>120</th>\n",
       "      <th>13</th>\n",
       "      <th>...</th>\n",
       "      <th>yet</th>\n",
       "      <th>you</th>\n",
       "      <th>young</th>\n",
       "      <th>your</th>\n",
       "      <th>yourself</th>\n",
       "      <th>youtube</th>\n",
       "      <th>youtubetv</th>\n",
       "      <th>yr</th>\n",
       "      <th>yrs</th>\n",
       "      <th>zero</th>\n",
       "    </tr>\n",
       "  </thead>\n",
       "  <tbody>\n",
       "    <tr>\n",
       "      <th>0</th>\n",
       "      <td>0</td>\n",
       "      <td>0</td>\n",
       "      <td>0</td>\n",
       "      <td>0</td>\n",
       "      <td>0</td>\n",
       "      <td>0</td>\n",
       "      <td>0</td>\n",
       "      <td>0</td>\n",
       "      <td>0</td>\n",
       "      <td>0</td>\n",
       "      <td>...</td>\n",
       "      <td>0</td>\n",
       "      <td>3</td>\n",
       "      <td>0</td>\n",
       "      <td>0</td>\n",
       "      <td>0</td>\n",
       "      <td>0</td>\n",
       "      <td>0</td>\n",
       "      <td>0</td>\n",
       "      <td>0</td>\n",
       "      <td>0</td>\n",
       "    </tr>\n",
       "    <tr>\n",
       "      <th>1</th>\n",
       "      <td>0</td>\n",
       "      <td>0</td>\n",
       "      <td>0</td>\n",
       "      <td>0</td>\n",
       "      <td>0</td>\n",
       "      <td>0</td>\n",
       "      <td>0</td>\n",
       "      <td>0</td>\n",
       "      <td>0</td>\n",
       "      <td>0</td>\n",
       "      <td>...</td>\n",
       "      <td>0</td>\n",
       "      <td>8</td>\n",
       "      <td>0</td>\n",
       "      <td>0</td>\n",
       "      <td>0</td>\n",
       "      <td>0</td>\n",
       "      <td>0</td>\n",
       "      <td>0</td>\n",
       "      <td>0</td>\n",
       "      <td>0</td>\n",
       "    </tr>\n",
       "    <tr>\n",
       "      <th>2</th>\n",
       "      <td>0</td>\n",
       "      <td>0</td>\n",
       "      <td>4</td>\n",
       "      <td>4</td>\n",
       "      <td>0</td>\n",
       "      <td>1</td>\n",
       "      <td>1</td>\n",
       "      <td>1</td>\n",
       "      <td>0</td>\n",
       "      <td>0</td>\n",
       "      <td>...</td>\n",
       "      <td>1</td>\n",
       "      <td>38</td>\n",
       "      <td>0</td>\n",
       "      <td>8</td>\n",
       "      <td>0</td>\n",
       "      <td>3</td>\n",
       "      <td>0</td>\n",
       "      <td>0</td>\n",
       "      <td>0</td>\n",
       "      <td>0</td>\n",
       "    </tr>\n",
       "    <tr>\n",
       "      <th>3</th>\n",
       "      <td>0</td>\n",
       "      <td>0</td>\n",
       "      <td>0</td>\n",
       "      <td>0</td>\n",
       "      <td>0</td>\n",
       "      <td>0</td>\n",
       "      <td>0</td>\n",
       "      <td>0</td>\n",
       "      <td>0</td>\n",
       "      <td>0</td>\n",
       "      <td>...</td>\n",
       "      <td>1</td>\n",
       "      <td>18</td>\n",
       "      <td>0</td>\n",
       "      <td>5</td>\n",
       "      <td>0</td>\n",
       "      <td>0</td>\n",
       "      <td>0</td>\n",
       "      <td>0</td>\n",
       "      <td>2</td>\n",
       "      <td>0</td>\n",
       "    </tr>\n",
       "    <tr>\n",
       "      <th>4</th>\n",
       "      <td>0</td>\n",
       "      <td>0</td>\n",
       "      <td>0</td>\n",
       "      <td>0</td>\n",
       "      <td>0</td>\n",
       "      <td>0</td>\n",
       "      <td>0</td>\n",
       "      <td>0</td>\n",
       "      <td>0</td>\n",
       "      <td>0</td>\n",
       "      <td>...</td>\n",
       "      <td>1</td>\n",
       "      <td>0</td>\n",
       "      <td>0</td>\n",
       "      <td>0</td>\n",
       "      <td>0</td>\n",
       "      <td>0</td>\n",
       "      <td>0</td>\n",
       "      <td>0</td>\n",
       "      <td>0</td>\n",
       "      <td>0</td>\n",
       "    </tr>\n",
       "  </tbody>\n",
       "</table>\n",
       "<p>5 rows × 3041 columns</p>\n",
       "</div>"
      ],
      "text/plain": [
       "   00  000  10  100  1080  1080p  11  12  120  13  ...  yet  you  young  your  \\\n",
       "0   0    0   0    0     0      0   0   0    0   0  ...    0    3      0     0   \n",
       "1   0    0   0    0     0      0   0   0    0   0  ...    0    8      0     0   \n",
       "2   0    0   4    4     0      1   1   1    0   0  ...    1   38      0     8   \n",
       "3   0    0   0    0     0      0   0   0    0   0  ...    1   18      0     5   \n",
       "4   0    0   0    0     0      0   0   0    0   0  ...    1    0      0     0   \n",
       "\n",
       "   yourself  youtube  youtubetv  yr  yrs  zero  \n",
       "0         0        0          0   0    0     0  \n",
       "1         0        0          0   0    0     0  \n",
       "2         0        3          0   0    0     0  \n",
       "3         0        0          0   0    2     0  \n",
       "4         0        0          0   0    0     0  \n",
       "\n",
       "[5 rows x 3041 columns]"
      ]
     },
     "execution_count": 102,
     "metadata": {},
     "output_type": "execute_result"
    }
   ],
   "source": [
    "from sklearn.feature_extraction.text import CountVectorizer\n",
    "countVectorizer = CountVectorizer(min_df=10) # ignore terms that appeared in less than 4 documents \n",
    "countVector = countVectorizer.fit_transform(amazon_data[\"Review\"])\n",
    "print(\"{} Number of reviews has {} words\".format(countVector.shape[0], countVector.shape[1]))\n",
    "\n",
    "count_vect_df = pd.DataFrame(countVector.toarray(), columns=countVectorizer.get_feature_names())\n",
    "count_vect_df.head()"
   ]
  },
  {
   "cell_type": "code",
   "execution_count": 103,
   "id": "585d1022-2d39-4cda-844e-4d1cc88f4789",
   "metadata": {},
   "outputs": [],
   "source": [
    "# column_name = list(count_vect_df) >> getting all column names as list \n",
    "column_names = [x for x in list(count_vect_df) if len(x) > 4]"
   ]
  },
  {
   "cell_type": "code",
   "execution_count": 104,
   "id": "e2399324-d21d-47a4-97d4-7d88fcc2fe0a",
   "metadata": {},
   "outputs": [
    {
     "data": {
      "text/html": [
       "<div>\n",
       "<style scoped>\n",
       "    .dataframe tbody tr th:only-of-type {\n",
       "        vertical-align: middle;\n",
       "    }\n",
       "\n",
       "    .dataframe tbody tr th {\n",
       "        vertical-align: top;\n",
       "    }\n",
       "\n",
       "    .dataframe thead th {\n",
       "        text-align: right;\n",
       "    }\n",
       "</style>\n",
       "<table border=\"1\" class=\"dataframe\">\n",
       "  <thead>\n",
       "    <tr style=\"text-align: right;\">\n",
       "      <th></th>\n",
       "      <th>0</th>\n",
       "    </tr>\n",
       "  </thead>\n",
       "  <tbody>\n",
       "    <tr>\n",
       "      <th>to</th>\n",
       "      <td>24724</td>\n",
       "    </tr>\n",
       "    <tr>\n",
       "      <th>and</th>\n",
       "      <td>21181</td>\n",
       "    </tr>\n",
       "    <tr>\n",
       "      <th>it</th>\n",
       "      <td>18477</td>\n",
       "    </tr>\n",
       "    <tr>\n",
       "      <th>is</th>\n",
       "      <td>10994</td>\n",
       "    </tr>\n",
       "    <tr>\n",
       "      <th>tv</th>\n",
       "      <td>9876</td>\n",
       "    </tr>\n",
       "    <tr>\n",
       "      <th>of</th>\n",
       "      <td>8968</td>\n",
       "    </tr>\n",
       "    <tr>\n",
       "      <th>my</th>\n",
       "      <td>8856</td>\n",
       "    </tr>\n",
       "    <tr>\n",
       "      <th>that</th>\n",
       "      <td>8375</td>\n",
       "    </tr>\n",
       "    <tr>\n",
       "      <th>for</th>\n",
       "      <td>8100</td>\n",
       "    </tr>\n",
       "    <tr>\n",
       "      <th>on</th>\n",
       "      <td>7996</td>\n",
       "    </tr>\n",
       "  </tbody>\n",
       "</table>\n",
       "</div>"
      ],
      "text/plain": [
       "          0\n",
       "to    24724\n",
       "and   21181\n",
       "it    18477\n",
       "is    10994\n",
       "tv     9876\n",
       "of     8968\n",
       "my     8856\n",
       "that   8375\n",
       "for    8100\n",
       "on     7996"
      ]
     },
     "execution_count": 104,
     "metadata": {},
     "output_type": "execute_result"
    }
   ],
   "source": [
    "count = pd.DataFrame(count_vect_df.sum())\n",
    "countdf = count.sort_values(0,ascending=False).head(20)\n",
    "countdf[1:11]"
   ]
  },
  {
   "cell_type": "code",
   "execution_count": 105,
   "id": "413032f3-1d48-4c51-a6f0-8deaa439247e",
   "metadata": {},
   "outputs": [
    {
     "data": {
      "text/plain": [
       "[('tv stick', 1193),\n",
       " ('stick 4k', 641),\n",
       " ('smart tv', 634),\n",
       " ('4k stick', 560),\n",
       " ('amazon prime', 538),\n",
       " ('apple tv', 476),\n",
       " ('4k tv', 379),\n",
       " ('prime video', 353),\n",
       " ('customer service', 302),\n",
       " ('works great', 271),\n",
       " ('tv remote', 262),\n",
       " ('turn tv', 258),\n",
       " ('picture quality', 257),\n",
       " ('voice recognition', 252),\n",
       " ('home screen', 249),\n",
       " ('streaming device', 229),\n",
       " ('easy use', 216),\n",
       " ('remote control', 214),\n",
       " ('streaming services', 212),\n",
       " ('firestick 4k', 212)]"
      ]
     },
     "execution_count": 105,
     "metadata": {},
     "output_type": "execute_result"
    }
   ],
   "source": [
    "#Function to ngram\n",
    "def get_top_n_gram(corpus,ngram_range,n=None):\n",
    "    vec = CountVectorizer(ngram_range=ngram_range, stop_words = \"english\").fit(corpus)\n",
    "    bag_of_words = vec.transform(corpus)\n",
    "    sum_words = bag_of_words.sum(axis=0) \n",
    "    words_freq = [(word, sum_words[0, idx]) for word, idx in vec.vocabulary_.items()]\n",
    "    words_freq =sorted(words_freq, key = lambda x: x[1], reverse=True)\n",
    "    return words_freq[:n]\n",
    "#n2_bigram\n",
    "n2_bigrams = get_top_n_gram(amazon_data[\"Review\"],(2,2),20)\n",
    "n2_bigrams"
   ]
  },
  {
   "cell_type": "code",
   "execution_count": 106,
   "id": "641faa7d-80e4-4c34-bbb7-05d3f6d865a2",
   "metadata": {},
   "outputs": [
    {
     "data": {
      "text/plain": [
       "[('tv stick 4k', 324),\n",
       " ('amazon prime video', 84),\n",
       " ('amazon tv stick', 70),\n",
       " ('samsung smart tv', 62),\n",
       " ('amazon customer service', 62),\n",
       " ('4k tv stick', 59),\n",
       " ('don 4k tv', 51),\n",
       " ('new tv stick', 48),\n",
       " ('new 4k stick', 47),\n",
       " ('netflix amazon prime', 46),\n",
       " ('amazon tech support', 46),\n",
       " ('blu ray player', 45),\n",
       " ('prime video app', 42),\n",
       " ('apple tv 4k', 42),\n",
       " ('alexa voice remote', 42),\n",
       " ('tv sound bar', 42),\n",
       " ('tv smart tv', 40),\n",
       " ('remote turn tv', 38),\n",
       " ('voice recognition alexa', 36),\n",
       " ('movies tv shows', 35)]"
      ]
     },
     "execution_count": 106,
     "metadata": {},
     "output_type": "execute_result"
    }
   ],
   "source": [
    "n3_bigrams = get_top_n_gram(amazon_data[\"Review\"],(3,3),20)\n",
    "n3_bigrams"
   ]
  },
  {
   "cell_type": "code",
   "execution_count": null,
   "id": "e2569137-1011-4d6a-901b-850b186df32f",
   "metadata": {},
   "outputs": [],
   "source": []
  }
 ],
 "metadata": {
  "kernelspec": {
   "display_name": "Python 3 (ipykernel)",
   "language": "python",
   "name": "python3"
  },
  "language_info": {
   "codemirror_mode": {
    "name": "ipython",
    "version": 3
   },
   "file_extension": ".py",
   "mimetype": "text/x-python",
   "name": "python",
   "nbconvert_exporter": "python",
   "pygments_lexer": "ipython3",
   "version": "3.7.1"
  }
 },
 "nbformat": 4,
 "nbformat_minor": 5
}
